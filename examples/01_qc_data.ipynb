{
 "cells": [
  {
   "cell_type": "markdown",
   "metadata": {},
   "source": [
    "## Quality Check Diagnostic Work\n",
    "\n",
    "This notebook illustrates some quality control steps that should be considered when analyzing a new dataset. In this example we'll use the `WindToolKitQualityControlDiagnosticSuite` class to automate some of the QC analysis for SCADA data.\n",
    "\n",
    "The `WindToolKitQualityDiagnosticSuite` is a subclass of the `QualityControlDiagnosticSuite` that adds additional methods for the use of the NREL WindToolKit database in addition to all the base QC methods."
   ]
  },
  {
   "cell_type": "markdown",
   "metadata": {},
   "source": [
    "### Step 1: Load in Data\n",
    "\n",
    "To load in the data, we can either preload the data, or pass in a full file path and have the QC class import the data file. We'll import the data first to give a glimpse into what the data look like."
   ]
  },
  {
   "cell_type": "code",
   "execution_count": 1,
   "metadata": {},
   "outputs": [],
   "source": [
    "%load_ext autoreload\n",
    "%autoreload 2"
   ]
  },
  {
   "cell_type": "code",
   "execution_count": 2,
   "metadata": {},
   "outputs": [],
   "source": [
    "import numpy as np\n",
    "import pandas as pd\n",
    "\n",
    "from operational_analysis.methods.quality_check_automation import WindToolKitQualityControlDiagnosticSuite as QC"
   ]
  },
  {
   "cell_type": "code",
   "execution_count": 3,
   "metadata": {},
   "outputs": [],
   "source": [
    "scada_df = pd.read_csv('./data/la_haute_borne/la-haute-borne-data-2014-2015.csv')"
   ]
  },
  {
   "cell_type": "code",
   "execution_count": 4,
   "metadata": {},
   "outputs": [
    {
     "data": {
      "text/html": [
       "<div>\n",
       "<style scoped>\n",
       "    .dataframe tbody tr th:only-of-type {\n",
       "        vertical-align: middle;\n",
       "    }\n",
       "\n",
       "    .dataframe tbody tr th {\n",
       "        vertical-align: top;\n",
       "    }\n",
       "\n",
       "    .dataframe thead th {\n",
       "        text-align: right;\n",
       "    }\n",
       "</style>\n",
       "<table border=\"1\" class=\"dataframe\">\n",
       "  <thead>\n",
       "    <tr style=\"text-align: right;\">\n",
       "      <th></th>\n",
       "      <th>Wind_turbine_name</th>\n",
       "      <th>Date_time</th>\n",
       "      <th>Ba_avg</th>\n",
       "      <th>P_avg</th>\n",
       "      <th>Ws_avg</th>\n",
       "      <th>Va_avg</th>\n",
       "      <th>Ot_avg</th>\n",
       "      <th>Ya_avg</th>\n",
       "      <th>Wa_avg</th>\n",
       "    </tr>\n",
       "  </thead>\n",
       "  <tbody>\n",
       "    <tr>\n",
       "      <th>0</th>\n",
       "      <td>R80736</td>\n",
       "      <td>2014-01-01T01:00:00+01:00</td>\n",
       "      <td>-1.00</td>\n",
       "      <td>642.78003</td>\n",
       "      <td>7.12</td>\n",
       "      <td>0.66</td>\n",
       "      <td>4.69</td>\n",
       "      <td>181.34000</td>\n",
       "      <td>182.00999</td>\n",
       "    </tr>\n",
       "    <tr>\n",
       "      <th>1</th>\n",
       "      <td>R80721</td>\n",
       "      <td>2014-01-01T01:00:00+01:00</td>\n",
       "      <td>-1.01</td>\n",
       "      <td>441.06000</td>\n",
       "      <td>6.39</td>\n",
       "      <td>-2.48</td>\n",
       "      <td>4.94</td>\n",
       "      <td>179.82001</td>\n",
       "      <td>177.36000</td>\n",
       "    </tr>\n",
       "    <tr>\n",
       "      <th>2</th>\n",
       "      <td>R80790</td>\n",
       "      <td>2014-01-01T01:00:00+01:00</td>\n",
       "      <td>-0.96</td>\n",
       "      <td>658.53003</td>\n",
       "      <td>7.11</td>\n",
       "      <td>1.07</td>\n",
       "      <td>4.55</td>\n",
       "      <td>172.39000</td>\n",
       "      <td>173.50999</td>\n",
       "    </tr>\n",
       "    <tr>\n",
       "      <th>3</th>\n",
       "      <td>R80711</td>\n",
       "      <td>2014-01-01T01:00:00+01:00</td>\n",
       "      <td>-0.93</td>\n",
       "      <td>514.23999</td>\n",
       "      <td>6.87</td>\n",
       "      <td>6.95</td>\n",
       "      <td>4.30</td>\n",
       "      <td>172.77000</td>\n",
       "      <td>179.72000</td>\n",
       "    </tr>\n",
       "    <tr>\n",
       "      <th>4</th>\n",
       "      <td>R80790</td>\n",
       "      <td>2014-01-01T01:10:00+01:00</td>\n",
       "      <td>-0.96</td>\n",
       "      <td>640.23999</td>\n",
       "      <td>7.01</td>\n",
       "      <td>-1.90</td>\n",
       "      <td>4.68</td>\n",
       "      <td>172.39000</td>\n",
       "      <td>170.46001</td>\n",
       "    </tr>\n",
       "  </tbody>\n",
       "</table>\n",
       "</div>"
      ],
      "text/plain": [
       "  Wind_turbine_name                  Date_time  Ba_avg      P_avg  Ws_avg  \\\n",
       "0            R80736  2014-01-01T01:00:00+01:00   -1.00  642.78003    7.12   \n",
       "1            R80721  2014-01-01T01:00:00+01:00   -1.01  441.06000    6.39   \n",
       "2            R80790  2014-01-01T01:00:00+01:00   -0.96  658.53003    7.11   \n",
       "3            R80711  2014-01-01T01:00:00+01:00   -0.93  514.23999    6.87   \n",
       "4            R80790  2014-01-01T01:10:00+01:00   -0.96  640.23999    7.01   \n",
       "\n",
       "   Va_avg  Ot_avg     Ya_avg     Wa_avg  \n",
       "0    0.66    4.69  181.34000  182.00999  \n",
       "1   -2.48    4.94  179.82001  177.36000  \n",
       "2    1.07    4.55  172.39000  173.50999  \n",
       "3    6.95    4.30  172.77000  179.72000  \n",
       "4   -1.90    4.68  172.39000  170.46001  "
      ]
     },
     "execution_count": 4,
     "metadata": {},
     "output_type": "execute_result"
    }
   ],
   "source": [
    "scada_df.head()"
   ]
  },
  {
   "cell_type": "markdown",
   "metadata": {},
   "source": [
    "#### Convert Date_time to a datetime object"
   ]
  },
  {
   "cell_type": "code",
   "execution_count": 5,
   "metadata": {},
   "outputs": [],
   "source": [
    "# # To illustrate timezone QC functions, we'll remove the timezone information\n",
    "# date = [s[0:10] for s in scada_df['Date_time']]\n",
    "# time = [s[11:19] for s in scada_df['Date_time']]\n",
    "# datetime = [date[s] + ' ' + time[s] for s in np.arange(len(date))]\n",
    "# scada_df['datetime'] = pd.to_datetime(datetime, format = \"%Y-%m-%d %H:%M:%S\")\n",
    "\n",
    "# scada_df.set_index('datetime', inplace = True, drop = False)"
   ]
  },
  {
   "cell_type": "code",
   "execution_count": 6,
   "metadata": {},
   "outputs": [],
   "source": [
    "# scada_df.dtypes"
   ]
  },
  {
   "cell_type": "markdown",
   "metadata": {},
   "source": [
    "### Step 2: Initializing QC and Performing the Run Method"
   ]
  },
  {
   "cell_type": "markdown",
   "metadata": {},
   "source": [
    "Now that we have our dataset with the necessary columns and datatypes, we are ready to perform our quality check diagnostic. This analysis will not make the adjustments for us, but it will allow us to quickly flag some key irregularities that we need to manage before going on. \n",
    "\n",
    "To start, let's initialize a QC object, qc, and call its run method. "
   ]
  },
  {
   "cell_type": "code",
   "execution_count": 7,
   "metadata": {},
   "outputs": [
    {
     "name": "stderr",
     "output_type": "stream",
     "text": [
      "INFO:operational_analysis.methods.quality_check_automation:Initializing QC_Automation Object\n"
     ]
    }
   ],
   "source": [
    "qc = QC(\n",
    "    data=scada_df, \n",
    "    ws_field='Ws_avg', \n",
    "    power_field= 'P_avg', \n",
    "    time_field='Date_time', \n",
    "    id_field='Wind_turbine_name', \n",
    "    freq='10T', \n",
    "    lat_lon=(48.45, 5.586),\n",
    "    tz=\"Europe/Paris\"\n",
    ")"
   ]
  },
  {
   "cell_type": "code",
   "execution_count": 8,
   "metadata": {},
   "outputs": [
    {
     "name": "stderr",
     "output_type": "stream",
     "text": [
      "INFO:operational_analysis.methods.quality_check_automation:Identifying Time Duplications\n",
      "INFO:operational_analysis.methods.quality_check_automation:Identifying Time Gaps\n",
      "INFO:operational_analysis.methods.quality_check_automation:Evaluating timezone deviation from UTC\n",
      "INFO:root:GET: https://developer.nrel.gov/api/hsds/ [/nrel/wtk-us.h5]\n",
      "INFO:root:status: 200\n",
      "INFO:root:got domain json: {'root': 'g-d146c6be-85f3-11e7-bf89-0242ac110008', 'class': 'domain', 'owner': 'nrel_admin', 'created': 1503266789.3004835, 'limits': {'min_chunk_size': 1048576, 'max_chunk_size': 4194304, 'max_request_size': 104857600, 'max_chunks_per_request': 1000}, 'compressors': ['blosclz', 'lz4', 'lz4hc', 'snappy', 'gzip', 'zstd'], 'version': '0.7.0beta', 'lastModified': 1503266789.3004835, 'domain_objs': {'g-d146c6be-85f3-11e7-bf89-0242ac110008': {'id': 'g-d146c6be-85f3-11e7-bf89-0242ac110008', 'root': 'g-d146c6be-85f3-11e7-bf89-0242ac110008', 'created': 1503266789.2974205, 'lastModified': 1503267057.1529546, 'linkCount': 40, 'links': {'inversemoninobukhovlength_2m': {'class': 'H5L_TYPE_HARD', 'id': 'd-d17dece8-85f3-11e7-bf89-0242ac110008', 'created': 1503266789.6603177}, 'status': {'class': 'H5L_TYPE_HARD', 'id': 'd-d2a4396a-85f3-11e7-bf89-0242ac110008', 'created': 1503266791.5880039}, 'windspeed_10m': {'class': 'H5L_TYPE_HARD', 'id': 'd-d26f3e2c-85f3-11e7-bf89-0242ac110008', 'created': 1503266791.2419953}, 'temperature_80m': {'class': 'H5L_TYPE_HARD', 'id': 'd-d1dc5094-85f3-11e7-bf89-0242ac110008', 'created': 1503266790.8195398}, 'temperature_160m': {'class': 'H5L_TYPE_HARD', 'id': 'd-d1b99bbc-85f3-11e7-bf89-0242ac110008', 'created': 1503266790.0513692}, 'temperature_200m': {'class': 'H5L_TYPE_HARD', 'id': 'd-d1be68a4-85f3-11e7-bf89-0242ac110008', 'created': 1503266790.0846057}, 'pressure_200m': {'class': 'H5L_TYPE_HARD', 'id': 'd-d19105b2-85f3-11e7-bf89-0242ac110008', 'created': 1503266789.8597229}, 'DIF': {'class': 'H5L_TYPE_HARD', 'id': 'd-d14d28e2-85f3-11e7-bf89-0242ac110008', 'created': 1503266789.350848}, 'temperature_10m': {'class': 'H5L_TYPE_HARD', 'id': 'd-d1ac4656-85f3-11e7-bf89-0242ac110008', 'created': 1503266789.9637892}, 'winddirection_120m': {'class': 'H5L_TYPE_HARD', 'id': 'd-d23ca0fc-85f3-11e7-bf89-0242ac110008', 'created': 1503266790.9059954}, 'windspeed_120m': {'class': 'H5L_TYPE_HARD', 'id': 'd-d2740e84-85f3-11e7-bf89-0242ac110008', 'created': 1503266791.3834321}, 'windspeed_140m': {'class': 'H5L_TYPE_HARD', 'id': 'd-d289b022-85f3-11e7-bf89-0242ac110008', 'created': 1503266791.4118319}, 'temperature_60m': {'class': 'H5L_TYPE_HARD', 'id': 'd-d1cd491e-85f3-11e7-bf89-0242ac110008', 'created': 1503266790.247172}, 'relativehumidity_2m': {'class': 'H5L_TYPE_HARD', 'id': 'd-d1a12424-85f3-11e7-bf89-0242ac110008', 'created': 1503266789.8918905}, 'windspeed_200m': {'class': 'H5L_TYPE_HARD', 'id': 'd-d2928e0e-85f3-11e7-bf89-0242ac110008', 'created': 1503266791.4711652}, 'temperature_140m': {'class': 'H5L_TYPE_HARD', 'id': 'd-d1b548a0-85f3-11e7-bf89-0242ac110008', 'created': 1503266790.0198824}, 'precipitationrate_0m': {'class': 'H5L_TYPE_HARD', 'id': 'd-d182c344-85f3-11e7-bf89-0242ac110008', 'created': 1503266789.6881084}, 'winddirection_160m': {'class': 'H5L_TYPE_HARD', 'id': 'd-d245536e-85f3-11e7-bf89-0242ac110008', 'created': 1503266790.9686542}, 'pressure_0m': {'class': 'H5L_TYPE_HARD', 'id': 'd-d1870378-85f3-11e7-bf89-0242ac110008', 'created': 1503266789.721551}, 'GHI': {'class': 'H5L_TYPE_HARD', 'id': 'd-d1774f3c-85f3-11e7-bf89-0242ac110008', 'created': 1503266789.6288517}, 'windspeed_80m': {'class': 'H5L_TYPE_HARD', 'id': 'd-d29fda32-85f3-11e7-bf89-0242ac110008', 'created': 1503266791.557621}, 'winddirection_100m': {'class': 'H5L_TYPE_HARD', 'id': 'd-d233a2b8-85f3-11e7-bf89-0242ac110008', 'created': 1503266790.8477428}, 'temperature_2m': {'class': 'H5L_TYPE_HARD', 'id': 'd-d1c37740-85f3-11e7-bf89-0242ac110008', 'created': 1503266790.118868}, 'temperature_40m': {'class': 'H5L_TYPE_HARD', 'id': 'd-d1c8b2d2-85f3-11e7-bf89-0242ac110008', 'created': 1503266790.149005}, 'coordinates': {'class': 'H5L_TYPE_HARD', 'id': 'd-70e214c6-85f4-11e7-bf89-0242ac110008', 'created': 1503267057.1529546}, 'winddirection_60m': {'class': 'H5L_TYPE_HARD', 'id': 'd-d256f83a-85f3-11e7-bf89-0242ac110008', 'created': 1503266791.1462853}, 'windspeed_160m': {'class': 'H5L_TYPE_HARD', 'id': 'd-d28df998-85f3-11e7-bf89-0242ac110008', 'created': 1503266791.441919}, 'winddirection_40m': {'class': 'H5L_TYPE_HARD', 'id': 'd-d2523b06-85f3-11e7-bf89-0242ac110008', 'created': 1503266791.051107}, 'winddirection_10m': {'class': 'H5L_TYPE_HARD', 'id': 'd-d237e7ec-85f3-11e7-bf89-0242ac110008', 'created': 1503266790.878721}, 'DNI': {'class': 'H5L_TYPE_HARD', 'id': 'd-d1538516-85f3-11e7-bf89-0242ac110008', 'created': 1503266789.585447}, 'winddirection_200m': {'class': 'H5L_TYPE_HARD', 'id': 'd-d24a5b2a-85f3-11e7-bf89-0242ac110008', 'created': 1503266791.020221}, 'windspeed_60m': {'class': 'H5L_TYPE_HARD', 'id': 'd-d29b712c-85f3-11e7-bf89-0242ac110008', 'created': 1503266791.5290713}, 'datetime': {'class': 'H5L_TYPE_HARD', 'id': 'd-d2a8d808-85f3-11e7-bf89-0242ac110008', 'created': 1503266791.6173825}, 'pressure_100m': {'class': 'H5L_TYPE_HARD', 'id': 'd-d18c182c-85f3-11e7-bf89-0242ac110008', 'created': 1503266789.7538974}, 'windspeed_40m': {'class': 'H5L_TYPE_HARD', 'id': 'd-d2970d1c-85f3-11e7-bf89-0242ac110008', 'created': 1503266791.5001607}, 'temperature_120m': {'class': 'H5L_TYPE_HARD', 'id': 'd-d1b10b64-85f3-11e7-bf89-0242ac110008', 'created': 1503266789.99174}, 'windspeed_100m': {'class': 'H5L_TYPE_HARD', 'id': 'd-d26a65a0-85f3-11e7-bf89-0242ac110008', 'created': 1503266791.2104795}, 'winddirection_140m': {'class': 'H5L_TYPE_HARD', 'id': 'd-d240ceca-85f3-11e7-bf89-0242ac110008', 'created': 1503266790.9354322}, 'temperature_100m': {'class': 'H5L_TYPE_HARD', 'id': 'd-d1a60c78-85f3-11e7-bf89-0242ac110008', 'created': 1503266789.9324746}, 'winddirection_80m': {'class': 'H5L_TYPE_HARD', 'id': 'd-d2657bee-85f3-11e7-bf89-0242ac110008', 'created': 1503266791.1782718}}, 'attributes': {'history': {'type': {'length': 'H5T_VARIABLE', 'class': 'H5T_STRING', 'strPad': 'H5T_STR_NULLTERM', 'charSet': 'H5T_CSET_UTF8'}, 'shape': {'class': 'H5S_SCALAR'}, 'created': 1506391361.9849548, 'value': 'Produced by 3TIER, Inc. under NREL subcontract AGV-2-22460-01'}}}, 'd-d17dece8-85f3-11e7-bf89-0242ac110008': {'id': 'd-d17dece8-85f3-11e7-bf89-0242ac110008', 'root': 'g-d146c6be-85f3-11e7-bf89-0242ac110008', 'created': 1503266789, 'lastModified': 1503266789, 'type': {'class': 'H5T_FLOAT', 'base': 'H5T_IEEE_F32LE'}, 'shape': {'dims': [61368, 1602, 2976], 'class': 'H5S_SIMPLE'}, 'creationProperties': {'layout': {'dims': [24, 89, 186], 'class': 'H5D_CHUNKED'}, 'fillTime': 'H5D_FILL_TIME_ALLOC'}, 'layout': {'dims': [24, 89, 186], 'class': 'H5D_CHUNKED'}, 'attributes': {'missing_value': {'shape': {'class': 'H5S_SCALAR'}, 'created': 1503267219.4134257, 'value': -32768, 'type': {'class': 'H5T_INTEGER', 'base': 'H5T_STD_I64LE'}}, 'long_name': {'shape': {'class': 'H5S_SCALAR'}, 'created': 1503267219.03705, 'value': 'inverse monin obukhov length', 'type': {'class': 'H5T_STRING', 'charSet': 'H5T_CSET_UTF8', 'strPad': 'H5T_STR_NULLTERM', 'length': 'H5T_VARIABLE'}}, 'range_after_scale_and_offset': {'shape': {'dims': [2], 'class': 'H5S_SIMPLE'}, 'created': 1503267219.1873732, 'value': [-10.0, 10.0], 'type': {'class': 'H5T_FLOAT', 'base': 'H5T_IEEE_F64LE'}}, 'scale_factor': {'shape': {'class': 'H5S_SCALAR'}, 'created': 1503267219.2596688, 'value': 0.0003051851, 'type': {'class': 'H5T_FLOAT', 'base': 'H5T_IEEE_F64LE'}}, '_FillValue': {'shape': {'class': 'H5S_SCALAR'}, 'created': 1503267219.4886384, 'value': -32768, 'type': {'class': 'H5T_INTEGER', 'base': 'H5T_STD_I64LE'}}, 'units': {'shape': {'class': 'H5S_SCALAR'}, 'created': 1503267219.1108682, 'value': 'm-1', 'type': {'class': 'H5T_STRING', 'charSet': 'H5T_CSET_UTF8', 'strPad': 'H5T_STR_NULLTERM', 'length': 'H5T_VARIABLE'}}, 'add_offset': {'shape': {'class': 'H5S_SCALAR'}, 'created': 1503267219.339468, 'value': 0.0, 'type': {'class': 'H5T_FLOAT', 'base': 'H5T_IEEE_F64LE'}}}}, 'd-d2a4396a-85f3-11e7-bf89-0242ac110008': {'id': 'd-d2a4396a-85f3-11e7-bf89-0242ac110008', 'root': 'g-d146c6be-85f3-11e7-bf89-0242ac110008', 'created': 1503266791, 'lastModified': 1503266791, 'type': {'class': 'H5T_INTEGER', 'base': 'H5T_STD_I32LE'}, 'shape': {'class': 'H5S_SIMPLE', 'dims': [61368]}, 'creationProperties': {}, 'layout': {'class': 'H5D_CHUNKED', 'dims': [61368]}, 'attributes': {}}, 'd-d26f3e2c-85f3-11e7-bf89-0242ac110008': {'id': 'd-d26f3e2c-85f3-11e7-bf89-0242ac110008', 'root': 'g-d146c6be-85f3-11e7-bf89-0242ac110008', 'created': 1503266791, 'lastModified': 1503266791, 'type': {'class': 'H5T_FLOAT', 'base': 'H5T_IEEE_F32LE'}, 'shape': {'dims': [61368, 1602, 2976], 'class': 'H5S_SIMPLE'}, 'creationProperties': {'layout': {'dims': [24, 89, 186], 'class': 'H5D_CHUNKED'}, 'fillTime': 'H5D_FILL_TIME_ALLOC'}, 'layout': {'dims': [24, 89, 186], 'class': 'H5D_CHUNKED'}, 'attributes': {'units': {'created': 1503267234.4159265, 'shape': {'class': 'H5S_SCALAR'}, 'type': {'charSet': 'H5T_CSET_UTF8', 'class': 'H5T_STRING', 'length': 'H5T_VARIABLE', 'strPad': 'H5T_STR_NULLTERM'}, 'value': 'm s-1'}, 'add_offset': {'created': 1503267234.647039, 'shape': {'class': 'H5S_SCALAR'}, 'type': {'class': 'H5T_FLOAT', 'base': 'H5T_IEEE_F64LE'}, 'value': 100.0}, 'scale_factor': {'created': 1503267234.56973, 'shape': {'class': 'H5S_SCALAR'}, 'type': {'class': 'H5T_FLOAT', 'base': 'H5T_IEEE_F64LE'}, 'value': 0.003051851}, 'long_name': {'created': 1503267234.3339245, 'shape': {'class': 'H5S_SCALAR'}, 'type': {'charSet': 'H5T_CSET_UTF8', 'class': 'H5T_STRING', 'length': 'H5T_VARIABLE', 'strPad': 'H5T_STR_NULLTERM'}, 'value': 'wind speed at 10 meters'}, 'missing_value': {'created': 1503267234.7296066, 'shape': {'class': 'H5S_SCALAR'}, 'type': {'class': 'H5T_INTEGER', 'base': 'H5T_STD_I64LE'}, 'value': -32768}, 'range_after_scale_and_offset': {'created': 1503267234.4925084, 'shape': {'dims': [2], 'class': 'H5S_SIMPLE'}, 'type': {'class': 'H5T_FLOAT', 'base': 'H5T_IEEE_F64LE'}, 'value': [0.0, 200.0]}, '_FillValue': {'created': 1503267234.8068476, 'shape': {'class': 'H5S_SCALAR'}, 'type': {'class': 'H5T_INTEGER', 'base': 'H5T_STD_I64LE'}, 'value': -32768}}}, 'd-d1dc5094-85f3-11e7-bf89-0242ac110008': {'id': 'd-d1dc5094-85f3-11e7-bf89-0242ac110008', 'root': 'g-d146c6be-85f3-11e7-bf89-0242ac110008', 'created': 1503266790, 'lastModified': 1503266790, 'type': {'class': 'H5T_FLOAT', 'base': 'H5T_IEEE_F32LE'}, 'shape': {'class': 'H5S_SIMPLE', 'dims': [61368, 1602, 2976]}, 'creationProperties': {'layout': {'class': 'H5D_CHUNKED', 'dims': [24, 89, 186]}, 'fillTime': 'H5D_FILL_TIME_ALLOC'}, 'layout': {'class': 'H5D_CHUNKED', 'dims': [24, 89, 186]}, 'attributes': {'missing_value': {'created': 1503267227.8000393, 'type': {'class': 'H5T_INTEGER', 'base': 'H5T_STD_I64LE'}, 'value': -32768, 'shape': {'class': 'H5S_SCALAR'}}, '_FillValue': {'created': 1503267227.8851326, 'type': {'class': 'H5T_INTEGER', 'base': 'H5T_STD_I64LE'}, 'value': -32768, 'shape': {'class': 'H5S_SCALAR'}}, 'add_offset': {'created': 1503267227.721719, 'type': {'class': 'H5T_FLOAT', 'base': 'H5T_IEEE_F64LE'}, 'value': 250.0, 'shape': {'class': 'H5S_SCALAR'}}, 'units': {'created': 1503267227.4905999, 'type': {'class': 'H5T_STRING', 'strPad': 'H5T_STR_NULLTERM', 'charSet': 'H5T_CSET_UTF8', 'length': 'H5T_VARIABLE'}, 'value': 'K', 'shape': {'class': 'H5S_SCALAR'}}, 'scale_factor': {'created': 1503267227.6437588, 'type': {'class': 'H5T_FLOAT', 'base': 'H5T_IEEE_F64LE'}, 'value': 0.003051851, 'shape': {'class': 'H5S_SCALAR'}}, 'range_after_scale_and_offset': {'created': 1503267227.562986, 'type': {'class': 'H5T_FLOAT', 'base': 'H5T_IEEE_F64LE'}, 'value': [150.0, 350.0], 'shape': {'class': 'H5S_SIMPLE', 'dims': [2]}}, 'long_name': {'created': 1503267227.3856423, 'type': {'class': 'H5T_STRING', 'strPad': 'H5T_STR_NULLTERM', 'charSet': 'H5T_CSET_UTF8', 'length': 'H5T_VARIABLE'}, 'value': 'temperature at 80m AGL', 'shape': {'class': 'H5S_SCALAR'}}}}, 'd-d1b99bbc-85f3-11e7-bf89-0242ac110008': {'id': 'd-d1b99bbc-85f3-11e7-bf89-0242ac110008', 'root': 'g-d146c6be-85f3-11e7-bf89-0242ac110008', 'created': 1503266790, 'lastModified': 1503266790, 'type': {'class': 'H5T_FLOAT', 'base': 'H5T_IEEE_F32LE'}, 'shape': {'dims': [61368, 1602, 2976], 'class': 'H5S_SIMPLE'}, 'creationProperties': {'layout': {'dims': [24, 89, 186], 'class': 'H5D_CHUNKED'}, 'fillTime': 'H5D_FILL_TIME_ALLOC'}, 'layout': {'dims': [24, 89, 186], 'class': 'H5D_CHUNKED'}, 'attributes': {'missing_value': {'shape': {'class': 'H5S_SCALAR'}, 'created': 1503267224.3665347, 'value': -32768, 'type': {'class': 'H5T_INTEGER', 'base': 'H5T_STD_I64LE'}}, 'long_name': {'shape': {'class': 'H5S_SCALAR'}, 'created': 1503267223.9206512, 'value': 'temperature at 160m AGL', 'type': {'class': 'H5T_STRING', 'charSet': 'H5T_CSET_UTF8', 'strPad': 'H5T_STR_NULLTERM', 'length': 'H5T_VARIABLE'}}, 'range_after_scale_and_offset': {'shape': {'dims': [2], 'class': 'H5S_SIMPLE'}, 'created': 1503267224.0809333, 'value': [150.0, 350.0], 'type': {'class': 'H5T_FLOAT', 'base': 'H5T_IEEE_F64LE'}}, 'scale_factor': {'shape': {'class': 'H5S_SCALAR'}, 'created': 1503267224.167046, 'value': 0.003051851, 'type': {'class': 'H5T_FLOAT', 'base': 'H5T_IEEE_F64LE'}}, '_FillValue': {'shape': {'class': 'H5S_SCALAR'}, 'created': 1503267224.4495308, 'value': -32768, 'type': {'class': 'H5T_INTEGER', 'base': 'H5T_STD_I64LE'}}, 'units': {'shape': {'class': 'H5S_SCALAR'}, 'created': 1503267224.0005507, 'value': 'K', 'type': {'class': 'H5T_STRING', 'charSet': 'H5T_CSET_UTF8', 'strPad': 'H5T_STR_NULLTERM', 'length': 'H5T_VARIABLE'}}, 'add_offset': {'shape': {'class': 'H5S_SCALAR'}, 'created': 1503267224.2833133, 'value': 250.0, 'type': {'class': 'H5T_FLOAT', 'base': 'H5T_IEEE_F64LE'}}}}, 'd-d1be68a4-85f3-11e7-bf89-0242ac110008': {'id': 'd-d1be68a4-85f3-11e7-bf89-0242ac110008', 'root': 'g-d146c6be-85f3-11e7-bf89-0242ac110008', 'created': 1503266790, 'lastModified': 1503266790, 'type': {'class': 'H5T_FLOAT', 'base': 'H5T_IEEE_F32LE'}, 'shape': {'dims': [61368, 1602, 2976], 'class': 'H5S_SIMPLE'}, 'creationProperties': {'layout': {'dims': [24, 89, 186], 'class': 'H5D_CHUNKED'}, 'fillTime': 'H5D_FILL_TIME_ALLOC'}, 'layout': {'dims': [24, 89, 186], 'class': 'H5D_CHUNKED'}, 'attributes': {'missing_value': {'shape': {'class': 'H5S_SCALAR'}, 'created': 1503267225.0337079, 'value': -32768, 'type': {'class': 'H5T_INTEGER', 'base': 'H5T_STD_I64LE'}}, 'long_name': {'shape': {'class': 'H5S_SCALAR'}, 'created': 1503267224.5815752, 'value': 'temperature at 200m AGL', 'type': {'class': 'H5T_STRING', 'charSet': 'H5T_CSET_UTF8', 'strPad': 'H5T_STR_NULLTERM', 'length': 'H5T_VARIABLE'}}, 'range_after_scale_and_offset': {'shape': {'dims': [2], 'class': 'H5S_SIMPLE'}, 'created': 1503267224.8020048, 'value': [150.0, 350.0], 'type': {'class': 'H5T_FLOAT', 'base': 'H5T_IEEE_F64LE'}}, 'scale_factor': {'shape': {'class': 'H5S_SCALAR'}, 'created': 1503267224.8747091, 'value': 0.003051851, 'type': {'class': 'H5T_FLOAT', 'base': 'H5T_IEEE_F64LE'}}, '_FillValue': {'shape': {'class': 'H5S_SCALAR'}, 'created': 1503267225.1074865, 'value': -32768, 'type': {'class': 'H5T_INTEGER', 'base': 'H5T_STD_I64LE'}}, 'units': {'shape': {'class': 'H5S_SCALAR'}, 'created': 1503267224.7287602, 'value': 'K', 'type': {'class': 'H5T_STRING', 'charSet': 'H5T_CSET_UTF8', 'strPad': 'H5T_STR_NULLTERM', 'length': 'H5T_VARIABLE'}}, 'add_offset': {'shape': {'class': 'H5S_SCALAR'}, 'created': 1503267224.9511194, 'value': 250.0, 'type': {'class': 'H5T_FLOAT', 'base': 'H5T_IEEE_F64LE'}}}}, 'd-d19105b2-85f3-11e7-bf89-0242ac110008': {'id': 'd-d19105b2-85f3-11e7-bf89-0242ac110008', 'root': 'g-d146c6be-85f3-11e7-bf89-0242ac110008', 'created': 1503266789, 'lastModified': 1503266789, 'type': {'class': 'H5T_FLOAT', 'base': 'H5T_IEEE_F32LE'}, 'shape': {'dims': [61368, 1602, 2976], 'class': 'H5S_SIMPLE'}, 'creationProperties': {'layout': {'dims': [24, 89, 186], 'class': 'H5D_CHUNKED'}, 'fillTime': 'H5D_FILL_TIME_ALLOC'}, 'layout': {'dims': [24, 89, 186], 'class': 'H5D_CHUNKED'}, 'attributes': {'units': {'created': 1503267220.9212155, 'shape': {'class': 'H5S_SCALAR'}, 'type': {'charSet': 'H5T_CSET_UTF8', 'class': 'H5T_STRING', 'length': 'H5T_VARIABLE', 'strPad': 'H5T_STR_NULLTERM'}, 'value': 'Pa'}, 'add_offset': {'created': 1503267221.1484118, 'shape': {'class': 'H5S_SCALAR'}, 'type': {'class': 'H5T_FLOAT', 'base': 'H5T_IEEE_F64LE'}, 'value': 80000.0}, 'scale_factor': {'created': 1503267221.075024, 'shape': {'class': 'H5S_SCALAR'}, 'type': {'class': 'H5T_FLOAT', 'base': 'H5T_IEEE_F64LE'}, 'value': 0.9155553}, 'long_name': {'created': 1503267220.8285182, 'shape': {'class': 'H5S_SCALAR'}, 'type': {'charSet': 'H5T_CSET_UTF8', 'class': 'H5T_STRING', 'length': 'H5T_VARIABLE', 'strPad': 'H5T_STR_NULLTERM'}, 'value': 'pressure at 200m AGL'}, 'missing_value': {'created': 1503267221.2270043, 'shape': {'class': 'H5S_SCALAR'}, 'type': {'class': 'H5T_INTEGER', 'base': 'H5T_STD_I64LE'}, 'value': -32768}, 'range_after_scale_and_offset': {'created': 1503267220.9968917, 'shape': {'dims': [2], 'class': 'H5S_SIMPLE'}, 'type': {'class': 'H5T_FLOAT', 'base': 'H5T_IEEE_F64LE'}, 'value': [50000.0, 110000.0]}, '_FillValue': {'created': 1503267221.3047793, 'shape': {'class': 'H5S_SCALAR'}, 'type': {'class': 'H5T_INTEGER', 'base': 'H5T_STD_I64LE'}, 'value': -32768}}}, 'd-d14d28e2-85f3-11e7-bf89-0242ac110008': {'id': 'd-d14d28e2-85f3-11e7-bf89-0242ac110008', 'root': 'g-d146c6be-85f3-11e7-bf89-0242ac110008', 'created': 1503266789, 'lastModified': 1503266789, 'type': {'class': 'H5T_FLOAT', 'base': 'H5T_IEEE_F32LE'}, 'shape': {'dims': [61368, 1602, 2976], 'class': 'H5S_SIMPLE'}, 'creationProperties': {'layout': {'dims': [24, 89, 186], 'class': 'H5D_CHUNKED'}, 'fillTime': 'H5D_FILL_TIME_ALLOC'}, 'layout': {'dims': [24, 89, 186], 'class': 'H5D_CHUNKED'}, 'attributes': {'missing_value': {'shape': {'class': 'H5S_SCALAR'}, 'created': 1503267240.27114, 'value': -32768, 'type': {'class': 'H5T_INTEGER', 'base': 'H5T_STD_I64LE'}}, 'long_name': {'shape': {'class': 'H5S_SCALAR'}, 'created': 1503267239.8765738, 'value': 'diffuse irradiance', 'type': {'class': 'H5T_STRING', 'charSet': 'H5T_CSET_UTF8', 'strPad': 'H5T_STR_NULLTERM', 'length': 'H5T_VARIABLE'}}, 'range_after_scale_and_offset': {'shape': {'dims': [2], 'class': 'H5S_SIMPLE'}, 'created': 1503267240.032336, 'value': [0.0, 1500.0], 'type': {'class': 'H5T_FLOAT', 'base': 'H5T_IEEE_F64LE'}}, 'scale_factor': {'shape': {'class': 'H5S_SCALAR'}, 'created': 1503267240.108548, 'value': 0.02288888, 'type': {'class': 'H5T_FLOAT', 'base': 'H5T_IEEE_F64LE'}}, '_FillValue': {'shape': {'class': 'H5S_SCALAR'}, 'created': 1503267240.3491757, 'value': -32768, 'type': {'class': 'H5T_INTEGER', 'base': 'H5T_STD_I64LE'}}, 'units': {'shape': {'class': 'H5S_SCALAR'}, 'created': 1503267239.9535365, 'value': 'W m-2', 'type': {'class': 'H5T_STRING', 'charSet': 'H5T_CSET_UTF8', 'strPad': 'H5T_STR_NULLTERM', 'length': 'H5T_VARIABLE'}}, 'add_offset': {'shape': {'class': 'H5S_SCALAR'}, 'created': 1503267240.190553, 'value': 750.0, 'type': {'class': 'H5T_FLOAT', 'base': 'H5T_IEEE_F64LE'}}}}, 'd-d1ac4656-85f3-11e7-bf89-0242ac110008': {'id': 'd-d1ac4656-85f3-11e7-bf89-0242ac110008', 'root': 'g-d146c6be-85f3-11e7-bf89-0242ac110008', 'created': 1503266789, 'lastModified': 1503266789, 'type': {'class': 'H5T_FLOAT', 'base': 'H5T_IEEE_F32LE'}, 'shape': {'dims': [61368, 1602, 2976], 'class': 'H5S_SIMPLE'}, 'creationProperties': {'layout': {'dims': [24, 89, 186], 'class': 'H5D_CHUNKED'}, 'fillTime': 'H5D_FILL_TIME_ALLOC'}, 'layout': {'dims': [24, 89, 186], 'class': 'H5D_CHUNKED'}, 'attributes': {'missing_value': {'shape': {'class': 'H5S_SCALAR'}, 'created': 1503267222.4436438, 'value': -32768, 'type': {'class': 'H5T_INTEGER', 'base': 'H5T_STD_I64LE'}}, 'long_name': {'shape': {'class': 'H5S_SCALAR'}, 'created': 1503267222.049767, 'value': 'temperature at 10m AGL', 'type': {'class': 'H5T_STRING', 'charSet': 'H5T_CSET_UTF8', 'strPad': 'H5T_STR_NULLTERM', 'length': 'H5T_VARIABLE'}}, 'range_after_scale_and_offset': {'shape': {'dims': [2], 'class': 'H5S_SIMPLE'}, 'created': 1503267222.2142634, 'value': [150.0, 350.0], 'type': {'class': 'H5T_FLOAT', 'base': 'H5T_IEEE_F64LE'}}, 'scale_factor': {'shape': {'class': 'H5S_SCALAR'}, 'created': 1503267222.2866623, 'value': 0.003051851, 'type': {'class': 'H5T_FLOAT', 'base': 'H5T_IEEE_F64LE'}}, '_FillValue': {'shape': {'class': 'H5S_SCALAR'}, 'created': 1503267222.5226543, 'value': -32768, 'type': {'class': 'H5T_INTEGER', 'base': 'H5T_STD_I64LE'}}, 'units': {'shape': {'class': 'H5S_SCALAR'}, 'created': 1503267222.1366134, 'value': 'K', 'type': {'class': 'H5T_STRING', 'charSet': 'H5T_CSET_UTF8', 'strPad': 'H5T_STR_NULLTERM', 'length': 'H5T_VARIABLE'}}, 'add_offset': {'shape': {'class': 'H5S_SCALAR'}, 'created': 1503267222.3679051, 'value': 250.0, 'type': {'class': 'H5T_FLOAT', 'base': 'H5T_IEEE_F64LE'}}}}, 'd-d23ca0fc-85f3-11e7-bf89-0242ac110008': {'id': 'd-d23ca0fc-85f3-11e7-bf89-0242ac110008', 'root': 'g-d146c6be-85f3-11e7-bf89-0242ac110008', 'created': 1503266790, 'lastModified': 1503266790, 'type': {'class': 'H5T_FLOAT', 'base': 'H5T_IEEE_F32LE'}, 'shape': {'dims': [61368, 1602, 2976], 'class': 'H5S_SIMPLE'}, 'creationProperties': {'layout': {'dims': [24, 89, 186], 'class': 'H5D_CHUNKED'}, 'fillTime': 'H5D_FILL_TIME_ALLOC'}, 'layout': {'dims': [24, 89, 186], 'class': 'H5D_CHUNKED'}, 'attributes': {'units': {'created': 1503267229.3634002, 'shape': {'class': 'H5S_SCALAR'}, 'type': {'charSet': 'H5T_CSET_UTF8', 'class': 'H5T_STRING', 'length': 'H5T_VARIABLE', 'strPad': 'H5T_STR_NULLTERM'}, 'value': 'degree'}, 'add_offset': {'created': 1503267229.6898859, 'shape': {'class': 'H5S_SCALAR'}, 'type': {'class': 'H5T_FLOAT', 'base': 'H5T_IEEE_F64LE'}, 'value': 180.0}, 'scale_factor': {'created': 1503267229.5466795, 'shape': {'class': 'H5S_SCALAR'}, 'type': {'class': 'H5T_FLOAT', 'base': 'H5T_IEEE_F64LE'}, 'value': 0.005493332}, 'long_name': {'created': 1503267229.2807517, 'shape': {'class': 'H5S_SCALAR'}, 'type': {'charSet': 'H5T_CSET_UTF8', 'class': 'H5T_STRING', 'length': 'H5T_VARIABLE', 'strPad': 'H5T_STR_NULLTERM'}, 'value': 'wind direction at 120 meters'}, 'missing_value': {'created': 1503267229.7555602, 'shape': {'class': 'H5S_SCALAR'}, 'type': {'class': 'H5T_INTEGER', 'base': 'H5T_STD_I64LE'}, 'value': -32768}, 'range_after_scale_and_offset': {'created': 1503267229.4462366, 'shape': {'dims': [2], 'class': 'H5S_SIMPLE'}, 'type': {'class': 'H5T_FLOAT', 'base': 'H5T_IEEE_F64LE'}, 'value': [0.0, 360.0]}, '_FillValue': {'created': 1503267229.8378878, 'shape': {'class': 'H5S_SCALAR'}, 'type': {'class': 'H5T_INTEGER', 'base': 'H5T_STD_I64LE'}, 'value': -32768}}}, 'd-d2740e84-85f3-11e7-bf89-0242ac110008': {'id': 'd-d2740e84-85f3-11e7-bf89-0242ac110008', 'root': 'g-d146c6be-85f3-11e7-bf89-0242ac110008', 'created': 1503266791, 'lastModified': 1503266791, 'type': {'class': 'H5T_FLOAT', 'base': 'H5T_IEEE_F32LE'}, 'shape': {'class': 'H5S_SIMPLE', 'dims': [61368, 1602, 2976]}, 'creationProperties': {'layout': {'class': 'H5D_CHUNKED', 'dims': [24, 89, 186]}, 'fillTime': 'H5D_FILL_TIME_ALLOC'}, 'layout': {'class': 'H5D_CHUNKED', 'dims': [24, 89, 186]}, 'attributes': {'missing_value': {'created': 1503267235.3298302, 'type': {'class': 'H5T_INTEGER', 'base': 'H5T_STD_I64LE'}, 'value': -32768, 'shape': {'class': 'H5S_SCALAR'}}, '_FillValue': {'created': 1503267235.4060059, 'type': {'class': 'H5T_INTEGER', 'base': 'H5T_STD_I64LE'}, 'value': -32768, 'shape': {'class': 'H5S_SCALAR'}}, 'add_offset': {'created': 1503267235.2462256, 'type': {'class': 'H5T_FLOAT', 'base': 'H5T_IEEE_F64LE'}, 'value': 100.0, 'shape': {'class': 'H5S_SCALAR'}}, 'units': {'created': 1503267235.0142593, 'type': {'class': 'H5T_STRING', 'strPad': 'H5T_STR_NULLTERM', 'charSet': 'H5T_CSET_UTF8', 'length': 'H5T_VARIABLE'}, 'value': 'm s-1', 'shape': {'class': 'H5S_SCALAR'}}, 'scale_factor': {'created': 1503267235.1684656, 'type': {'class': 'H5T_FLOAT', 'base': 'H5T_IEEE_F64LE'}, 'value': 0.003051851, 'shape': {'class': 'H5S_SCALAR'}}, 'range_after_scale_and_offset': {'created': 1503267235.0877075, 'type': {'class': 'H5T_FLOAT', 'base': 'H5T_IEEE_F64LE'}, 'value': [0.0, 200.0], 'shape': {'class': 'H5S_SIMPLE', 'dims': [2]}}, 'long_name': {'created': 1503267234.9413848, 'type': {'class': 'H5T_STRING', 'strPad': 'H5T_STR_NULLTERM', 'charSet': 'H5T_CSET_UTF8', 'length': 'H5T_VARIABLE'}, 'value': 'wind speed at 120 meters', 'shape': {'class': 'H5S_SCALAR'}}}}, 'd-d289b022-85f3-11e7-bf89-0242ac110008': {'id': 'd-d289b022-85f3-11e7-bf89-0242ac110008', 'root': 'g-d146c6be-85f3-11e7-bf89-0242ac110008', 'created': 1503266791, 'lastModified': 1503266791, 'type': {'class': 'H5T_FLOAT', 'base': 'H5T_IEEE_F32LE'}, 'shape': {'class': 'H5S_SIMPLE', 'dims': [61368, 1602, 2976]}, 'creationProperties': {'layout': {'class': 'H5D_CHUNKED', 'dims': [24, 89, 186]}, 'fillTime': 'H5D_FILL_TIME_ALLOC'}, 'layout': {'class': 'H5D_CHUNKED', 'dims': [24, 89, 186]}, 'attributes': {'missing_value': {'created': 1503267235.9726431, 'type': {'class': 'H5T_INTEGER', 'base': 'H5T_STD_I64LE'}, 'value': -32768, 'shape': {'class': 'H5S_SCALAR'}}, '_FillValue': {'created': 1503267236.0523894, 'type': {'class': 'H5T_INTEGER', 'base': 'H5T_STD_I64LE'}, 'value': -32768, 'shape': {'class': 'H5S_SCALAR'}}, 'add_offset': {'created': 1503267235.8930683, 'type': {'class': 'H5T_FLOAT', 'base': 'H5T_IEEE_F64LE'}, 'value': 100.0, 'shape': {'class': 'H5S_SCALAR'}}, 'units': {'created': 1503267235.6213472, 'type': {'class': 'H5T_STRING', 'strPad': 'H5T_STR_NULLTERM', 'charSet': 'H5T_CSET_UTF8', 'length': 'H5T_VARIABLE'}, 'value': 'm s-1', 'shape': {'class': 'H5S_SCALAR'}}, 'scale_factor': {'created': 1503267235.8120954, 'type': {'class': 'H5T_FLOAT', 'base': 'H5T_IEEE_F64LE'}, 'value': 0.003051851, 'shape': {'class': 'H5S_SCALAR'}}, 'range_after_scale_and_offset': {'created': 1503267235.7354987, 'type': {'class': 'H5T_FLOAT', 'base': 'H5T_IEEE_F64LE'}, 'value': [0.0, 200.0], 'shape': {'class': 'H5S_SIMPLE', 'dims': [2]}}, 'long_name': {'created': 1503267235.5422022, 'type': {'class': 'H5T_STRING', 'strPad': 'H5T_STR_NULLTERM', 'charSet': 'H5T_CSET_UTF8', 'length': 'H5T_VARIABLE'}, 'value': 'wind speed at 140 meters', 'shape': {'class': 'H5S_SCALAR'}}}}, 'd-d1cd491e-85f3-11e7-bf89-0242ac110008': {'id': 'd-d1cd491e-85f3-11e7-bf89-0242ac110008', 'root': 'g-d146c6be-85f3-11e7-bf89-0242ac110008', 'created': 1503266790, 'lastModified': 1503266790, 'type': {'class': 'H5T_FLOAT', 'base': 'H5T_IEEE_F32LE'}, 'shape': {'class': 'H5S_SIMPLE', 'dims': [61368, 1602, 2976]}, 'creationProperties': {'layout': {'class': 'H5D_CHUNKED', 'dims': [24, 89, 186]}, 'fillTime': 'H5D_FILL_TIME_ALLOC'}, 'layout': {'class': 'H5D_CHUNKED', 'dims': [24, 89, 186]}, 'attributes': {'missing_value': {'created': 1503267226.8479505, 'type': {'class': 'H5T_INTEGER', 'base': 'H5T_STD_I64LE'}, 'value': -32768, 'shape': {'class': 'H5S_SCALAR'}}, '_FillValue': {'created': 1503267226.924176, 'type': {'class': 'H5T_INTEGER', 'base': 'H5T_STD_I64LE'}, 'value': -32768, 'shape': {'class': 'H5S_SCALAR'}}, 'add_offset': {'created': 1503267226.773049, 'type': {'class': 'H5T_FLOAT', 'base': 'H5T_IEEE_F64LE'}, 'value': 250.0, 'shape': {'class': 'H5S_SCALAR'}}, 'units': {'created': 1503267226.5409274, 'type': {'class': 'H5T_STRING', 'strPad': 'H5T_STR_NULLTERM', 'charSet': 'H5T_CSET_UTF8', 'length': 'H5T_VARIABLE'}, 'value': 'K', 'shape': {'class': 'H5S_SCALAR'}}, 'scale_factor': {'created': 1503267226.697841, 'type': {'class': 'H5T_FLOAT', 'base': 'H5T_IEEE_F64LE'}, 'value': 0.003051851, 'shape': {'class': 'H5S_SCALAR'}}, 'range_after_scale_and_offset': {'created': 1503267226.6194813, 'type': {'class': 'H5T_FLOAT', 'base': 'H5T_IEEE_F64LE'}, 'value': [150.0, 350.0], 'shape': {'class': 'H5S_SIMPLE', 'dims': [2]}}, 'long_name': {'created': 1503267226.452037, 'type': {'class': 'H5T_STRING', 'strPad': 'H5T_STR_NULLTERM', 'charSet': 'H5T_CSET_UTF8', 'length': 'H5T_VARIABLE'}, 'value': 'temperature at 60m AGL', 'shape': {'class': 'H5S_SCALAR'}}}}, 'd-d1a12424-85f3-11e7-bf89-0242ac110008': {'id': 'd-d1a12424-85f3-11e7-bf89-0242ac110008', 'root': 'g-d146c6be-85f3-11e7-bf89-0242ac110008', 'created': 1503266789, 'lastModified': 1503266789, 'type': {'class': 'H5T_FLOAT', 'base': 'H5T_IEEE_F32LE'}, 'shape': {'class': 'H5S_SIMPLE', 'dims': [61368, 1602, 2976]}, 'creationProperties': {'layout': {'class': 'H5D_CHUNKED', 'dims': [24, 89, 186]}, 'fillTime': 'H5D_FILL_TIME_ALLOC'}, 'layout': {'class': 'H5D_CHUNKED', 'dims': [24, 89, 186]}, 'attributes': {'scale_factor': {'created': 1503267241.3333771, 'shape': {'class': 'H5S_SCALAR'}, 'type': {'class': 'H5T_FLOAT', 'base': 'H5T_IEEE_F64LE'}, 'value': 0.001678518}, 'range_after_scale_and_offset': {'created': 1503267241.2541833, 'shape': {'class': 'H5S_SIMPLE', 'dims': [2]}, 'type': {'class': 'H5T_FLOAT', 'base': 'H5T_IEEE_F64LE'}, 'value': [0.0, 110.0]}, 'missing_value': {'created': 1503267241.490603, 'shape': {'class': 'H5S_SCALAR'}, 'type': {'class': 'H5T_INTEGER', 'base': 'H5T_STD_I64LE'}, 'value': -32768}, 'long_name': {'created': 1503267241.0980504, 'shape': {'class': 'H5S_SCALAR'}, 'type': {'strPad': 'H5T_STR_NULLTERM', 'charSet': 'H5T_CSET_UTF8', 'class': 'H5T_STRING', 'length': 'H5T_VARIABLE'}, 'value': 'relative humidity'}, 'add_offset': {'created': 1503267241.4086359, 'shape': {'class': 'H5S_SCALAR'}, 'type': {'class': 'H5T_FLOAT', 'base': 'H5T_IEEE_F64LE'}, 'value': 55.0}, 'units': {'created': 1503267241.1756194, 'shape': {'class': 'H5S_SCALAR'}, 'type': {'strPad': 'H5T_STR_NULLTERM', 'charSet': 'H5T_CSET_UTF8', 'class': 'H5T_STRING', 'length': 'H5T_VARIABLE'}, 'value': 'percent'}, '_FillValue': {'created': 1503267241.5663605, 'shape': {'class': 'H5S_SCALAR'}, 'type': {'class': 'H5T_INTEGER', 'base': 'H5T_STD_I64LE'}, 'value': -32768}}}, 'd-d2928e0e-85f3-11e7-bf89-0242ac110008': {'id': 'd-d2928e0e-85f3-11e7-bf89-0242ac110008', 'root': 'g-d146c6be-85f3-11e7-bf89-0242ac110008', 'created': 1503266791, 'lastModified': 1503266791, 'type': {'class': 'H5T_FLOAT', 'base': 'H5T_IEEE_F32LE'}, 'shape': {'class': 'H5S_SIMPLE', 'dims': [61368, 1602, 2976]}, 'creationProperties': {'layout': {'class': 'H5D_CHUNKED', 'dims': [24, 89, 186]}, 'fillTime': 'H5D_FILL_TIME_ALLOC'}, 'layout': {'class': 'H5D_CHUNKED', 'dims': [24, 89, 186]}, 'attributes': {'missing_value': {'created': 1503267237.1908615, 'type': {'class': 'H5T_INTEGER', 'base': 'H5T_STD_I64LE'}, 'value': -32768, 'shape': {'class': 'H5S_SCALAR'}}, '_FillValue': {'created': 1503267237.2688425, 'type': {'class': 'H5T_INTEGER', 'base': 'H5T_STD_I64LE'}, 'value': -32768, 'shape': {'class': 'H5S_SCALAR'}}, 'add_offset': {'created': 1503267237.1155953, 'type': {'class': 'H5T_FLOAT', 'base': 'H5T_IEEE_F64LE'}, 'value': 100.0, 'shape': {'class': 'H5S_SCALAR'}}, 'units': {'created': 1503267236.8878982, 'type': {'class': 'H5T_STRING', 'strPad': 'H5T_STR_NULLTERM', 'charSet': 'H5T_CSET_UTF8', 'length': 'H5T_VARIABLE'}, 'value': 'm s-1', 'shape': {'class': 'H5S_SCALAR'}}, 'scale_factor': {'created': 1503267237.0364566, 'type': {'class': 'H5T_FLOAT', 'base': 'H5T_IEEE_F64LE'}, 'value': 0.003051851, 'shape': {'class': 'H5S_SCALAR'}}, 'range_after_scale_and_offset': {'created': 1503267236.9618847, 'type': {'class': 'H5T_FLOAT', 'base': 'H5T_IEEE_F64LE'}, 'value': [0.0, 200.0], 'shape': {'class': 'H5S_SIMPLE', 'dims': [2]}}, 'long_name': {'created': 1503267236.8073804, 'type': {'class': 'H5T_STRING', 'strPad': 'H5T_STR_NULLTERM', 'charSet': 'H5T_CSET_UTF8', 'length': 'H5T_VARIABLE'}, 'value': 'wind speed at 200 meters', 'shape': {'class': 'H5S_SCALAR'}}}}, 'd-d1b548a0-85f3-11e7-bf89-0242ac110008': {'id': 'd-d1b548a0-85f3-11e7-bf89-0242ac110008', 'root': 'g-d146c6be-85f3-11e7-bf89-0242ac110008', 'created': 1503266790, 'lastModified': 1503266790, 'type': {'class': 'H5T_FLOAT', 'base': 'H5T_IEEE_F32LE'}, 'shape': {'dims': [61368, 1602, 2976], 'class': 'H5S_SIMPLE'}, 'creationProperties': {'layout': {'dims': [24, 89, 186], 'class': 'H5D_CHUNKED'}, 'fillTime': 'H5D_FILL_TIME_ALLOC'}, 'layout': {'dims': [24, 89, 186], 'class': 'H5D_CHUNKED'}, 'attributes': {'units': {'created': 1503267223.360741, 'shape': {'class': 'H5S_SCALAR'}, 'type': {'charSet': 'H5T_CSET_UTF8', 'class': 'H5T_STRING', 'length': 'H5T_VARIABLE', 'strPad': 'H5T_STR_NULLTERM'}, 'value': 'K'}, 'add_offset': {'created': 1503267223.596659, 'shape': {'class': 'H5S_SCALAR'}, 'type': {'class': 'H5T_FLOAT', 'base': 'H5T_IEEE_F64LE'}, 'value': 250.0}, 'scale_factor': {'created': 1503267223.514629, 'shape': {'class': 'H5S_SCALAR'}, 'type': {'class': 'H5T_FLOAT', 'base': 'H5T_IEEE_F64LE'}, 'value': 0.003051851}, 'long_name': {'created': 1503267223.2798803, 'shape': {'class': 'H5S_SCALAR'}, 'type': {'charSet': 'H5T_CSET_UTF8', 'class': 'H5T_STRING', 'length': 'H5T_VARIABLE', 'strPad': 'H5T_STR_NULLTERM'}, 'value': 'temperature at 140m AGL'}, 'missing_value': {'created': 1503267223.7200446, 'shape': {'class': 'H5S_SCALAR'}, 'type': {'class': 'H5T_INTEGER', 'base': 'H5T_STD_I64LE'}, 'value': -32768}, 'range_after_scale_and_offset': {'created': 1503267223.4355297, 'shape': {'dims': [2], 'class': 'H5S_SIMPLE'}, 'type': {'class': 'H5T_FLOAT', 'base': 'H5T_IEEE_F64LE'}, 'value': [150.0, 350.0]}, '_FillValue': {'created': 1503267223.7931483, 'shape': {'class': 'H5S_SCALAR'}, 'type': {'class': 'H5T_INTEGER', 'base': 'H5T_STD_I64LE'}, 'value': -32768}}}, 'd-d182c344-85f3-11e7-bf89-0242ac110008': {'id': 'd-d182c344-85f3-11e7-bf89-0242ac110008', 'root': 'g-d146c6be-85f3-11e7-bf89-0242ac110008', 'created': 1503266789, 'lastModified': 1503266789, 'type': {'class': 'H5T_FLOAT', 'base': 'H5T_IEEE_F32LE'}, 'shape': {'class': 'H5S_SIMPLE', 'dims': [61368, 1602, 2976]}, 'creationProperties': {'layout': {'class': 'H5D_CHUNKED', 'dims': [24, 89, 186]}, 'fillTime': 'H5D_FILL_TIME_ALLOC'}, 'layout': {'class': 'H5D_CHUNKED', 'dims': [24, 89, 186]}, 'attributes': {'missing_value': {'created': 1503267239.6549292, 'type': {'class': 'H5T_INTEGER', 'base': 'H5T_STD_I64LE'}, 'value': -32768, 'shape': {'class': 'H5S_SCALAR'}}, '_FillValue': {'created': 1503267239.743354, 'type': {'class': 'H5T_INTEGER', 'base': 'H5T_STD_I64LE'}, 'value': -32768, 'shape': {'class': 'H5S_SCALAR'}}, 'add_offset': {'created': 1503267239.5766969, 'type': {'class': 'H5T_FLOAT', 'base': 'H5T_IEEE_F64LE'}, 'value': 1000.0, 'shape': {'class': 'H5S_SCALAR'}}, 'units': {'created': 1503267239.335653, 'type': {'class': 'H5T_STRING', 'strPad': 'H5T_STR_NULLTERM', 'charSet': 'H5T_CSET_UTF8', 'length': 'H5T_VARIABLE'}, 'value': 'mm hr-1', 'shape': {'class': 'H5S_SCALAR'}}, 'scale_factor': {'created': 1503267239.494535, 'type': {'class': 'H5T_FLOAT', 'base': 'H5T_IEEE_F64LE'}, 'value': 0.03051851, 'shape': {'class': 'H5S_SCALAR'}}, 'range_after_scale_and_offset': {'created': 1503267239.4121187, 'type': {'class': 'H5T_FLOAT', 'base': 'H5T_IEEE_F64LE'}, 'value': [0.0, 2000.0], 'shape': {'class': 'H5S_SIMPLE', 'dims': [2]}}, 'long_name': {'created': 1503267239.2558858, 'type': {'class': 'H5T_STRING', 'strPad': 'H5T_STR_NULLTERM', 'charSet': 'H5T_CSET_UTF8', 'length': 'H5T_VARIABLE'}, 'value': 'precipitation rate at the surface', 'shape': {'class': 'H5S_SCALAR'}}}}, 'd-d245536e-85f3-11e7-bf89-0242ac110008': {'id': 'd-d245536e-85f3-11e7-bf89-0242ac110008', 'root': 'g-d146c6be-85f3-11e7-bf89-0242ac110008', 'created': 1503266790, 'lastModified': 1503266790, 'type': {'class': 'H5T_FLOAT', 'base': 'H5T_IEEE_F32LE'}, 'shape': {'class': 'H5S_SIMPLE', 'dims': [61368, 1602, 2976]}, 'creationProperties': {'layout': {'class': 'H5D_CHUNKED', 'dims': [24, 89, 186]}, 'fillTime': 'H5D_FILL_TIME_ALLOC'}, 'layout': {'class': 'H5D_CHUNKED', 'dims': [24, 89, 186]}, 'attributes': {'scale_factor': {'created': 1503267230.8142986, 'shape': {'class': 'H5S_SCALAR'}, 'type': {'class': 'H5T_FLOAT', 'base': 'H5T_IEEE_F64LE'}, 'value': 0.005493332}, 'range_after_scale_and_offset': {'created': 1503267230.7372055, 'shape': {'class': 'H5S_SIMPLE', 'dims': [2]}, 'type': {'class': 'H5T_FLOAT', 'base': 'H5T_IEEE_F64LE'}, 'value': [0.0, 360.0]}, 'missing_value': {'created': 1503267230.9758387, 'shape': {'class': 'H5S_SCALAR'}, 'type': {'class': 'H5T_INTEGER', 'base': 'H5T_STD_I64LE'}, 'value': -32768}, 'long_name': {'created': 1503267230.5825202, 'shape': {'class': 'H5S_SCALAR'}, 'type': {'strPad': 'H5T_STR_NULLTERM', 'charSet': 'H5T_CSET_UTF8', 'class': 'H5T_STRING', 'length': 'H5T_VARIABLE'}, 'value': 'wind direction at 160 meters'}, 'add_offset': {'created': 1503267230.8960142, 'shape': {'class': 'H5S_SCALAR'}, 'type': {'class': 'H5T_FLOAT', 'base': 'H5T_IEEE_F64LE'}, 'value': 180.0}, 'units': {'created': 1503267230.661202, 'shape': {'class': 'H5S_SCALAR'}, 'type': {'strPad': 'H5T_STR_NULLTERM', 'charSet': 'H5T_CSET_UTF8', 'class': 'H5T_STRING', 'length': 'H5T_VARIABLE'}, 'value': 'degree'}, '_FillValue': {'created': 1503267231.0543385, 'shape': {'class': 'H5S_SCALAR'}, 'type': {'class': 'H5T_INTEGER', 'base': 'H5T_STD_I64LE'}, 'value': -32768}}}, 'd-d1870378-85f3-11e7-bf89-0242ac110008': {'id': 'd-d1870378-85f3-11e7-bf89-0242ac110008', 'root': 'g-d146c6be-85f3-11e7-bf89-0242ac110008', 'created': 1503266789, 'lastModified': 1503266789, 'type': {'class': 'H5T_FLOAT', 'base': 'H5T_IEEE_F32LE'}, 'shape': {'class': 'H5S_SIMPLE', 'dims': [61368, 1602, 2976]}, 'creationProperties': {'layout': {'class': 'H5D_CHUNKED', 'dims': [24, 89, 186]}, 'fillTime': 'H5D_FILL_TIME_ALLOC'}, 'layout': {'class': 'H5D_CHUNKED', 'dims': [24, 89, 186]}, 'attributes': {'scale_factor': {'created': 1503267219.8657548, 'shape': {'class': 'H5S_SCALAR'}, 'type': {'class': 'H5T_FLOAT', 'base': 'H5T_IEEE_F64LE'}, 'value': 0.9155553}, 'range_after_scale_and_offset': {'created': 1503267219.786809, 'shape': {'class': 'H5S_SIMPLE', 'dims': [2]}, 'type': {'class': 'H5T_FLOAT', 'base': 'H5T_IEEE_F64LE'}, 'value': [50000.0, 110000.0]}, 'missing_value': {'created': 1503267220.0173528, 'shape': {'class': 'H5S_SCALAR'}, 'type': {'class': 'H5T_INTEGER', 'base': 'H5T_STD_I64LE'}, 'value': -32768}, 'long_name': {'created': 1503267219.6297069, 'shape': {'class': 'H5S_SCALAR'}, 'type': {'strPad': 'H5T_STR_NULLTERM', 'charSet': 'H5T_CSET_UTF8', 'class': 'H5T_STRING', 'length': 'H5T_VARIABLE'}, 'value': 'surface pressure'}, 'add_offset': {'created': 1503267219.944711, 'shape': {'class': 'H5S_SCALAR'}, 'type': {'class': 'H5T_FLOAT', 'base': 'H5T_IEEE_F64LE'}, 'value': 80000.0}, 'units': {'created': 1503267219.7074802, 'shape': {'class': 'H5S_SCALAR'}, 'type': {'strPad': 'H5T_STR_NULLTERM', 'charSet': 'H5T_CSET_UTF8', 'class': 'H5T_STRING', 'length': 'H5T_VARIABLE'}, 'value': 'Pa'}, '_FillValue': {'created': 1503267220.0914397, 'shape': {'class': 'H5S_SCALAR'}, 'type': {'class': 'H5T_INTEGER', 'base': 'H5T_STD_I64LE'}, 'value': -32768}}}, 'd-d1774f3c-85f3-11e7-bf89-0242ac110008': {'id': 'd-d1774f3c-85f3-11e7-bf89-0242ac110008', 'root': 'g-d146c6be-85f3-11e7-bf89-0242ac110008', 'created': 1503266789, 'lastModified': 1503266789, 'type': {'class': 'H5T_FLOAT', 'base': 'H5T_IEEE_F32LE'}, 'shape': {'class': 'H5S_SIMPLE', 'dims': [61368, 1602, 2976]}, 'creationProperties': {'layout': {'class': 'H5D_CHUNKED', 'dims': [24, 89, 186]}, 'fillTime': 'H5D_FILL_TIME_ALLOC'}, 'layout': {'class': 'H5D_CHUNKED', 'dims': [24, 89, 186]}, 'attributes': {'missing_value': {'created': 1503267242.301455, 'type': {'class': 'H5T_INTEGER', 'base': 'H5T_STD_I64LE'}, 'value': -32768, 'shape': {'class': 'H5S_SCALAR'}}, '_FillValue': {'created': 1503267242.3811512, 'type': {'class': 'H5T_INTEGER', 'base': 'H5T_STD_I64LE'}, 'value': -32768, 'shape': {'class': 'H5S_SCALAR'}}, 'add_offset': {'created': 1503267242.2255487, 'type': {'class': 'H5T_FLOAT', 'base': 'H5T_IEEE_F64LE'}, 'value': 750.0, 'shape': {'class': 'H5S_SCALAR'}}, 'units': {'created': 1503267241.9843466, 'type': {'class': 'H5T_STRING', 'strPad': 'H5T_STR_NULLTERM', 'charSet': 'H5T_CSET_UTF8', 'length': 'H5T_VARIABLE'}, 'value': 'W m-2', 'shape': {'class': 'H5S_SCALAR'}}, 'scale_factor': {'created': 1503267242.1485624, 'type': {'class': 'H5T_FLOAT', 'base': 'H5T_IEEE_F64LE'}, 'value': 0.02288888, 'shape': {'class': 'H5S_SCALAR'}}, 'range_after_scale_and_offset': {'created': 1503267242.068419, 'type': {'class': 'H5T_FLOAT', 'base': 'H5T_IEEE_F64LE'}, 'value': [0.0, 1500.0], 'shape': {'class': 'H5S_SIMPLE', 'dims': [2]}}, 'long_name': {'created': 1503267241.7762902, 'type': {'class': 'H5T_STRING', 'strPad': 'H5T_STR_NULLTERM', 'charSet': 'H5T_CSET_UTF8', 'length': 'H5T_VARIABLE'}, 'value': 'global horizontal irradiance, shortwave only', 'shape': {'class': 'H5S_SCALAR'}}}}, 'd-d29fda32-85f3-11e7-bf89-0242ac110008': {'id': 'd-d29fda32-85f3-11e7-bf89-0242ac110008', 'root': 'g-d146c6be-85f3-11e7-bf89-0242ac110008', 'created': 1503266791, 'lastModified': 1503266791, 'type': {'class': 'H5T_FLOAT', 'base': 'H5T_IEEE_F32LE'}, 'shape': {'dims': [61368, 1602, 2976], 'class': 'H5S_SIMPLE'}, 'creationProperties': {'layout': {'dims': [24, 89, 186], 'class': 'H5D_CHUNKED'}, 'fillTime': 'H5D_FILL_TIME_ALLOC'}, 'layout': {'dims': [24, 89, 186], 'class': 'H5D_CHUNKED'}, 'attributes': {'units': {'created': 1503267238.7189543, 'shape': {'class': 'H5S_SCALAR'}, 'type': {'charSet': 'H5T_CSET_UTF8', 'class': 'H5T_STRING', 'length': 'H5T_VARIABLE', 'strPad': 'H5T_STR_NULLTERM'}, 'value': 'm s-1'}, 'add_offset': {'created': 1503267238.9564881, 'shape': {'class': 'H5S_SCALAR'}, 'type': {'class': 'H5T_FLOAT', 'base': 'H5T_IEEE_F64LE'}, 'value': 100.0}, 'scale_factor': {'created': 1503267238.877458, 'shape': {'class': 'H5S_SCALAR'}, 'type': {'class': 'H5T_FLOAT', 'base': 'H5T_IEEE_F64LE'}, 'value': 0.003051851}, 'long_name': {'created': 1503267238.6395996, 'shape': {'class': 'H5S_SCALAR'}, 'type': {'charSet': 'H5T_CSET_UTF8', 'class': 'H5T_STRING', 'length': 'H5T_VARIABLE', 'strPad': 'H5T_STR_NULLTERM'}, 'value': 'wind speed at 80 meters'}, 'missing_value': {'created': 1503267239.0357134, 'shape': {'class': 'H5S_SCALAR'}, 'type': {'class': 'H5T_INTEGER', 'base': 'H5T_STD_I64LE'}, 'value': -32768}, 'range_after_scale_and_offset': {'created': 1503267238.8036597, 'shape': {'dims': [2], 'class': 'H5S_SIMPLE'}, 'type': {'class': 'H5T_FLOAT', 'base': 'H5T_IEEE_F64LE'}, 'value': [0.0, 200.0]}, '_FillValue': {'created': 1503267239.1184337, 'shape': {'class': 'H5S_SCALAR'}, 'type': {'class': 'H5T_INTEGER', 'base': 'H5T_STD_I64LE'}, 'value': -32768}}}, 'd-d233a2b8-85f3-11e7-bf89-0242ac110008': {'id': 'd-d233a2b8-85f3-11e7-bf89-0242ac110008', 'root': 'g-d146c6be-85f3-11e7-bf89-0242ac110008', 'created': 1503266790, 'lastModified': 1503266790, 'type': {'class': 'H5T_FLOAT', 'base': 'H5T_IEEE_F32LE'}, 'shape': {'dims': [61368, 1602, 2976], 'class': 'H5S_SIMPLE'}, 'creationProperties': {'layout': {'dims': [24, 89, 186], 'class': 'H5D_CHUNKED'}, 'fillTime': 'H5D_FILL_TIME_ALLOC'}, 'layout': {'dims': [24, 89, 186], 'class': 'H5D_CHUNKED'}, 'attributes': {'units': {'created': 1503267228.1426017, 'shape': {'class': 'H5S_SCALAR'}, 'type': {'charSet': 'H5T_CSET_UTF8', 'class': 'H5T_STRING', 'length': 'H5T_VARIABLE', 'strPad': 'H5T_STR_NULLTERM'}, 'value': 'degree'}, 'add_offset': {'created': 1503267228.385321, 'shape': {'class': 'H5S_SCALAR'}, 'type': {'class': 'H5T_FLOAT', 'base': 'H5T_IEEE_F64LE'}, 'value': 180.0}, 'scale_factor': {'created': 1503267228.3145258, 'shape': {'class': 'H5S_SCALAR'}, 'type': {'class': 'H5T_FLOAT', 'base': 'H5T_IEEE_F64LE'}, 'value': 0.005493332}, 'long_name': {'created': 1503267228.0639365, 'shape': {'class': 'H5S_SCALAR'}, 'type': {'charSet': 'H5T_CSET_UTF8', 'class': 'H5T_STRING', 'length': 'H5T_VARIABLE', 'strPad': 'H5T_STR_NULLTERM'}, 'value': 'wind direction at 100 meters'}, 'missing_value': {'created': 1503267228.4658127, 'shape': {'class': 'H5S_SCALAR'}, 'type': {'class': 'H5T_INTEGER', 'base': 'H5T_STD_I64LE'}, 'value': -32768}, 'range_after_scale_and_offset': {'created': 1503267228.2331135, 'shape': {'dims': [2], 'class': 'H5S_SIMPLE'}, 'type': {'class': 'H5T_FLOAT', 'base': 'H5T_IEEE_F64LE'}, 'value': [0.0, 360.0]}, '_FillValue': {'created': 1503267228.5430198, 'shape': {'class': 'H5S_SCALAR'}, 'type': {'class': 'H5T_INTEGER', 'base': 'H5T_STD_I64LE'}, 'value': -32768}}}, 'd-d1c37740-85f3-11e7-bf89-0242ac110008': {'id': 'd-d1c37740-85f3-11e7-bf89-0242ac110008', 'root': 'g-d146c6be-85f3-11e7-bf89-0242ac110008', 'created': 1503266790, 'lastModified': 1503266790, 'type': {'class': 'H5T_FLOAT', 'base': 'H5T_IEEE_F32LE'}, 'shape': {'class': 'H5S_SIMPLE', 'dims': [61368, 1602, 2976]}, 'creationProperties': {'layout': {'class': 'H5D_CHUNKED', 'dims': [24, 89, 186]}, 'fillTime': 'H5D_FILL_TIME_ALLOC'}, 'layout': {'class': 'H5D_CHUNKED', 'dims': [24, 89, 186]}, 'attributes': {'scale_factor': {'created': 1503267225.4656763, 'shape': {'class': 'H5S_SCALAR'}, 'type': {'class': 'H5T_FLOAT', 'base': 'H5T_IEEE_F64LE'}, 'value': 0.003051851}, 'range_after_scale_and_offset': {'created': 1503267225.3860166, 'shape': {'class': 'H5S_SIMPLE', 'dims': [2]}, 'type': {'class': 'H5T_FLOAT', 'base': 'H5T_IEEE_F64LE'}, 'value': [150.0, 350.0]}, 'missing_value': {'created': 1503267225.6288252, 'shape': {'class': 'H5S_SCALAR'}, 'type': {'class': 'H5T_INTEGER', 'base': 'H5T_STD_I64LE'}, 'value': -32768}, 'long_name': {'created': 1503267225.2282903, 'shape': {'class': 'H5S_SCALAR'}, 'type': {'strPad': 'H5T_STR_NULLTERM', 'charSet': 'H5T_CSET_UTF8', 'class': 'H5T_STRING', 'length': 'H5T_VARIABLE'}, 'value': 'temperature at 2m AGL'}, 'add_offset': {'created': 1503267225.547726, 'shape': {'class': 'H5S_SCALAR'}, 'type': {'class': 'H5T_FLOAT', 'base': 'H5T_IEEE_F64LE'}, 'value': 250.0}, 'units': {'created': 1503267225.3078327, 'shape': {'class': 'H5S_SCALAR'}, 'type': {'strPad': 'H5T_STR_NULLTERM', 'charSet': 'H5T_CSET_UTF8', 'class': 'H5T_STRING', 'length': 'H5T_VARIABLE'}, 'value': 'K'}, '_FillValue': {'created': 1503267225.711073, 'shape': {'class': 'H5S_SCALAR'}, 'type': {'class': 'H5T_INTEGER', 'base': 'H5T_STD_I64LE'}, 'value': -32768}}}, 'd-d1c8b2d2-85f3-11e7-bf89-0242ac110008': {'id': 'd-d1c8b2d2-85f3-11e7-bf89-0242ac110008', 'root': 'g-d146c6be-85f3-11e7-bf89-0242ac110008', 'created': 1503266790, 'lastModified': 1503266790, 'type': {'class': 'H5T_FLOAT', 'base': 'H5T_IEEE_F32LE'}, 'shape': {'dims': [61368, 1602, 2976], 'class': 'H5S_SIMPLE'}, 'creationProperties': {'layout': {'dims': [24, 89, 186], 'class': 'H5D_CHUNKED'}, 'fillTime': 'H5D_FILL_TIME_ALLOC'}, 'layout': {'dims': [24, 89, 186], 'class': 'H5D_CHUNKED'}, 'attributes': {'missing_value': {'shape': {'class': 'H5S_SCALAR'}, 'created': 1503267226.2441792, 'value': -32768, 'type': {'class': 'H5T_INTEGER', 'base': 'H5T_STD_I64LE'}}, 'long_name': {'shape': {'class': 'H5S_SCALAR'}, 'created': 1503267225.8432825, 'value': 'temperature at 40m AGL', 'type': {'class': 'H5T_STRING', 'charSet': 'H5T_CSET_UTF8', 'strPad': 'H5T_STR_NULLTERM', 'length': 'H5T_VARIABLE'}}, 'range_after_scale_and_offset': {'shape': {'dims': [2], 'class': 'H5S_SIMPLE'}, 'created': 1503267225.9942222, 'value': [150.0, 350.0], 'type': {'class': 'H5T_FLOAT', 'base': 'H5T_IEEE_F64LE'}}, 'scale_factor': {'shape': {'class': 'H5S_SCALAR'}, 'created': 1503267226.0689495, 'value': 0.003051851, 'type': {'class': 'H5T_FLOAT', 'base': 'H5T_IEEE_F64LE'}}, '_FillValue': {'shape': {'class': 'H5S_SCALAR'}, 'created': 1503267226.3237364, 'value': -32768, 'type': {'class': 'H5T_INTEGER', 'base': 'H5T_STD_I64LE'}}, 'units': {'shape': {'class': 'H5S_SCALAR'}, 'created': 1503267225.916583, 'value': 'K', 'type': {'class': 'H5T_STRING', 'charSet': 'H5T_CSET_UTF8', 'strPad': 'H5T_STR_NULLTERM', 'length': 'H5T_VARIABLE'}}, 'add_offset': {'shape': {'class': 'H5S_SCALAR'}, 'created': 1503267226.1420772, 'value': 250.0, 'type': {'class': 'H5T_FLOAT', 'base': 'H5T_IEEE_F64LE'}}}}, 'd-70e214c6-85f4-11e7-bf89-0242ac110008': {'id': 'd-70e214c6-85f4-11e7-bf89-0242ac110008', 'root': 'g-d146c6be-85f3-11e7-bf89-0242ac110008', 'created': 1503267057, 'lastModified': 1503267057, 'type': {'class': 'H5T_COMPOUND', 'fields': [{'type': {'class': 'H5T_FLOAT', 'base': 'H5T_IEEE_F64LE'}, 'name': 'lat'}, {'type': {'class': 'H5T_FLOAT', 'base': 'H5T_IEEE_F64LE'}, 'name': 'lon'}]}, 'shape': {'dims': [1602, 2976], 'class': 'H5S_SIMPLE'}, 'creationProperties': {}, 'layout': {'dims': [801, 1488], 'class': 'H5D_CHUNKED'}, 'attributes': {}}, 'd-d256f83a-85f3-11e7-bf89-0242ac110008': {'id': 'd-d256f83a-85f3-11e7-bf89-0242ac110008', 'root': 'g-d146c6be-85f3-11e7-bf89-0242ac110008', 'created': 1503266791, 'lastModified': 1503266791, 'type': {'class': 'H5T_FLOAT', 'base': 'H5T_IEEE_F32LE'}, 'shape': {'class': 'H5S_SIMPLE', 'dims': [61368, 1602, 2976]}, 'creationProperties': {'layout': {'class': 'H5D_CHUNKED', 'dims': [24, 89, 186]}, 'fillTime': 'H5D_FILL_TIME_ALLOC'}, 'layout': {'class': 'H5D_CHUNKED', 'dims': [24, 89, 186]}, 'attributes': {'missing_value': {'created': 1503267232.9355478, 'type': {'class': 'H5T_INTEGER', 'base': 'H5T_STD_I64LE'}, 'value': -32768, 'shape': {'class': 'H5S_SCALAR'}}, '_FillValue': {'created': 1503267233.0178719, 'type': {'class': 'H5T_INTEGER', 'base': 'H5T_STD_I64LE'}, 'value': -32768, 'shape': {'class': 'H5S_SCALAR'}}, 'add_offset': {'created': 1503267232.8590035, 'type': {'class': 'H5T_FLOAT', 'base': 'H5T_IEEE_F64LE'}, 'value': 180.0, 'shape': {'class': 'H5S_SCALAR'}}, 'units': {'created': 1503267232.6282306, 'type': {'class': 'H5T_STRING', 'strPad': 'H5T_STR_NULLTERM', 'charSet': 'H5T_CSET_UTF8', 'length': 'H5T_VARIABLE'}, 'value': 'degree', 'shape': {'class': 'H5S_SCALAR'}}, 'scale_factor': {'created': 1503267232.778692, 'type': {'class': 'H5T_FLOAT', 'base': 'H5T_IEEE_F64LE'}, 'value': 0.005493332, 'shape': {'class': 'H5S_SCALAR'}}, 'range_after_scale_and_offset': {'created': 1503267232.7008488, 'type': {'class': 'H5T_FLOAT', 'base': 'H5T_IEEE_F64LE'}, 'value': [0.0, 360.0], 'shape': {'class': 'H5S_SIMPLE', 'dims': [2]}}, 'long_name': {'created': 1503267232.549534, 'type': {'class': 'H5T_STRING', 'strPad': 'H5T_STR_NULLTERM', 'charSet': 'H5T_CSET_UTF8', 'length': 'H5T_VARIABLE'}, 'value': 'wind direction at 60 meters', 'shape': {'class': 'H5S_SCALAR'}}}}, 'd-d28df998-85f3-11e7-bf89-0242ac110008': {'id': 'd-d28df998-85f3-11e7-bf89-0242ac110008', 'root': 'g-d146c6be-85f3-11e7-bf89-0242ac110008', 'created': 1503266791, 'lastModified': 1503266791, 'type': {'class': 'H5T_FLOAT', 'base': 'H5T_IEEE_F32LE'}, 'shape': {'dims': [61368, 1602, 2976], 'class': 'H5S_SIMPLE'}, 'creationProperties': {'layout': {'dims': [24, 89, 186], 'class': 'H5D_CHUNKED'}, 'fillTime': 'H5D_FILL_TIME_ALLOC'}, 'layout': {'dims': [24, 89, 186], 'class': 'H5D_CHUNKED'}, 'attributes': {'missing_value': {'shape': {'class': 'H5S_SCALAR'}, 'created': 1503267236.5799916, 'value': -32768, 'type': {'class': 'H5T_INTEGER', 'base': 'H5T_STD_I64LE'}}, 'long_name': {'shape': {'class': 'H5S_SCALAR'}, 'created': 1503267236.1861975, 'value': 'wind speed at 160 meters', 'type': {'class': 'H5T_STRING', 'charSet': 'H5T_CSET_UTF8', 'strPad': 'H5T_STR_NULLTERM', 'length': 'H5T_VARIABLE'}}, 'range_after_scale_and_offset': {'shape': {'dims': [2], 'class': 'H5S_SIMPLE'}, 'created': 1503267236.347418, 'value': [0.0, 200.0], 'type': {'class': 'H5T_FLOAT', 'base': 'H5T_IEEE_F64LE'}}, 'scale_factor': {'shape': {'class': 'H5S_SCALAR'}, 'created': 1503267236.4279037, 'value': 0.003051851, 'type': {'class': 'H5T_FLOAT', 'base': 'H5T_IEEE_F64LE'}}, '_FillValue': {'shape': {'class': 'H5S_SCALAR'}, 'created': 1503267236.6607265, 'value': -32768, 'type': {'class': 'H5T_INTEGER', 'base': 'H5T_STD_I64LE'}}, 'units': {'shape': {'class': 'H5S_SCALAR'}, 'created': 1503267236.26751, 'value': 'm s-1', 'type': {'class': 'H5T_STRING', 'charSet': 'H5T_CSET_UTF8', 'strPad': 'H5T_STR_NULLTERM', 'length': 'H5T_VARIABLE'}}, 'add_offset': {'shape': {'class': 'H5S_SCALAR'}, 'created': 1503267236.5062373, 'value': 100.0, 'type': {'class': 'H5T_FLOAT', 'base': 'H5T_IEEE_F64LE'}}}}, 'd-d2523b06-85f3-11e7-bf89-0242ac110008': {'id': 'd-d2523b06-85f3-11e7-bf89-0242ac110008', 'root': 'g-d146c6be-85f3-11e7-bf89-0242ac110008', 'created': 1503266791, 'lastModified': 1503266791, 'type': {'class': 'H5T_FLOAT', 'base': 'H5T_IEEE_F32LE'}, 'shape': {'dims': [61368, 1602, 2976], 'class': 'H5S_SIMPLE'}, 'creationProperties': {'layout': {'dims': [24, 89, 186], 'class': 'H5D_CHUNKED'}, 'fillTime': 'H5D_FILL_TIME_ALLOC'}, 'layout': {'dims': [24, 89, 186], 'class': 'H5D_CHUNKED'}, 'attributes': {'missing_value': {'shape': {'class': 'H5S_SCALAR'}, 'created': 1503267232.3339565, 'value': -32768, 'type': {'class': 'H5T_INTEGER', 'base': 'H5T_STD_I64LE'}}, 'long_name': {'shape': {'class': 'H5S_SCALAR'}, 'created': 1503267231.9377184, 'value': 'wind direction at 40 meters', 'type': {'class': 'H5T_STRING', 'charSet': 'H5T_CSET_UTF8', 'strPad': 'H5T_STR_NULLTERM', 'length': 'H5T_VARIABLE'}}, 'range_after_scale_and_offset': {'shape': {'dims': [2], 'class': 'H5S_SIMPLE'}, 'created': 1503267232.0929863, 'value': [0.0, 360.0], 'type': {'class': 'H5T_FLOAT', 'base': 'H5T_IEEE_F64LE'}}, 'scale_factor': {'shape': {'class': 'H5S_SCALAR'}, 'created': 1503267232.1831791, 'value': 0.005493332, 'type': {'class': 'H5T_FLOAT', 'base': 'H5T_IEEE_F64LE'}}, '_FillValue': {'shape': {'class': 'H5S_SCALAR'}, 'created': 1503267232.4125898, 'value': -32768, 'type': {'class': 'H5T_INTEGER', 'base': 'H5T_STD_I64LE'}}, 'units': {'shape': {'class': 'H5S_SCALAR'}, 'created': 1503267232.013919, 'value': 'degree', 'type': {'class': 'H5T_STRING', 'charSet': 'H5T_CSET_UTF8', 'strPad': 'H5T_STR_NULLTERM', 'length': 'H5T_VARIABLE'}}, 'add_offset': {'shape': {'class': 'H5S_SCALAR'}, 'created': 1503267232.2593875, 'value': 180.0, 'type': {'class': 'H5T_FLOAT', 'base': 'H5T_IEEE_F64LE'}}}}, 'd-d237e7ec-85f3-11e7-bf89-0242ac110008': {'id': 'd-d237e7ec-85f3-11e7-bf89-0242ac110008', 'root': 'g-d146c6be-85f3-11e7-bf89-0242ac110008', 'created': 1503266790, 'lastModified': 1503266790, 'type': {'class': 'H5T_FLOAT', 'base': 'H5T_IEEE_F32LE'}, 'shape': {'dims': [61368, 1602, 2976], 'class': 'H5S_SIMPLE'}, 'creationProperties': {'layout': {'dims': [24, 89, 186], 'class': 'H5D_CHUNKED'}, 'fillTime': 'H5D_FILL_TIME_ALLOC'}, 'layout': {'dims': [24, 89, 186], 'class': 'H5D_CHUNKED'}, 'attributes': {'units': {'created': 1503267228.7547452, 'shape': {'class': 'H5S_SCALAR'}, 'type': {'charSet': 'H5T_CSET_UTF8', 'class': 'H5T_STRING', 'length': 'H5T_VARIABLE', 'strPad': 'H5T_STR_NULLTERM'}, 'value': 'degree'}, 'add_offset': {'created': 1503267228.98775, 'shape': {'class': 'H5S_SCALAR'}, 'type': {'class': 'H5T_FLOAT', 'base': 'H5T_IEEE_F64LE'}, 'value': 180.0}, 'scale_factor': {'created': 1503267228.9069877, 'shape': {'class': 'H5S_SCALAR'}, 'type': {'class': 'H5T_FLOAT', 'base': 'H5T_IEEE_F64LE'}, 'value': 0.005493332}, 'long_name': {'created': 1503267228.6784902, 'shape': {'class': 'H5S_SCALAR'}, 'type': {'charSet': 'H5T_CSET_UTF8', 'class': 'H5T_STRING', 'length': 'H5T_VARIABLE', 'strPad': 'H5T_STR_NULLTERM'}, 'value': 'wind direction at 10 meters'}, 'missing_value': {'created': 1503267229.0653925, 'shape': {'class': 'H5S_SCALAR'}, 'type': {'class': 'H5T_INTEGER', 'base': 'H5T_STD_I64LE'}, 'value': -32768}, 'range_after_scale_and_offset': {'created': 1503267228.827783, 'shape': {'dims': [2], 'class': 'H5S_SIMPLE'}, 'type': {'class': 'H5T_FLOAT', 'base': 'H5T_IEEE_F64LE'}, 'value': [0.0, 360.0]}, '_FillValue': {'created': 1503267229.1457307, 'shape': {'class': 'H5S_SCALAR'}, 'type': {'class': 'H5T_INTEGER', 'base': 'H5T_STD_I64LE'}, 'value': -32768}}}, 'd-d1538516-85f3-11e7-bf89-0242ac110008': {'id': 'd-d1538516-85f3-11e7-bf89-0242ac110008', 'root': 'g-d146c6be-85f3-11e7-bf89-0242ac110008', 'created': 1503266789, 'lastModified': 1503266789, 'type': {'class': 'H5T_FLOAT', 'base': 'H5T_IEEE_F32LE'}, 'shape': {'class': 'H5S_SIMPLE', 'dims': [61368, 1602, 2976]}, 'creationProperties': {'layout': {'class': 'H5D_CHUNKED', 'dims': [24, 89, 186]}, 'fillTime': 'H5D_FILL_TIME_ALLOC'}, 'layout': {'class': 'H5D_CHUNKED', 'dims': [24, 89, 186]}, 'attributes': {'scale_factor': {'created': 1503267240.7404857, 'shape': {'class': 'H5S_SCALAR'}, 'type': {'class': 'H5T_FLOAT', 'base': 'H5T_IEEE_F64LE'}, 'value': 0.02288888}, 'range_after_scale_and_offset': {'created': 1503267240.6664908, 'shape': {'class': 'H5S_SIMPLE', 'dims': [2]}, 'type': {'class': 'H5T_FLOAT', 'base': 'H5T_IEEE_F64LE'}, 'value': [0.0, 1500.0]}, 'missing_value': {'created': 1503267240.890609, 'shape': {'class': 'H5S_SCALAR'}, 'type': {'class': 'H5T_INTEGER', 'base': 'H5T_STD_I64LE'}, 'value': -32768}, 'long_name': {'created': 1503267240.4876401, 'shape': {'class': 'H5S_SCALAR'}, 'type': {'strPad': 'H5T_STR_NULLTERM', 'charSet': 'H5T_CSET_UTF8', 'class': 'H5T_STRING', 'length': 'H5T_VARIABLE'}, 'value': 'direct normal irradiance'}, 'add_offset': {'created': 1503267240.815684, 'shape': {'class': 'H5S_SCALAR'}, 'type': {'class': 'H5T_FLOAT', 'base': 'H5T_IEEE_F64LE'}, 'value': 750.0}, 'units': {'created': 1503267240.5662594, 'shape': {'class': 'H5S_SCALAR'}, 'type': {'strPad': 'H5T_STR_NULLTERM', 'charSet': 'H5T_CSET_UTF8', 'class': 'H5T_STRING', 'length': 'H5T_VARIABLE'}, 'value': 'W m-2'}, '_FillValue': {'created': 1503267240.9697, 'shape': {'class': 'H5S_SCALAR'}, 'type': {'class': 'H5T_INTEGER', 'base': 'H5T_STD_I64LE'}, 'value': -32768}}}, 'd-d24a5b2a-85f3-11e7-bf89-0242ac110008': {'id': 'd-d24a5b2a-85f3-11e7-bf89-0242ac110008', 'root': 'g-d146c6be-85f3-11e7-bf89-0242ac110008', 'created': 1503266791, 'lastModified': 1503266791, 'type': {'class': 'H5T_FLOAT', 'base': 'H5T_IEEE_F32LE'}, 'shape': {'dims': [61368, 1602, 2976], 'class': 'H5S_SIMPLE'}, 'creationProperties': {'layout': {'dims': [24, 89, 186], 'class': 'H5D_CHUNKED'}, 'fillTime': 'H5D_FILL_TIME_ALLOC'}, 'layout': {'dims': [24, 89, 186], 'class': 'H5D_CHUNKED'}, 'attributes': {'missing_value': {'shape': {'class': 'H5S_SCALAR'}, 'created': 1503267231.5750885, 'value': -32768, 'type': {'class': 'H5T_INTEGER', 'base': 'H5T_STD_I64LE'}}, 'long_name': {'shape': {'class': 'H5S_SCALAR'}, 'created': 1503267231.1882322, 'value': 'wind direction at 200 meters', 'type': {'class': 'H5T_STRING', 'charSet': 'H5T_CSET_UTF8', 'strPad': 'H5T_STR_NULLTERM', 'length': 'H5T_VARIABLE'}}, 'range_after_scale_and_offset': {'shape': {'dims': [2], 'class': 'H5S_SIMPLE'}, 'created': 1503267231.3383875, 'value': [0.0, 360.0], 'type': {'class': 'H5T_FLOAT', 'base': 'H5T_IEEE_F64LE'}}, 'scale_factor': {'shape': {'class': 'H5S_SCALAR'}, 'created': 1503267231.4217217, 'value': 0.005493332, 'type': {'class': 'H5T_FLOAT', 'base': 'H5T_IEEE_F64LE'}}, '_FillValue': {'shape': {'class': 'H5S_SCALAR'}, 'created': 1503267231.8116276, 'value': -32768, 'type': {'class': 'H5T_INTEGER', 'base': 'H5T_STD_I64LE'}}, 'units': {'shape': {'class': 'H5S_SCALAR'}, 'created': 1503267231.2615895, 'value': 'degree', 'type': {'class': 'H5T_STRING', 'charSet': 'H5T_CSET_UTF8', 'strPad': 'H5T_STR_NULLTERM', 'length': 'H5T_VARIABLE'}}, 'add_offset': {'shape': {'class': 'H5S_SCALAR'}, 'created': 1503267231.4993641, 'value': 180.0, 'type': {'class': 'H5T_FLOAT', 'base': 'H5T_IEEE_F64LE'}}}}, 'd-d29b712c-85f3-11e7-bf89-0242ac110008': {'id': 'd-d29b712c-85f3-11e7-bf89-0242ac110008', 'root': 'g-d146c6be-85f3-11e7-bf89-0242ac110008', 'created': 1503266791, 'lastModified': 1503266791, 'type': {'class': 'H5T_FLOAT', 'base': 'H5T_IEEE_F32LE'}, 'shape': {'class': 'H5S_SIMPLE', 'dims': [61368, 1602, 2976]}, 'creationProperties': {'layout': {'class': 'H5D_CHUNKED', 'dims': [24, 89, 186]}, 'fillTime': 'H5D_FILL_TIME_ALLOC'}, 'layout': {'class': 'H5D_CHUNKED', 'dims': [24, 89, 186]}, 'attributes': {'missing_value': {'created': 1503267238.4234967, 'type': {'class': 'H5T_INTEGER', 'base': 'H5T_STD_I64LE'}, 'value': -32768, 'shape': {'class': 'H5S_SCALAR'}}, '_FillValue': {'created': 1503267238.5062811, 'type': {'class': 'H5T_INTEGER', 'base': 'H5T_STD_I64LE'}, 'value': -32768, 'shape': {'class': 'H5S_SCALAR'}}, 'add_offset': {'created': 1503267238.342048, 'type': {'class': 'H5T_FLOAT', 'base': 'H5T_IEEE_F64LE'}, 'value': 100.0, 'shape': {'class': 'H5S_SCALAR'}}, 'units': {'created': 1503267238.1003654, 'type': {'class': 'H5T_STRING', 'strPad': 'H5T_STR_NULLTERM', 'charSet': 'H5T_CSET_UTF8', 'length': 'H5T_VARIABLE'}, 'value': 'm s-1', 'shape': {'class': 'H5S_SCALAR'}}, 'scale_factor': {'created': 1503267238.2575257, 'type': {'class': 'H5T_FLOAT', 'base': 'H5T_IEEE_F64LE'}, 'value': 0.003051851, 'shape': {'class': 'H5S_SCALAR'}}, 'range_after_scale_and_offset': {'created': 1503267238.1804981, 'type': {'class': 'H5T_FLOAT', 'base': 'H5T_IEEE_F64LE'}, 'value': [0.0, 200.0], 'shape': {'class': 'H5S_SIMPLE', 'dims': [2]}}, 'long_name': {'created': 1503267238.0166767, 'type': {'class': 'H5T_STRING', 'strPad': 'H5T_STR_NULLTERM', 'charSet': 'H5T_CSET_UTF8', 'length': 'H5T_VARIABLE'}, 'value': 'wind speed at 60 meters', 'shape': {'class': 'H5S_SCALAR'}}}}, 'd-d2a8d808-85f3-11e7-bf89-0242ac110008': {'id': 'd-d2a8d808-85f3-11e7-bf89-0242ac110008', 'root': 'g-d146c6be-85f3-11e7-bf89-0242ac110008', 'created': 1503266791, 'lastModified': 1503266791, 'type': {'class': 'H5T_STRING', 'charSet': 'H5T_CSET_ASCII', 'strPad': 'H5T_STR_NULLPAD', 'length': 14}, 'shape': {'dims': [61368], 'class': 'H5S_SIMPLE'}, 'creationProperties': {}, 'layout': {'dims': [61368], 'class': 'H5D_CHUNKED'}, 'attributes': {}}, 'd-d18c182c-85f3-11e7-bf89-0242ac110008': {'id': 'd-d18c182c-85f3-11e7-bf89-0242ac110008', 'root': 'g-d146c6be-85f3-11e7-bf89-0242ac110008', 'created': 1503266789, 'lastModified': 1503266789, 'type': {'class': 'H5T_FLOAT', 'base': 'H5T_IEEE_F32LE'}, 'shape': {'class': 'H5S_SIMPLE', 'dims': [61368, 1602, 2976]}, 'creationProperties': {'layout': {'class': 'H5D_CHUNKED', 'dims': [24, 89, 186]}, 'fillTime': 'H5D_FILL_TIME_ALLOC'}, 'layout': {'class': 'H5D_CHUNKED', 'dims': [24, 89, 186]}, 'attributes': {'scale_factor': {'created': 1503267220.4659555, 'shape': {'class': 'H5S_SCALAR'}, 'type': {'class': 'H5T_FLOAT', 'base': 'H5T_IEEE_F64LE'}, 'value': 0.9155553}, 'range_after_scale_and_offset': {'created': 1503267220.3798819, 'shape': {'class': 'H5S_SIMPLE', 'dims': [2]}, 'type': {'class': 'H5T_FLOAT', 'base': 'H5T_IEEE_F64LE'}, 'value': [50000.0, 110000.0]}, 'missing_value': {'created': 1503267220.6216905, 'shape': {'class': 'H5S_SCALAR'}, 'type': {'class': 'H5T_INTEGER', 'base': 'H5T_STD_I64LE'}, 'value': -32768}, 'long_name': {'created': 1503267220.2236185, 'shape': {'class': 'H5S_SCALAR'}, 'type': {'strPad': 'H5T_STR_NULLTERM', 'charSet': 'H5T_CSET_UTF8', 'class': 'H5T_STRING', 'length': 'H5T_VARIABLE'}, 'value': 'pressure at 100m AGL'}, 'add_offset': {'created': 1503267220.5452752, 'shape': {'class': 'H5S_SCALAR'}, 'type': {'class': 'H5T_FLOAT', 'base': 'H5T_IEEE_F64LE'}, 'value': 80000.0}, 'units': {'created': 1503267220.3013697, 'shape': {'class': 'H5S_SCALAR'}, 'type': {'strPad': 'H5T_STR_NULLTERM', 'charSet': 'H5T_CSET_UTF8', 'class': 'H5T_STRING', 'length': 'H5T_VARIABLE'}, 'value': 'Pa'}, '_FillValue': {'created': 1503267220.7014296, 'shape': {'class': 'H5S_SCALAR'}, 'type': {'class': 'H5T_INTEGER', 'base': 'H5T_STD_I64LE'}, 'value': -32768}}}, 'd-d2970d1c-85f3-11e7-bf89-0242ac110008': {'id': 'd-d2970d1c-85f3-11e7-bf89-0242ac110008', 'root': 'g-d146c6be-85f3-11e7-bf89-0242ac110008', 'created': 1503266791, 'lastModified': 1503266791, 'type': {'class': 'H5T_FLOAT', 'base': 'H5T_IEEE_F32LE'}, 'shape': {'dims': [61368, 1602, 2976], 'class': 'H5S_SIMPLE'}, 'creationProperties': {'layout': {'dims': [24, 89, 186], 'class': 'H5D_CHUNKED'}, 'fillTime': 'H5D_FILL_TIME_ALLOC'}, 'layout': {'dims': [24, 89, 186], 'class': 'H5D_CHUNKED'}, 'attributes': {'missing_value': {'shape': {'class': 'H5S_SCALAR'}, 'created': 1503267237.802101, 'value': -32768, 'type': {'class': 'H5T_INTEGER', 'base': 'H5T_STD_I64LE'}}, 'long_name': {'shape': {'class': 'H5S_SCALAR'}, 'created': 1503267237.3968484, 'value': 'wind speed at 40 meters', 'type': {'class': 'H5T_STRING', 'charSet': 'H5T_CSET_UTF8', 'strPad': 'H5T_STR_NULLTERM', 'length': 'H5T_VARIABLE'}}, 'range_after_scale_and_offset': {'shape': {'dims': [2], 'class': 'H5S_SIMPLE'}, 'created': 1503267237.5575433, 'value': [0.0, 200.0], 'type': {'class': 'H5T_FLOAT', 'base': 'H5T_IEEE_F64LE'}}, 'scale_factor': {'shape': {'class': 'H5S_SCALAR'}, 'created': 1503267237.6365657, 'value': 0.003051851, 'type': {'class': 'H5T_FLOAT', 'base': 'H5T_IEEE_F64LE'}}, '_FillValue': {'shape': {'class': 'H5S_SCALAR'}, 'created': 1503267237.8826137, 'value': -32768, 'type': {'class': 'H5T_INTEGER', 'base': 'H5T_STD_I64LE'}}, 'units': {'shape': {'class': 'H5S_SCALAR'}, 'created': 1503267237.4786534, 'value': 'm s-1', 'type': {'class': 'H5T_STRING', 'charSet': 'H5T_CSET_UTF8', 'strPad': 'H5T_STR_NULLTERM', 'length': 'H5T_VARIABLE'}}, 'add_offset': {'shape': {'class': 'H5S_SCALAR'}, 'created': 1503267237.718724, 'value': 100.0, 'type': {'class': 'H5T_FLOAT', 'base': 'H5T_IEEE_F64LE'}}}}, 'd-d1b10b64-85f3-11e7-bf89-0242ac110008': {'id': 'd-d1b10b64-85f3-11e7-bf89-0242ac110008', 'root': 'g-d146c6be-85f3-11e7-bf89-0242ac110008', 'created': 1503266789, 'lastModified': 1503266789, 'type': {'class': 'H5T_FLOAT', 'base': 'H5T_IEEE_F32LE'}, 'shape': {'dims': [61368, 1602, 2976], 'class': 'H5S_SIMPLE'}, 'creationProperties': {'layout': {'dims': [24, 89, 186], 'class': 'H5D_CHUNKED'}, 'fillTime': 'H5D_FILL_TIME_ALLOC'}, 'layout': {'dims': [24, 89, 186], 'class': 'H5D_CHUNKED'}, 'attributes': {'units': {'created': 1503267222.7465396, 'shape': {'class': 'H5S_SCALAR'}, 'type': {'charSet': 'H5T_CSET_UTF8', 'class': 'H5T_STRING', 'length': 'H5T_VARIABLE', 'strPad': 'H5T_STR_NULLTERM'}, 'value': 'K'}, 'add_offset': {'created': 1503267222.9826906, 'shape': {'class': 'H5S_SCALAR'}, 'type': {'class': 'H5T_FLOAT', 'base': 'H5T_IEEE_F64LE'}, 'value': 250.0}, 'scale_factor': {'created': 1503267222.9057872, 'shape': {'class': 'H5S_SCALAR'}, 'type': {'class': 'H5T_FLOAT', 'base': 'H5T_IEEE_F64LE'}, 'value': 0.003051851}, 'long_name': {'created': 1503267222.6618676, 'shape': {'class': 'H5S_SCALAR'}, 'type': {'charSet': 'H5T_CSET_UTF8', 'class': 'H5T_STRING', 'length': 'H5T_VARIABLE', 'strPad': 'H5T_STR_NULLTERM'}, 'value': 'temperature at 120m AGL'}, 'missing_value': {'created': 1503267223.066136, 'shape': {'class': 'H5S_SCALAR'}, 'type': {'class': 'H5T_INTEGER', 'base': 'H5T_STD_I64LE'}, 'value': -32768}, 'range_after_scale_and_offset': {'created': 1503267222.825682, 'shape': {'dims': [2], 'class': 'H5S_SIMPLE'}, 'type': {'class': 'H5T_FLOAT', 'base': 'H5T_IEEE_F64LE'}, 'value': [150.0, 350.0]}, '_FillValue': {'created': 1503267223.1454194, 'shape': {'class': 'H5S_SCALAR'}, 'type': {'class': 'H5T_INTEGER', 'base': 'H5T_STD_I64LE'}, 'value': -32768}}}, 'd-d26a65a0-85f3-11e7-bf89-0242ac110008': {'id': 'd-d26a65a0-85f3-11e7-bf89-0242ac110008', 'root': 'g-d146c6be-85f3-11e7-bf89-0242ac110008', 'created': 1503266791, 'lastModified': 1503266791, 'type': {'class': 'H5T_FLOAT', 'base': 'H5T_IEEE_F32LE'}, 'shape': {'dims': [61368, 1602, 2976], 'class': 'H5S_SIMPLE'}, 'creationProperties': {'layout': {'dims': [24, 89, 186], 'class': 'H5D_CHUNKED'}, 'fillTime': 'H5D_FILL_TIME_ALLOC'}, 'layout': {'dims': [24, 89, 186], 'class': 'H5D_CHUNKED'}, 'attributes': {'missing_value': {'shape': {'class': 'H5S_SCALAR'}, 'created': 1503267234.1239383, 'value': -32768, 'type': {'class': 'H5T_INTEGER', 'base': 'H5T_STD_I64LE'}}, 'long_name': {'shape': {'class': 'H5S_SCALAR'}, 'created': 1503267233.740097, 'value': 'wind speed at 100 meters', 'type': {'class': 'H5T_STRING', 'charSet': 'H5T_CSET_UTF8', 'strPad': 'H5T_STR_NULLTERM', 'length': 'H5T_VARIABLE'}}, 'range_after_scale_and_offset': {'shape': {'dims': [2], 'class': 'H5S_SIMPLE'}, 'created': 1503267233.8903072, 'value': [0.0, 200.0], 'type': {'class': 'H5T_FLOAT', 'base': 'H5T_IEEE_F64LE'}}, 'scale_factor': {'shape': {'class': 'H5S_SCALAR'}, 'created': 1503267233.968594, 'value': 0.003051851, 'type': {'class': 'H5T_FLOAT', 'base': 'H5T_IEEE_F64LE'}}, '_FillValue': {'shape': {'class': 'H5S_SCALAR'}, 'created': 1503267234.2019897, 'value': -32768, 'type': {'class': 'H5T_INTEGER', 'base': 'H5T_STD_I64LE'}}, 'units': {'shape': {'class': 'H5S_SCALAR'}, 'created': 1503267233.8155334, 'value': 'm s-1', 'type': {'class': 'H5T_STRING', 'charSet': 'H5T_CSET_UTF8', 'strPad': 'H5T_STR_NULLTERM', 'length': 'H5T_VARIABLE'}}, 'add_offset': {'shape': {'class': 'H5S_SCALAR'}, 'created': 1503267234.0458856, 'value': 100.0, 'type': {'class': 'H5T_FLOAT', 'base': 'H5T_IEEE_F64LE'}}}}, 'd-d240ceca-85f3-11e7-bf89-0242ac110008': {'id': 'd-d240ceca-85f3-11e7-bf89-0242ac110008', 'root': 'g-d146c6be-85f3-11e7-bf89-0242ac110008', 'created': 1503266790, 'lastModified': 1503266790, 'type': {'class': 'H5T_FLOAT', 'base': 'H5T_IEEE_F32LE'}, 'shape': {'class': 'H5S_SIMPLE', 'dims': [61368, 1602, 2976]}, 'creationProperties': {'layout': {'class': 'H5D_CHUNKED', 'dims': [24, 89, 186]}, 'fillTime': 'H5D_FILL_TIME_ALLOC'}, 'layout': {'class': 'H5D_CHUNKED', 'dims': [24, 89, 186]}, 'attributes': {'missing_value': {'created': 1503267230.356073, 'type': {'class': 'H5T_INTEGER', 'base': 'H5T_STD_I64LE'}, 'value': -32768, 'shape': {'class': 'H5S_SCALAR'}}, '_FillValue': {'created': 1503267230.4438145, 'type': {'class': 'H5T_INTEGER', 'base': 'H5T_STD_I64LE'}, 'value': -32768, 'shape': {'class': 'H5S_SCALAR'}}, 'add_offset': {'created': 1503267230.2781527, 'type': {'class': 'H5T_FLOAT', 'base': 'H5T_IEEE_F64LE'}, 'value': 180.0, 'shape': {'class': 'H5S_SCALAR'}}, 'units': {'created': 1503267230.0471368, 'type': {'class': 'H5T_STRING', 'strPad': 'H5T_STR_NULLTERM', 'charSet': 'H5T_CSET_UTF8', 'length': 'H5T_VARIABLE'}, 'value': 'degree', 'shape': {'class': 'H5S_SCALAR'}}, 'scale_factor': {'created': 1503267230.2009053, 'type': {'class': 'H5T_FLOAT', 'base': 'H5T_IEEE_F64LE'}, 'value': 0.005493332, 'shape': {'class': 'H5S_SCALAR'}}, 'range_after_scale_and_offset': {'created': 1503267230.125538, 'type': {'class': 'H5T_FLOAT', 'base': 'H5T_IEEE_F64LE'}, 'value': [0.0, 360.0], 'shape': {'class': 'H5S_SIMPLE', 'dims': [2]}}, 'long_name': {'created': 1503267229.9717927, 'type': {'class': 'H5T_STRING', 'strPad': 'H5T_STR_NULLTERM', 'charSet': 'H5T_CSET_UTF8', 'length': 'H5T_VARIABLE'}, 'value': 'wind direction at 140 meters', 'shape': {'class': 'H5S_SCALAR'}}}}, 'd-d1a60c78-85f3-11e7-bf89-0242ac110008': {'id': 'd-d1a60c78-85f3-11e7-bf89-0242ac110008', 'root': 'g-d146c6be-85f3-11e7-bf89-0242ac110008', 'created': 1503266789, 'lastModified': 1503266789, 'type': {'class': 'H5T_FLOAT', 'base': 'H5T_IEEE_F32LE'}, 'shape': {'dims': [61368, 1602, 2976], 'class': 'H5S_SIMPLE'}, 'creationProperties': {'layout': {'dims': [24, 89, 186], 'class': 'H5D_CHUNKED'}, 'fillTime': 'H5D_FILL_TIME_ALLOC'}, 'layout': {'dims': [24, 89, 186], 'class': 'H5D_CHUNKED'}, 'attributes': {'units': {'created': 1503267221.5142636, 'shape': {'class': 'H5S_SCALAR'}, 'type': {'charSet': 'H5T_CSET_UTF8', 'class': 'H5T_STRING', 'length': 'H5T_VARIABLE', 'strPad': 'H5T_STR_NULLTERM'}, 'value': 'K'}, 'add_offset': {'created': 1503267221.7481945, 'shape': {'class': 'H5S_SCALAR'}, 'type': {'class': 'H5T_FLOAT', 'base': 'H5T_IEEE_F64LE'}, 'value': 250.0}, 'scale_factor': {'created': 1503267221.6679175, 'shape': {'class': 'H5S_SCALAR'}, 'type': {'class': 'H5T_FLOAT', 'base': 'H5T_IEEE_F64LE'}, 'value': 0.003051851}, 'long_name': {'created': 1503267221.436563, 'shape': {'class': 'H5S_SCALAR'}, 'type': {'charSet': 'H5T_CSET_UTF8', 'class': 'H5T_STRING', 'length': 'H5T_VARIABLE', 'strPad': 'H5T_STR_NULLTERM'}, 'value': 'temperature at 100m AGL'}, 'missing_value': {'created': 1503267221.8361852, 'shape': {'class': 'H5S_SCALAR'}, 'type': {'class': 'H5T_INTEGER', 'base': 'H5T_STD_I64LE'}, 'value': -32768}, 'range_after_scale_and_offset': {'created': 1503267221.5903234, 'shape': {'dims': [2], 'class': 'H5S_SIMPLE'}, 'type': {'class': 'H5T_FLOAT', 'base': 'H5T_IEEE_F64LE'}, 'value': [150.0, 350.0]}, '_FillValue': {'created': 1503267221.9163408, 'shape': {'class': 'H5S_SCALAR'}, 'type': {'class': 'H5T_INTEGER', 'base': 'H5T_STD_I64LE'}, 'value': -32768}}}, 'd-d2657bee-85f3-11e7-bf89-0242ac110008': {'id': 'd-d2657bee-85f3-11e7-bf89-0242ac110008', 'root': 'g-d146c6be-85f3-11e7-bf89-0242ac110008', 'created': 1503266791, 'lastModified': 1503266791, 'type': {'class': 'H5T_FLOAT', 'base': 'H5T_IEEE_F32LE'}, 'shape': {'class': 'H5S_SIMPLE', 'dims': [61368, 1602, 2976]}, 'creationProperties': {'layout': {'class': 'H5D_CHUNKED', 'dims': [24, 89, 186]}, 'fillTime': 'H5D_FILL_TIME_ALLOC'}, 'layout': {'class': 'H5D_CHUNKED', 'dims': [24, 89, 186]}, 'attributes': {'missing_value': {'created': 1503267233.529978, 'type': {'class': 'H5T_INTEGER', 'base': 'H5T_STD_I64LE'}, 'value': -32768, 'shape': {'class': 'H5S_SCALAR'}}, '_FillValue': {'created': 1503267233.6085336, 'type': {'class': 'H5T_INTEGER', 'base': 'H5T_STD_I64LE'}, 'value': -32768, 'shape': {'class': 'H5S_SCALAR'}}, 'add_offset': {'created': 1503267233.4498012, 'type': {'class': 'H5T_FLOAT', 'base': 'H5T_IEEE_F64LE'}, 'value': 180.0, 'shape': {'class': 'H5S_SCALAR'}}, 'units': {'created': 1503267233.2218707, 'type': {'class': 'H5T_STRING', 'strPad': 'H5T_STR_NULLTERM', 'charSet': 'H5T_CSET_UTF8', 'length': 'H5T_VARIABLE'}, 'value': 'degree', 'shape': {'class': 'H5S_SCALAR'}}, 'scale_factor': {'created': 1503267233.3738275, 'type': {'class': 'H5T_FLOAT', 'base': 'H5T_IEEE_F64LE'}, 'value': 0.005493332, 'shape': {'class': 'H5S_SCALAR'}}, 'range_after_scale_and_offset': {'created': 1503267233.2987154, 'type': {'class': 'H5T_FLOAT', 'base': 'H5T_IEEE_F64LE'}, 'value': [0.0, 360.0], 'shape': {'class': 'H5S_SIMPLE', 'dims': [2]}}, 'long_name': {'created': 1503267233.1485083, 'type': {'class': 'H5T_STRING', 'strPad': 'H5T_STR_NULLTERM', 'charSet': 'H5T_CSET_UTF8', 'length': 'H5T_VARIABLE'}, 'value': 'wind direction at 80 meters', 'shape': {'class': 'H5S_SCALAR'}}}}}, 'hrefs': [{'rel': 'self', 'href': 'https://developer.nrel.gov/api/hsds/?domain=/nrel/wtk-us.h5'}, {'rel': 'database', 'href': 'https://developer.nrel.gov/api/hsds/datasets?domain=/nrel/wtk-us.h5'}, {'rel': 'groupbase', 'href': 'https://developer.nrel.gov/api/hsds/groups?domain=/nrel/wtk-us.h5'}, {'rel': 'typebase', 'href': 'https://developer.nrel.gov/api/hsds/datatypes?domain=/nrel/wtk-us.h5'}, {'rel': 'root', 'href': 'https://developer.nrel.gov/api/hsds/groups/g-d146c6be-85f3-11e7-bf89-0242ac110008?domain=/nrel/wtk-us.h5'}, {'rel': 'acls', 'href': 'https://developer.nrel.gov/api/hsds/acls?domain=/nrel/wtk-us.h5'}, {'rel': 'parent', 'href': 'https://developer.nrel.gov/api/hsds/?domain=nrel-pds-hsds/nrel'}]}\n",
      "INFO:root:selection: start (0,) stop [61368] step (1,)\n",
      "INFO:root:page_stop: 61368\n",
      "INFO:root:page_mshape: (61368,)\n",
      "INFO:root:GET: https://developer.nrel.gov/api/hsds/datasets/d-d2a8d808-85f3-11e7-bf89-0242ac110008/value [/nrel/wtk-us.h5]\n",
      "INFO:root:status: 200\n",
      "INFO:root:returning binary content, length: 859152\n",
      "INFO:root:binary response, 859152 bytes\n",
      "INFO:root:got arr: (61368,), cleaning up shape!\n",
      "INFO:root:selection: start (0, 0) stop [1, 2976] step (1, 1)\n",
      "INFO:root:page_stop: 2976\n",
      "INFO:root:page_mshape: (2976,)\n",
      "INFO:root:GET: https://developer.nrel.gov/api/hsds/datasets/d-70e214c6-85f4-11e7-bf89-0242ac110008/value [/nrel/wtk-us.h5]\n",
      "INFO:root:status: 200\n",
      "INFO:root:returning binary content, length: 47616\n",
      "INFO:root:binary response, 47616 bytes\n",
      "INFO:root:got arr: (2976,), cleaning up shape!\n"
     ]
    },
    {
     "name": "stdout",
     "output_type": "stream",
     "text": [
      "y,x indices for project: \t\t (3343, 4213)\n",
      "Coordinates of project: \t (48.45, 5.586)\n"
     ]
    },
    {
     "ename": "ValueError",
     "evalue": "Index (3343) out of range (0-1601)",
     "output_type": "error",
     "traceback": [
      "\u001b[0;31m---------------------------------------------------------------------------\u001b[0m",
      "\u001b[0;31mValueError\u001b[0m                                Traceback (most recent call last)",
      "\u001b[0;32m<ipython-input-8-f6e4e2c7e099>\u001b[0m in \u001b[0;36m<module>\u001b[0;34m\u001b[0m\n\u001b[0;32m----> 1\u001b[0;31m \u001b[0mqc\u001b[0m\u001b[0;34m.\u001b[0m\u001b[0mrun\u001b[0m\u001b[0;34m(\u001b[0m\u001b[0;34m)\u001b[0m\u001b[0;34m\u001b[0m\u001b[0;34m\u001b[0m\u001b[0m\n\u001b[0m",
      "\u001b[0;32m~/Documents/GitHub/OpenOA/operational_analysis/__init__.py\u001b[0m in \u001b[0;36m_wrapper\u001b[0;34m(self, *args, **kwargs)\u001b[0m\n\u001b[1;32m     31\u001b[0m         \u001b[0mlogger\u001b[0m \u001b[0;34m=\u001b[0m \u001b[0mlogging\u001b[0m\u001b[0;34m.\u001b[0m\u001b[0mgetLogger\u001b[0m\u001b[0;34m(\u001b[0m\u001b[0mthe_method\u001b[0m\u001b[0;34m.\u001b[0m\u001b[0m__module__\u001b[0m\u001b[0;34m)\u001b[0m\u001b[0;34m\u001b[0m\u001b[0;34m\u001b[0m\u001b[0m\n\u001b[1;32m     32\u001b[0m         \u001b[0mlogger\u001b[0m\u001b[0;34m.\u001b[0m\u001b[0mdebug\u001b[0m\u001b[0;34m(\u001b[0m\u001b[0;34m\"{}#{}.{}: {}\"\u001b[0m\u001b[0;34m.\u001b[0m\u001b[0mformat\u001b[0m\u001b[0;34m(\u001b[0m\u001b[0mself\u001b[0m\u001b[0;34m.\u001b[0m\u001b[0m__class__\u001b[0m\u001b[0;34m.\u001b[0m\u001b[0m__name__\u001b[0m\u001b[0;34m,\u001b[0m \u001b[0mid\u001b[0m\u001b[0;34m(\u001b[0m\u001b[0mself\u001b[0m\u001b[0;34m)\u001b[0m\u001b[0;34m,\u001b[0m \u001b[0mthe_method\u001b[0m\u001b[0;34m.\u001b[0m\u001b[0m__name__\u001b[0m\u001b[0;34m,\u001b[0m \u001b[0mmsg\u001b[0m\u001b[0;34m)\u001b[0m\u001b[0;34m)\u001b[0m\u001b[0;34m\u001b[0m\u001b[0;34m\u001b[0m\u001b[0m\n\u001b[0;32m---> 33\u001b[0;31m         \u001b[0;32mreturn\u001b[0m \u001b[0mthe_method\u001b[0m\u001b[0;34m(\u001b[0m\u001b[0mself\u001b[0m\u001b[0;34m,\u001b[0m \u001b[0;34m*\u001b[0m\u001b[0margs\u001b[0m\u001b[0;34m,\u001b[0m \u001b[0;34m**\u001b[0m\u001b[0mkwargs\u001b[0m\u001b[0;34m)\u001b[0m\u001b[0;34m\u001b[0m\u001b[0;34m\u001b[0m\u001b[0m\n\u001b[0m\u001b[1;32m     34\u001b[0m \u001b[0;34m\u001b[0m\u001b[0m\n\u001b[1;32m     35\u001b[0m     \u001b[0m_wrapper\u001b[0m\u001b[0;34m.\u001b[0m\u001b[0m__doc__\u001b[0m \u001b[0;34m=\u001b[0m \u001b[0mthe_method\u001b[0m\u001b[0;34m.\u001b[0m\u001b[0m__doc__\u001b[0m\u001b[0;34m\u001b[0m\u001b[0;34m\u001b[0m\u001b[0m\n",
      "\u001b[0;32m~/Documents/GitHub/OpenOA/operational_analysis/methods/quality_check_automation.py\u001b[0m in \u001b[0;36mrun\u001b[0;34m(self)\u001b[0m\n\u001b[1;32m    409\u001b[0m \u001b[0;34m\u001b[0m\u001b[0m\n\u001b[1;32m    410\u001b[0m         \u001b[0mlogger\u001b[0m\u001b[0;34m.\u001b[0m\u001b[0minfo\u001b[0m\u001b[0;34m(\u001b[0m\u001b[0;34m\"Evaluating timezone deviation from UTC\"\u001b[0m\u001b[0;34m)\u001b[0m\u001b[0;34m\u001b[0m\u001b[0;34m\u001b[0m\u001b[0m\n\u001b[0;32m--> 411\u001b[0;31m         \u001b[0mself\u001b[0m\u001b[0;34m.\u001b[0m\u001b[0mws_diurnal_prep\u001b[0m\u001b[0;34m(\u001b[0m\u001b[0;34m)\u001b[0m\u001b[0;34m\u001b[0m\u001b[0;34m\u001b[0m\u001b[0m\n\u001b[0m\u001b[1;32m    412\u001b[0m         \u001b[0mself\u001b[0m\u001b[0;34m.\u001b[0m\u001b[0mcorr_df_calc\u001b[0m\u001b[0;34m(\u001b[0m\u001b[0;34m)\u001b[0m\u001b[0;34m\u001b[0m\u001b[0;34m\u001b[0m\u001b[0m\n\u001b[1;32m    413\u001b[0m \u001b[0;34m\u001b[0m\u001b[0m\n",
      "\u001b[0;32m~/Documents/GitHub/OpenOA/operational_analysis/methods/quality_check_automation.py\u001b[0m in \u001b[0;36mws_diurnal_prep\u001b[0;34m(self, start_date, end_date)\u001b[0m\n\u001b[1;32m    474\u001b[0m         \u001b[0mprint\u001b[0m\u001b[0;34m(\u001b[0m\u001b[0;34m\"Coordinates of project: \\t {}\"\u001b[0m\u001b[0;34m.\u001b[0m\u001b[0mformat\u001b[0m\u001b[0;34m(\u001b[0m\u001b[0mself\u001b[0m\u001b[0;34m.\u001b[0m\u001b[0m_lat_lon\u001b[0m\u001b[0;34m)\u001b[0m\u001b[0;34m)\u001b[0m\u001b[0;34m\u001b[0m\u001b[0;34m\u001b[0m\u001b[0m\n\u001b[1;32m    475\u001b[0m         print(\n\u001b[0;32m--> 476\u001b[0;31m             \u001b[0;34m\"Coordinates of project: \\t {}\"\u001b[0m\u001b[0;34m.\u001b[0m\u001b[0mformat\u001b[0m\u001b[0;34m(\u001b[0m\u001b[0mf\u001b[0m\u001b[0;34m[\u001b[0m\u001b[0;34m\"coordinates\"\u001b[0m\u001b[0;34m]\u001b[0m\u001b[0;34m[\u001b[0m\u001b[0mproject_idx\u001b[0m\u001b[0;34m[\u001b[0m\u001b[0;36m0\u001b[0m\u001b[0;34m]\u001b[0m\u001b[0;34m]\u001b[0m\u001b[0;34m[\u001b[0m\u001b[0mproject_idx\u001b[0m\u001b[0;34m[\u001b[0m\u001b[0;36m1\u001b[0m\u001b[0;34m]\u001b[0m\u001b[0;34m]\u001b[0m\u001b[0;34m)\u001b[0m\u001b[0;34m\u001b[0m\u001b[0;34m\u001b[0m\u001b[0m\n\u001b[0m\u001b[1;32m    477\u001b[0m         )\n\u001b[1;32m    478\u001b[0m \u001b[0;34m\u001b[0m\u001b[0m\n",
      "\u001b[0;32m/opt/miniconda3/envs/openoa/lib/python3.8/site-packages/h5pyd/_hl/dataset.py\u001b[0m in \u001b[0;36m__getitem__\u001b[0;34m(self, args)\u001b[0m\n\u001b[1;32m    727\u001b[0m \u001b[0;34m\u001b[0m\u001b[0m\n\u001b[1;32m    728\u001b[0m         \u001b[0;31m# Perform the dataspace selection\u001b[0m\u001b[0;34m\u001b[0m\u001b[0;34m\u001b[0m\u001b[0;34m\u001b[0m\u001b[0m\n\u001b[0;32m--> 729\u001b[0;31m         \u001b[0mselection\u001b[0m \u001b[0;34m=\u001b[0m \u001b[0msel\u001b[0m\u001b[0;34m.\u001b[0m\u001b[0mselect\u001b[0m\u001b[0;34m(\u001b[0m\u001b[0mself\u001b[0m\u001b[0;34m,\u001b[0m \u001b[0margs\u001b[0m\u001b[0;34m)\u001b[0m\u001b[0;34m\u001b[0m\u001b[0;34m\u001b[0m\u001b[0m\n\u001b[0m\u001b[1;32m    730\u001b[0m         \u001b[0mself\u001b[0m\u001b[0;34m.\u001b[0m\u001b[0mlog\u001b[0m\u001b[0;34m.\u001b[0m\u001b[0mdebug\u001b[0m\u001b[0;34m(\u001b[0m\u001b[0;34m\"selection_constructor\"\u001b[0m\u001b[0;34m)\u001b[0m\u001b[0;34m\u001b[0m\u001b[0;34m\u001b[0m\u001b[0m\n\u001b[1;32m    731\u001b[0m \u001b[0;34m\u001b[0m\u001b[0m\n",
      "\u001b[0;32m/opt/miniconda3/envs/openoa/lib/python3.8/site-packages/h5pyd/_hl/selections.py\u001b[0m in \u001b[0;36mselect\u001b[0;34m(obj, args)\u001b[0m\n\u001b[1;32m    108\u001b[0m \u001b[0;34m\u001b[0m\u001b[0m\n\u001b[1;32m    109\u001b[0m     \u001b[0msel\u001b[0m \u001b[0;34m=\u001b[0m \u001b[0mSimpleSelection\u001b[0m\u001b[0;34m(\u001b[0m\u001b[0mobj\u001b[0m\u001b[0;34m.\u001b[0m\u001b[0mshape\u001b[0m\u001b[0;34m)\u001b[0m\u001b[0;34m\u001b[0m\u001b[0;34m\u001b[0m\u001b[0m\n\u001b[0;32m--> 110\u001b[0;31m     \u001b[0msel\u001b[0m\u001b[0;34m[\u001b[0m\u001b[0margs\u001b[0m\u001b[0;34m]\u001b[0m\u001b[0;34m\u001b[0m\u001b[0;34m\u001b[0m\u001b[0m\n\u001b[0m\u001b[1;32m    111\u001b[0m     \u001b[0;32mreturn\u001b[0m \u001b[0msel\u001b[0m\u001b[0;34m\u001b[0m\u001b[0;34m\u001b[0m\u001b[0m\n\u001b[1;32m    112\u001b[0m \u001b[0;34m\u001b[0m\u001b[0m\n",
      "\u001b[0;32m/opt/miniconda3/envs/openoa/lib/python3.8/site-packages/h5pyd/_hl/selections.py\u001b[0m in \u001b[0;36m__getitem__\u001b[0;34m(self, args)\u001b[0m\n\u001b[1;32m    337\u001b[0m             \u001b[0;32mreturn\u001b[0m \u001b[0mself\u001b[0m\u001b[0;34m\u001b[0m\u001b[0;34m\u001b[0m\u001b[0m\n\u001b[1;32m    338\u001b[0m \u001b[0;34m\u001b[0m\u001b[0m\n\u001b[0;32m--> 339\u001b[0;31m         \u001b[0mstart\u001b[0m\u001b[0;34m,\u001b[0m \u001b[0mcount\u001b[0m\u001b[0;34m,\u001b[0m \u001b[0mstep\u001b[0m\u001b[0;34m,\u001b[0m \u001b[0mscalar\u001b[0m \u001b[0;34m=\u001b[0m \u001b[0m_handle_simple\u001b[0m\u001b[0;34m(\u001b[0m\u001b[0mself\u001b[0m\u001b[0;34m.\u001b[0m\u001b[0m_shape\u001b[0m\u001b[0;34m,\u001b[0m\u001b[0margs\u001b[0m\u001b[0;34m)\u001b[0m\u001b[0;34m\u001b[0m\u001b[0;34m\u001b[0m\u001b[0m\n\u001b[0m\u001b[1;32m    340\u001b[0m         \u001b[0mself\u001b[0m\u001b[0;34m.\u001b[0m\u001b[0m_sel\u001b[0m \u001b[0;34m=\u001b[0m \u001b[0;34m(\u001b[0m\u001b[0mstart\u001b[0m\u001b[0;34m,\u001b[0m \u001b[0mcount\u001b[0m\u001b[0;34m,\u001b[0m \u001b[0mstep\u001b[0m\u001b[0;34m,\u001b[0m \u001b[0mscalar\u001b[0m\u001b[0;34m)\u001b[0m\u001b[0;34m\u001b[0m\u001b[0;34m\u001b[0m\u001b[0m\n\u001b[1;32m    341\u001b[0m \u001b[0;34m\u001b[0m\u001b[0m\n",
      "\u001b[0;32m/opt/miniconda3/envs/openoa/lib/python3.8/site-packages/h5pyd/_hl/selections.py\u001b[0m in \u001b[0;36m_handle_simple\u001b[0;34m(shape, args)\u001b[0m\n\u001b[1;32m    580\u001b[0m         \u001b[0;32melse\u001b[0m\u001b[0;34m:\u001b[0m\u001b[0;34m\u001b[0m\u001b[0;34m\u001b[0m\u001b[0m\n\u001b[1;32m    581\u001b[0m             \u001b[0;32mtry\u001b[0m\u001b[0;34m:\u001b[0m\u001b[0;34m\u001b[0m\u001b[0;34m\u001b[0m\u001b[0m\n\u001b[0;32m--> 582\u001b[0;31m                 \u001b[0mx\u001b[0m\u001b[0;34m,\u001b[0m\u001b[0my\u001b[0m\u001b[0;34m,\u001b[0m\u001b[0mz\u001b[0m \u001b[0;34m=\u001b[0m \u001b[0m_translate_int\u001b[0m\u001b[0;34m(\u001b[0m\u001b[0mint\u001b[0m\u001b[0;34m(\u001b[0m\u001b[0marg\u001b[0m\u001b[0;34m)\u001b[0m\u001b[0;34m,\u001b[0m \u001b[0mlength\u001b[0m\u001b[0;34m)\u001b[0m\u001b[0;34m\u001b[0m\u001b[0;34m\u001b[0m\u001b[0m\n\u001b[0m\u001b[1;32m    583\u001b[0m                 \u001b[0ms\u001b[0m \u001b[0;34m=\u001b[0m \u001b[0;32mTrue\u001b[0m\u001b[0;34m\u001b[0m\u001b[0;34m\u001b[0m\u001b[0m\n\u001b[1;32m    584\u001b[0m             \u001b[0;32mexcept\u001b[0m \u001b[0mTypeError\u001b[0m\u001b[0;34m:\u001b[0m\u001b[0;34m\u001b[0m\u001b[0;34m\u001b[0m\u001b[0m\n",
      "\u001b[0;32m/opt/miniconda3/envs/openoa/lib/python3.8/site-packages/h5pyd/_hl/selections.py\u001b[0m in \u001b[0;36m_translate_int\u001b[0;34m(exp, length)\u001b[0m\n\u001b[1;32m    600\u001b[0m \u001b[0;34m\u001b[0m\u001b[0m\n\u001b[1;32m    601\u001b[0m     \u001b[0;32mif\u001b[0m \u001b[0;32mnot\u001b[0m \u001b[0;36m0\u001b[0m\u001b[0;34m<=\u001b[0m\u001b[0mexp\u001b[0m\u001b[0;34m<\u001b[0m\u001b[0mlength\u001b[0m\u001b[0;34m:\u001b[0m\u001b[0;34m\u001b[0m\u001b[0;34m\u001b[0m\u001b[0m\n\u001b[0;32m--> 602\u001b[0;31m         \u001b[0;32mraise\u001b[0m \u001b[0mValueError\u001b[0m\u001b[0;34m(\u001b[0m\u001b[0;34m\"Index (%s) out of range (0-%s)\"\u001b[0m \u001b[0;34m%\u001b[0m \u001b[0;34m(\u001b[0m\u001b[0mexp\u001b[0m\u001b[0;34m,\u001b[0m \u001b[0mlength\u001b[0m\u001b[0;34m-\u001b[0m\u001b[0;36m1\u001b[0m\u001b[0;34m)\u001b[0m\u001b[0;34m)\u001b[0m\u001b[0;34m\u001b[0m\u001b[0;34m\u001b[0m\u001b[0m\n\u001b[0m\u001b[1;32m    603\u001b[0m \u001b[0;34m\u001b[0m\u001b[0m\n\u001b[1;32m    604\u001b[0m     \u001b[0;32mreturn\u001b[0m \u001b[0mexp\u001b[0m\u001b[0;34m,\u001b[0m \u001b[0;36m1\u001b[0m\u001b[0;34m,\u001b[0m \u001b[0;36m1\u001b[0m\u001b[0;34m\u001b[0m\u001b[0;34m\u001b[0m\u001b[0m\n",
      "\u001b[0;31mValueError\u001b[0m: Index (3343) out of range (0-1601)"
     ]
    }
   ],
   "source": [
    "qc.run()"
   ]
  },
  {
   "cell_type": "markdown",
   "metadata": {},
   "source": [
    "### Step 3: Deep Dive with QC Diagnostic Results\n",
    "\n",
    "Let's take a deeper look at the results of our QC diagnostic. "
   ]
  },
  {
   "cell_type": "markdown",
   "metadata": {},
   "source": [
    "#### Perform a general scan of the distributions for each numeric variable"
   ]
  },
  {
   "cell_type": "code",
   "execution_count": null,
   "metadata": {},
   "outputs": [],
   "source": [
    "qc.column_histograms()"
   ]
  },
  {
   "cell_type": "markdown",
   "metadata": {},
   "source": [
    "#### Check ranges of each variable"
   ]
  },
  {
   "cell_type": "code",
   "execution_count": null,
   "metadata": {},
   "outputs": [],
   "source": [
    "qc._max_min"
   ]
  },
  {
   "cell_type": "markdown",
   "metadata": {},
   "source": [
    "These values look fairly reasonable and consistent. "
   ]
  },
  {
   "cell_type": "markdown",
   "metadata": {},
   "source": [
    "#### Identify any timestamp duplications and timestamp gaps. \n",
    "\n",
    "Duplications in October and gaps in March would suggest DST."
   ]
  },
  {
   "cell_type": "code",
   "execution_count": null,
   "metadata": {},
   "outputs": [],
   "source": [
    "qc._time_duplications "
   ]
  },
  {
   "cell_type": "code",
   "execution_count": null,
   "metadata": {},
   "outputs": [],
   "source": [
    "qc._time_gaps"
   ]
  },
  {
   "cell_type": "markdown",
   "metadata": {},
   "source": [
    "Based on the duplicated timestamps, it does seem like there is a DST correction in spring but no time gap in the fall\n",
    "\n",
    "#### Check the DST plot to look in more detail"
   ]
  },
  {
   "cell_type": "code",
   "execution_count": null,
   "metadata": {},
   "outputs": [],
   "source": [
    "qc.daylight_savings_plot()"
   ]
  },
  {
   "cell_type": "markdown",
   "metadata": {},
   "source": [
    "So we do in fact have a gap in the spring data when DST kicks in (as well as duplicated data for some reason) but not duplicated data in the fall.\n",
    "\n",
    "The final question regarding datetime is whether we're in UTC or local. Given the daylights savings gap, it's likely we're in local. This is further confirmed by the raw datetime info provided in the SCADA file, which shows either a +1h or +2h timezone from UTC. So we are operating in local time. Therefore, the project import script for La Haute Borne should shift the timestep back to put it into UTC."
   ]
  },
  {
   "cell_type": "markdown",
   "metadata": {},
   "source": [
    "### Inspect the turbine power curves\n",
    "\n",
    "Now that we have gathered some useful information about our timeseries, the one last check we may want to make is to inspect each turbine profile. We can look at each turbine's power curve and perform an initial scan for irregularities."
   ]
  },
  {
   "cell_type": "code",
   "execution_count": null,
   "metadata": {},
   "outputs": [],
   "source": [
    "qc.plot_by_id('Ws_avg', 'P_avg')"
   ]
  },
  {
   "cell_type": "markdown",
   "metadata": {},
   "source": [
    "Overall, these power curves look pretty common with some downtime, derating, and what look like a few erroneous data points. "
   ]
  },
  {
   "cell_type": "markdown",
   "metadata": {},
   "source": [
    "### Step 4: Performing adjustments on our data\n",
    "\n",
    "Recall that this notebook is only for diagnostic QC of plant data and does not actually change the data in the project import script. Any issues identifed here should be incorporated into the project import script. \n",
    "\n",
    "Note that the necessary corrections have alreayd been applied to the project import script for this data."
   ]
  },
  {
   "cell_type": "code",
   "execution_count": null,
   "metadata": {},
   "outputs": [],
   "source": []
  }
 ],
 "metadata": {
  "kernelspec": {
   "display_name": "Python 3",
   "language": "python",
   "name": "python3"
  },
  "language_info": {
   "codemirror_mode": {
    "name": "ipython",
    "version": 3
   },
   "file_extension": ".py",
   "mimetype": "text/x-python",
   "name": "python",
   "nbconvert_exporter": "python",
   "pygments_lexer": "ipython3",
   "version": "3.8.5"
  },
  "toc": {
   "base_numbering": 1,
   "nav_menu": {},
   "number_sections": true,
   "sideBar": true,
   "skip_h1_title": false,
   "title_cell": "Table of Contents",
   "title_sidebar": "Contents",
   "toc_cell": false,
   "toc_position": {},
   "toc_section_display": true,
   "toc_window_display": false
  }
 },
 "nbformat": 4,
 "nbformat_minor": 4
}
