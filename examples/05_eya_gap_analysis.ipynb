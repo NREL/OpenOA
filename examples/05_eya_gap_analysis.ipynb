{
 "cells": [
  {
   "cell_type": "markdown",
   "metadata": {},
   "source": [
    "# Gap Analysis Step 4: Compare the Energy Yield Assessment to the Operational Assessment (Gap Analysis)\n",
    "\n",
    "This notebook will explore the use of the energy yield assessment (EYA) gap analysis method in OpenOA. This method attributes differences in an EYA-estimate and an operational assessment (OA) estimate of annual energy production (AEP; or net energy, P50). Differences in availability loss estimates, electrical loss estimates, and turbine ideal energy estimates are analyzed. The latter metric incorporates many aspects of an EYA, including the wind resource estimate, wake loss estimate, turbine performance, and blade degradation. \n",
    "\n",
    "The gap analysis is based on comparing the following three key metrics:\n",
    "\n",
    "1. Availability loss\n",
    "2. Electrical loss\n",
    "3. Sum of turbine ideal energy\n",
    "\n",
    "Here turbine ideal energy is defined as the energy produced during 'normal' or 'ideal' turbine operation, \n",
    "i.e., no downtime or considerable underperformance events. This value encompasses several different aspects \n",
    "of an EYA (wind resource estimate, wake losses, turbine performance, and blade degradation) and in most cases\n",
    "should have the largest impact in a gap analysis relative to the first two metrics.\n",
    "\n",
    "This gap analysis method is fairly straighforward. Relevant EYA and OA metrics are passed in when defining\n",
    "the class, differences in EYA estimates and OA results are calculated, and then a 'waterfall' plot is created\n",
    "showing the differences between the EYA and OA-estimated AEP values and how they are linked from differences in \n",
    "the three key metrics."
   ]
  },
  {
   "cell_type": "code",
   "execution_count": 1,
   "metadata": {},
   "outputs": [],
   "source": [
    "# Import required packages\n",
    "from openoa.analysis import MonteCarloAEP, TurbineLongTermGrossEnergy, ElectricalLosses, EYAGapAnalysis\n",
    "from openoa.utils import plot\n",
    "\n",
    "import project_ENGIE\n",
    "\n",
    "%load_ext autoreload\n",
    "%autoreload 2"
   ]
  },
  {
   "cell_type": "code",
   "execution_count": 2,
   "metadata": {},
   "outputs": [
    {
     "name": "stderr",
     "output_type": "stream",
     "text": [
      "INFO:root:Loading SCADA data\n",
      "INFO:root:SCADA data loaded\n",
      "INFO:root:Timestamp conversion to datetime and UTC\n",
      "INFO:root:Removing out of range of temperature readings\n",
      "INFO:root:Flagging unresponsive sensors\n",
      "INFO:root:Converting pitch to the range [-180, 180]\n",
      "INFO:root:Calculating energy production\n",
      "INFO:root:Reading in the meter data\n",
      "INFO:root:Reading in the curtailment data\n",
      "INFO:root:Reading in the reanalysis data and calculating the extra fields\n",
      "INFO:root:Reading in the asset data\n",
      "/opt/miniconda3/envs/openoa/lib/python3.8/site-packages/pandas/core/dtypes/cast.py:112: ShapelyDeprecationWarning: The array interface is deprecated and will no longer work in Shapely 2.0. Convert the '.coords' to a numpy array instead.\n",
      "  values = construct_1d_object_array_from_listlike(values)\n"
     ]
    }
   ],
   "source": [
    "# Load plant object and process plant data\n",
    "project = project_ENGIE.prepare('./data/la_haute_borne')\n",
    "\n",
    "# Add the analysis workflow validations needed below and re-validate\n",
    "project.analysis_type.extend([\"TurbineLongTermGrossEnergy\", \"ElectricalLosses\"])\n",
    "project.validate()"
   ]
  },
  {
   "cell_type": "markdown",
   "metadata": {},
   "source": [
    "## Calculate AEP, TIE, and electrical losses from operational data\n",
    "\n",
    "The first step is to calculate annual energy production (AEP) for the wind farm (Example 02), turbine ideal energy (TIE) for the wind farm (Example 03) and calculate electrical losses (Example 04). Please refer to detailed documentation of these methods in the previous example notebooks. "
   ]
  },
  {
   "cell_type": "code",
   "execution_count": 3,
   "metadata": {},
   "outputs": [
    {
     "name": "stderr",
     "output_type": "stream",
     "text": [
      "INFO:openoa.analysis.aep:Initializing MonteCarloAEP Analysis Object\n",
      "INFO:openoa.analysis.aep:Running with parameters: {'uncertainty_meter': 0.005, 'uncertainty_losses': 0.05, 'uncertainty_loss_max': array([10., 20.]), 'uncertainty_windiness': array([10., 20.]), 'uncertainty_nan_energy': 0.01, 'num_sim': 20000, 'reanalysis_subset': ['era5', 'merra2']}\n",
      "100%|████████████████████████████████████████████████████████████████████████████████| 20000/20000 [05:05<00:00, 65.46it/s]\n",
      "INFO:openoa.analysis.aep:Run completed\n"
     ]
    }
   ],
   "source": [
    "# Calculate AEP\n",
    "pa = MonteCarloAEP(project, reanalysis_products = ['era5', 'merra2'])\n",
    "pa.run(num_sim=20000, reanalysis_subset=['era5', 'merra2'])"
   ]
  },
  {
   "cell_type": "code",
   "execution_count": 4,
   "metadata": {},
   "outputs": [
    {
     "name": "stderr",
     "output_type": "stream",
     "text": [
      "INFO:openoa.analysis.turbine_long_term_gross_energy:Initializing TurbineLongTermGrossEnergy Object\n",
      "INFO:openoa.analysis.turbine_long_term_gross_energy:Note: uncertainty quantification will be performed in the calculation\n",
      "INFO:openoa.analysis.turbine_long_term_gross_energy:Processing SCADA data into dictionaries by turbine (this can take a while)\n",
      "INFO:openoa.analysis.turbine_long_term_gross_energy:Running the long term gross energy analysis\n",
      "100%|████████████████████████████████████████████████████████████████████████████████████| 100/100 [30:35<00:00, 18.36s/it]\n",
      "INFO:openoa.analysis.turbine_long_term_gross_energy:Run completed\n"
     ]
    }
   ],
   "source": [
    "# Calculate TIE\n",
    "ta = TurbineLongTermGrossEnergy(\n",
    "    project,\n",
    "    UQ=True,\n",
    "    num_sim=100,\n",
    "    max_power_filter=(0.8, 0.9), \n",
    "    wind_bin_threshold=(1.0, 3.0),\n",
    "    correction_threshold=(0.85, 0.95),\n",
    ")\n",
    "ta.run(reanalysis_subset = ['era5', 'merra2'])"
   ]
  },
  {
   "cell_type": "code",
   "execution_count": 5,
   "metadata": {},
   "outputs": [
    {
     "name": "stderr",
     "output_type": "stream",
     "text": [
      "INFO:openoa.analysis.electrical_losses:Initializing Electrical Losses Object\n",
      "INFO:openoa.analysis.electrical_losses:Note: uncertainty quantification will NOT be performed in the calculation\n",
      "INFO:openoa.analysis.electrical_losses:Processing SCADA data\n",
      "INFO:openoa.analysis.electrical_losses:Processing meter data\n",
      "INFO:openoa.analysis.electrical_losses:Calculating electrical losses\n",
      "100%|███████████████████████████████████████████████████████████████████████████████████████| 1/1 [00:00<00:00, 155.54it/s]\n"
     ]
    }
   ],
   "source": [
    "# Calculate electrical losses\n",
    "el = ElectricalLosses(project)\n",
    "el.run()"
   ]
  },
  {
   "cell_type": "markdown",
   "metadata": {},
   "source": [
    "Now that we've calculated the key operational metrics, we setup some arrays that the gap analysis method needs to run."
   ]
  },
  {
   "cell_type": "markdown",
   "metadata": {},
   "source": [
    "## Summarize operational results and create EYA data for comparison"
   ]
  },
  {
   "cell_type": "code",
   "execution_count": 6,
   "metadata": {},
   "outputs": [
    {
     "name": "stdout",
     "output_type": "stream",
     "text": [
      "AEP =                 12.29 GWh/yr\n",
      "Availability Losses = 1.17%\n",
      "Electrical Losses =   2.00%\n",
      "TIE =                 13.45 GWh/yr\n"
     ]
    }
   ],
   "source": [
    "# First summarize key operational results\n",
    "aep = pa.results.aep_GWh.mean()\n",
    "avail = pa.results.avail_pct.mean()\n",
    "elec = el.electrical_losses[0][0]\n",
    "tie = ta.plant_gross[0][0]/1e6\n",
    "\n",
    "print(f\"AEP = {aep:21.2f} GWh/yr\")\n",
    "print(f\"Availability Losses = {avail:.2%}\")\n",
    "print(f\"Electrical Losses = {elec:7.2%}\")\n",
    "print(f\"TIE = {tie:21.2f} GWh/yr\")"
   ]
  },
  {
   "cell_type": "code",
   "execution_count": 7,
   "metadata": {},
   "outputs": [],
   "source": [
    "# Define operational data\n",
    "oa_results = dict(\n",
    "    aep=aep,  # AEP (GWh/yr)\n",
    "    availability_losses=avail,  # Availability loss (fraction)\n",
    "    electrical_losses=elec,  # Electrical loss (fraction)\n",
    "    turbine_ideal_energy=tie  # Turbine ideal energy (GWh/yr)\n",
    ")\n",
    "\n",
    "# Define EYA data (we are fabricating these data as an example)\n",
    "eya_estimates = dict(\n",
    "    aep=16.46,  # AEP (GWh/yr)\n",
    "    gross_energy=20.0,  # Gross energy (GWh/yr)\n",
    "    availability_losses=0.04,  # Availability loss (fraction)\n",
    "    electrical_losses=0.014,  # Electrical loss (Fraction)\n",
    "    turbine_losses=0.037,  # Turbine performance loss (fraction)\n",
    "    blade_degradation_losses=0.011,  # Blade degradation loss (fraction)\n",
    "    wake_losses=0.087,  # Wake loss (fraction)\n",
    ")"
   ]
  },
  {
   "cell_type": "markdown",
   "metadata": {},
   "source": [
    "## Perform gap analysis\n",
    "\n",
    "Now that we have the data we need, we first create a gap analysis object"
   ]
  },
  {
   "cell_type": "code",
   "execution_count": 8,
   "metadata": {},
   "outputs": [
    {
     "name": "stderr",
     "output_type": "stream",
     "text": [
      "INFO:openoa.analysis.eya_gap_analysis:Initialized EYA Gap Analysis Object\n"
     ]
    }
   ],
   "source": [
    "eya_gap = EYAGapAnalysis(eya_estimates=eya_estimates, oa_results=oa_results)"
   ]
  },
  {
   "cell_type": "markdown",
   "metadata": {},
   "source": [
    "Now we run the analysis, which by default outputs a waterfall plot showing how the gap between EYA-reported AEP and plant-measured AEP can be explained:"
   ]
  },
  {
   "cell_type": "code",
   "execution_count": 9,
   "metadata": {},
   "outputs": [
    {
     "name": "stderr",
     "output_type": "stream",
     "text": [
      "INFO:openoa.analysis.eya_gap_analysis:Gap analysis complete\n"
     ]
    }
   ],
   "source": [
    "eya_gap.run()"
   ]
  },
  {
   "cell_type": "markdown",
   "metadata": {},
   "source": [
    "In this example, they EYA estimate of AEP was about 4 GWh/yr higher than the OA result. This difference is largely explained by a large difference in turbine ideal energy (overestimated in EYA), and smaller differences in availability (underestimated in EYA) and electrical losses (overestimated in EYA). A total of 1 GWh/yr is left unexplained or uncertain using this method."
   ]
  },
  {
   "cell_type": "code",
   "execution_count": 10,
   "metadata": {},
   "outputs": [
    {
     "data": {
      "image/png": "[encoded data removed]",
      "text/plain": [
       "<Figure size 1200x600 with 1 Axes>"
      ]
     },
     "metadata": {},
     "output_type": "display_data"
    }
   ],
   "source": [
    "eya_gap.plot_waterfall(ylim=(0, 20))\n",
    "\n",
    "# # Notice that we can also use the plotting library to get the same results!\n",
    "# plot.plot_waterfall(\n",
    "#     eya_gap.compiled_data,\n",
    "#     index=[\"EYA AEP\", \"TIE\",  \"Availability\\nLosses\", \"Electrical\\nLosses\", \"Unexplained\", \"OA AEP\"],\n",
    "#     ylim=(0, 20),\n",
    "# )"
   ]
  },
  {
   "cell_type": "code",
   "execution_count": null,
   "metadata": {},
   "outputs": [],
   "source": []
  }
 ],
 "metadata": {
  "kernelspec": {
   "display_name": "Python 3 (ipykernel)",
   "language": "python",
   "name": "python3"
  },
  "language_info": {
   "codemirror_mode": {
    "name": "ipython",
    "version": 3
   },
   "file_extension": ".py",
   "mimetype": "text/x-python",
   "name": "python",
   "nbconvert_exporter": "python",
   "pygments_lexer": "ipython3",
   "version": "3.8.13"
  },
  "toc": {
   "base_numbering": 1,
   "nav_menu": {},
   "number_sections": true,
   "sideBar": true,
   "skip_h1_title": false,
   "title_cell": "Table of Contents",
   "title_sidebar": "Contents",
   "toc_cell": false,
   "toc_position": {},
   "toc_section_display": true,
   "toc_window_display": false
  },
  "vscode": {
   "interpreter": {
    "hash": "af55bea5a9de8d7c1e0d428b6c180049809c2d42782011e209ab7f34c0c55631"
   }
  }
 },
 "nbformat": 4,
 "nbformat_minor": 4
}
