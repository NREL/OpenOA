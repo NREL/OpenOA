{
 "cells": [
  {
   "cell_type": "markdown",
   "metadata": {},
   "source": [
    "# Demonstration of the v3 `PlantData` class"
   ]
  },
  {
   "cell_type": "code",
   "execution_count": 1,
   "metadata": {},
   "outputs": [],
   "source": [
    "from copy import deepcopy\n",
    "from pprint import pprint\n",
    "from pathlib import Path\n",
    "\n",
    "import yaml\n",
    "import numpy as np\n",
    "import pandas as pd\n",
    "from openoa import PlantData\n",
    "\n",
    "import project_ENGIE"
   ]
  },
  {
   "cell_type": "code",
   "execution_count": 2,
   "metadata": {},
   "outputs": [
    {
     "name": "stderr",
     "output_type": "stream",
     "text": [
      "INFO:root:Loading SCADA data\n",
      "INFO:root:SCADA data loaded\n",
      "INFO:root:Timestamp conversion to datetime and UTC\n",
      "INFO:root:Removing out of range of temperature readings\n",
      "INFO:root:Flagging unresponsive sensors\n",
      "INFO:root:Converting pitch to the range [-180, 180]\n",
      "INFO:root:Calculating energy production\n",
      "INFO:root:Reading in the meter data\n",
      "INFO:root:Reading in the curtailment data\n",
      "INFO:root:Reading in the reanalysis data and calculating the extra fields\n",
      "INFO:root:Reading in the asset data\n"
     ]
    }
   ],
   "source": [
    "scada_df, meter_df, curtail_df, asset_df, reanalysis_dict = project_ENGIE.prepare(return_value=\"dataframes\")"
   ]
  },
  {
   "cell_type": "code",
   "execution_count": 10,
   "metadata": {
    "collapsed": true,
    "jupyter": {
     "outputs_hidden": true
    },
    "tags": []
   },
   "outputs": [
    {
     "name": "stdout",
     "output_type": "stream",
     "text": [
      "{'asset': {'elevation': 'elevation_m',\n",
      "           'hub_height': 'Hub_height_m',\n",
      "           'id': 'Wind_turbine_name',\n",
      "           'latitude': 'Latitude',\n",
      "           'longitude': 'Longitude',\n",
      "           'rated_power': 'Rated_power',\n",
      "           'rotor_diameter': 'Rotor_diameter_m'},\n",
      " 'curtail': {'availability': 'availability_kwh',\n",
      "             'curtailment': 'curtailment_kwh',\n",
      "             'frequency': '10T',\n",
      "             'net_energy': 'net_energy_kwh',\n",
      "             'time': 'time'},\n",
      " 'latitude': 48.4497,\n",
      " 'longitude': 5.5896,\n",
      " 'meter': {'energy': 'net_energy_kwh', 'time': 'time'},\n",
      " 'reanalysis': {'era5': {'frequency': 'H',\n",
      "                         'surface_pressure': 'surf_pres',\n",
      "                         'temperature': 't_2m',\n",
      "                         'time': 'datetime',\n",
      "                         'windspeed_u': 'u_100',\n",
      "                         'windspeed_v': 'v_100'},\n",
      "                'merra2': {'frequency': 'H',\n",
      "                           'surface_pressure': 'surface_pressure',\n",
      "                           'temperature': 'temp_10m',\n",
      "                           'time': 'datetime',\n",
      "                           'windspeed_u': 'u_50',\n",
      "                           'windspeed_v': 'v_50'}},\n",
      " 'scada': {'frequency': '10T',\n",
      "           'id': 'Wind_turbine_name',\n",
      "           'pitch': 'Ba_avg',\n",
      "           'power': 'P_avg',\n",
      "           'temperature': 'Ot_avg',\n",
      "           'time': 'time',\n",
      "           'wind_direction': 'Wa_avg',\n",
      "           'windspeed': 'Ws_avg'}}\n"
     ]
    }
   ],
   "source": [
    "with open(\"data/plant_meta.yml\", \"r\") as f:\n",
    "    meta = yaml.safe_load(f)\n",
    "pprint(meta)"
   ]
  },
  {
   "cell_type": "code",
   "execution_count": 3,
   "metadata": {},
   "outputs": [],
   "source": [
    "engie = PlantData(\n",
    "    analysis_type=None,\n",
    "    metadata=\"data/plant_meta.yml\",\n",
    "    scada=scada_df,\n",
    "    meter=meter_df,\n",
    "    curtail=curtail_df,\n",
    "    asset=asset_df,\n",
    "    reanalysis=reanalysis_dict\n",
    ")"
   ]
  },
  {
   "cell_type": "code",
   "execution_count": 4,
   "metadata": {},
   "outputs": [
    {
     "ename": "ValueError",
     "evalue": "`scada` data is missing the following columns: ['status']\n`meter` data is missing the following columns: ['power']\n`tower` data is missing the following columns: ['time', 'id']\n`status` data is missing the following columns: ['time', 'id', 'status_id', 'status_code', 'status_text']\n`scada` data columns were of the wrong type: ['status']\n`meter` data columns were of the wrong type: ['power']\n`tower` data columns were of the wrong type: ['time', 'id']\n`status` data columns were of the wrong type: ['time', 'id', 'status_id', 'status_code', 'status_text']\n`scada` data is of the wrong frequency: None",
     "output_type": "error",
     "traceback": [
      "\u001b[0;31m---------------------------------------------------------------------------\u001b[0m",
      "\u001b[0;31mValueError\u001b[0m                                Traceback (most recent call last)",
      "\u001b[0;32m<ipython-input-4-9476e55f001b>\u001b[0m in \u001b[0;36m<module>\u001b[0;34m\u001b[0m\n\u001b[1;32m      1\u001b[0m \u001b[0mengie\u001b[0m\u001b[0;34m.\u001b[0m\u001b[0manalysis_type\u001b[0m \u001b[0;34m=\u001b[0m \u001b[0;34m\"all\"\u001b[0m\u001b[0;34m\u001b[0m\u001b[0;34m\u001b[0m\u001b[0m\n\u001b[0;32m----> 2\u001b[0;31m \u001b[0mengie\u001b[0m\u001b[0;34m.\u001b[0m\u001b[0mvalidate\u001b[0m\u001b[0;34m(\u001b[0m\u001b[0;34m)\u001b[0m\u001b[0;34m\u001b[0m\u001b[0;34m\u001b[0m\u001b[0m\n\u001b[0m",
      "\u001b[0;32m~/Documents/GitHub/OpenOA/openoa/plant.py\u001b[0m in \u001b[0;36mvalidate\u001b[0;34m(self, metadata)\u001b[0m\n\u001b[1;32m   1311\u001b[0m         \u001b[0merror_message\u001b[0m \u001b[0;34m=\u001b[0m \u001b[0mcompose_error_message\u001b[0m\u001b[0;34m(\u001b[0m\u001b[0mself\u001b[0m\u001b[0;34m.\u001b[0m\u001b[0m_errors\u001b[0m\u001b[0;34m,\u001b[0m \u001b[0mself\u001b[0m\u001b[0;34m.\u001b[0m\u001b[0manalysis_type\u001b[0m\u001b[0;34m)\u001b[0m\u001b[0;34m\u001b[0m\u001b[0;34m\u001b[0m\u001b[0m\n\u001b[1;32m   1312\u001b[0m         \u001b[0;32mif\u001b[0m \u001b[0merror_message\u001b[0m\u001b[0;34m:\u001b[0m\u001b[0;34m\u001b[0m\u001b[0;34m\u001b[0m\u001b[0m\n\u001b[0;32m-> 1313\u001b[0;31m             \u001b[0;32mraise\u001b[0m \u001b[0mValueError\u001b[0m\u001b[0;34m(\u001b[0m\u001b[0merror_message\u001b[0m\u001b[0;34m)\u001b[0m\u001b[0;34m\u001b[0m\u001b[0;34m\u001b[0m\u001b[0m\n\u001b[0m\u001b[1;32m   1314\u001b[0m \u001b[0;34m\u001b[0m\u001b[0m\n\u001b[1;32m   1315\u001b[0m         \u001b[0mself\u001b[0m\u001b[0;34m.\u001b[0m\u001b[0mupdate_column_names\u001b[0m\u001b[0;34m(\u001b[0m\u001b[0;34m)\u001b[0m\u001b[0;34m\u001b[0m\u001b[0;34m\u001b[0m\u001b[0m\n",
      "\u001b[0;31mValueError\u001b[0m: `scada` data is missing the following columns: ['status']\n`meter` data is missing the following columns: ['power']\n`tower` data is missing the following columns: ['time', 'id']\n`status` data is missing the following columns: ['time', 'id', 'status_id', 'status_code', 'status_text']\n`scada` data columns were of the wrong type: ['status']\n`meter` data columns were of the wrong type: ['power']\n`tower` data columns were of the wrong type: ['time', 'id']\n`status` data columns were of the wrong type: ['time', 'id', 'status_id', 'status_code', 'status_text']\n`scada` data is of the wrong frequency: None"
     ]
    }
   ],
   "source": [
    "engie.analysis_type = \"all\"\n",
    "engie.validate()"
   ]
  },
  {
   "cell_type": "code",
   "execution_count": 12,
   "metadata": {},
   "outputs": [
    {
     "data": {
      "text/html": [
       "<div>\n",
       "<style scoped>\n",
       "    .dataframe tbody tr th:only-of-type {\n",
       "        vertical-align: middle;\n",
       "    }\n",
       "\n",
       "    .dataframe tbody tr th {\n",
       "        vertical-align: top;\n",
       "    }\n",
       "\n",
       "    .dataframe thead th {\n",
       "        text-align: right;\n",
       "    }\n",
       "</style>\n",
       "<table border=\"1\" class=\"dataframe\">\n",
       "  <thead>\n",
       "    <tr style=\"text-align: right;\">\n",
       "      <th></th>\n",
       "      <th></th>\n",
       "      <th>Wind_turbine_name</th>\n",
       "      <th>Date_time</th>\n",
       "      <th>Ba_avg</th>\n",
       "      <th>P_avg</th>\n",
       "      <th>Ws_avg</th>\n",
       "      <th>Va_avg</th>\n",
       "      <th>Ot_avg</th>\n",
       "      <th>Ya_avg</th>\n",
       "      <th>Wa_avg</th>\n",
       "      <th>time</th>\n",
       "      <th>energy_kwh</th>\n",
       "    </tr>\n",
       "    <tr>\n",
       "      <th>time</th>\n",
       "      <th>id</th>\n",
       "      <th></th>\n",
       "      <th></th>\n",
       "      <th></th>\n",
       "      <th></th>\n",
       "      <th></th>\n",
       "      <th></th>\n",
       "      <th></th>\n",
       "      <th></th>\n",
       "      <th></th>\n",
       "      <th></th>\n",
       "      <th></th>\n",
       "    </tr>\n",
       "  </thead>\n",
       "  <tbody>\n",
       "    <tr>\n",
       "      <th rowspan=\"4\" valign=\"top\">2014-01-01 00:00:00</th>\n",
       "      <th>R80736</th>\n",
       "      <td>R80736</td>\n",
       "      <td>2014-01-01T01:00:00+01:00</td>\n",
       "      <td>-1.00</td>\n",
       "      <td>642.78003</td>\n",
       "      <td>7.12</td>\n",
       "      <td>0.66</td>\n",
       "      <td>4.69</td>\n",
       "      <td>181.34000</td>\n",
       "      <td>182.00999</td>\n",
       "      <td>2014-01-01 00:00:00</td>\n",
       "      <td>107.130005</td>\n",
       "    </tr>\n",
       "    <tr>\n",
       "      <th>R80721</th>\n",
       "      <td>R80721</td>\n",
       "      <td>2014-01-01T01:00:00+01:00</td>\n",
       "      <td>-1.01</td>\n",
       "      <td>441.06000</td>\n",
       "      <td>6.39</td>\n",
       "      <td>-2.48</td>\n",
       "      <td>4.94</td>\n",
       "      <td>179.82001</td>\n",
       "      <td>177.36000</td>\n",
       "      <td>2014-01-01 00:00:00</td>\n",
       "      <td>73.510000</td>\n",
       "    </tr>\n",
       "    <tr>\n",
       "      <th>R80790</th>\n",
       "      <td>R80790</td>\n",
       "      <td>2014-01-01T01:00:00+01:00</td>\n",
       "      <td>-0.96</td>\n",
       "      <td>658.53003</td>\n",
       "      <td>7.11</td>\n",
       "      <td>1.07</td>\n",
       "      <td>4.55</td>\n",
       "      <td>172.39000</td>\n",
       "      <td>173.50999</td>\n",
       "      <td>2014-01-01 00:00:00</td>\n",
       "      <td>109.755005</td>\n",
       "    </tr>\n",
       "    <tr>\n",
       "      <th>R80711</th>\n",
       "      <td>R80711</td>\n",
       "      <td>2014-01-01T01:00:00+01:00</td>\n",
       "      <td>-0.93</td>\n",
       "      <td>514.23999</td>\n",
       "      <td>6.87</td>\n",
       "      <td>6.95</td>\n",
       "      <td>4.30</td>\n",
       "      <td>172.77000</td>\n",
       "      <td>179.72000</td>\n",
       "      <td>2014-01-01 00:00:00</td>\n",
       "      <td>85.706665</td>\n",
       "    </tr>\n",
       "    <tr>\n",
       "      <th>2014-01-01 00:10:00</th>\n",
       "      <th>R80790</th>\n",
       "      <td>R80790</td>\n",
       "      <td>2014-01-01T01:10:00+01:00</td>\n",
       "      <td>-0.96</td>\n",
       "      <td>640.23999</td>\n",
       "      <td>7.01</td>\n",
       "      <td>-1.90</td>\n",
       "      <td>4.68</td>\n",
       "      <td>172.39000</td>\n",
       "      <td>170.46001</td>\n",
       "      <td>2014-01-01 00:10:00</td>\n",
       "      <td>106.706665</td>\n",
       "    </tr>\n",
       "  </tbody>\n",
       "</table>\n",
       "</div>"
      ],
      "text/plain": [
       "                           Wind_turbine_name                  Date_time  \\\n",
       "time                id                                                    \n",
       "2014-01-01 00:00:00 R80736            R80736  2014-01-01T01:00:00+01:00   \n",
       "                    R80721            R80721  2014-01-01T01:00:00+01:00   \n",
       "                    R80790            R80790  2014-01-01T01:00:00+01:00   \n",
       "                    R80711            R80711  2014-01-01T01:00:00+01:00   \n",
       "2014-01-01 00:10:00 R80790            R80790  2014-01-01T01:10:00+01:00   \n",
       "\n",
       "                            Ba_avg      P_avg  Ws_avg  Va_avg  Ot_avg  \\\n",
       "time                id                                                  \n",
       "2014-01-01 00:00:00 R80736   -1.00  642.78003    7.12    0.66    4.69   \n",
       "                    R80721   -1.01  441.06000    6.39   -2.48    4.94   \n",
       "                    R80790   -0.96  658.53003    7.11    1.07    4.55   \n",
       "                    R80711   -0.93  514.23999    6.87    6.95    4.30   \n",
       "2014-01-01 00:10:00 R80790   -0.96  640.23999    7.01   -1.90    4.68   \n",
       "\n",
       "                               Ya_avg     Wa_avg                time  \\\n",
       "time                id                                                 \n",
       "2014-01-01 00:00:00 R80736  181.34000  182.00999 2014-01-01 00:00:00   \n",
       "                    R80721  179.82001  177.36000 2014-01-01 00:00:00   \n",
       "                    R80790  172.39000  173.50999 2014-01-01 00:00:00   \n",
       "                    R80711  172.77000  179.72000 2014-01-01 00:00:00   \n",
       "2014-01-01 00:10:00 R80790  172.39000  170.46001 2014-01-01 00:10:00   \n",
       "\n",
       "                            energy_kwh  \n",
       "time                id                  \n",
       "2014-01-01 00:00:00 R80736  107.130005  \n",
       "                    R80721   73.510000  \n",
       "                    R80790  109.755005  \n",
       "                    R80711   85.706665  \n",
       "2014-01-01 00:10:00 R80790  106.706665  "
      ]
     },
     "execution_count": 12,
     "metadata": {},
     "output_type": "execute_result"
    }
   ],
   "source": [
    "engie.scada.head()"
   ]
  },
  {
   "cell_type": "code",
   "execution_count": null,
   "metadata": {},
   "outputs": [],
   "source": []
  },
  {
   "cell_type": "markdown",
   "metadata": {},
   "source": [
    "## Load the data and create file mappings for later use"
   ]
  },
  {
   "cell_type": "code",
   "execution_count": null,
   "metadata": {
    "tags": []
   },
   "outputs": [],
   "source": [
    "# project = Project_Engie('./data/la_haute_borne')\n",
    "# project.prepare()\n",
    "\n",
    "fpath = Path(\"data/la_haute_borne\")\n",
    "fn_scada = fpath / \"la-haute-borne-data-2014-2015.csv\"\n",
    "fn_meter = fpath / \"plant_data.csv\"\n",
    "fn_curtail = fpath / \"plant_data.csv\"\n",
    "fn_reanalysis_merra2 = fpath / \"merra2_la_haute_borne.csv\"\n",
    "fn_reanalysis_era5 = fpath / \"era5_wind_la_haute_borne.csv\"\n",
    "fn_asset = fpath / \"la-haute-borne_asset_table.csv\"\n",
    "\n",
    "yaml_meta = \"data/plant_meta.yml\"\n",
    "project = PlantData(\n",
    "    analysis_type=None,  # Choosing a random type that doesn't fail validation\n",
    "    metadata=yaml_meta,\n",
    "    scada=fn_scada,\n",
    "    meter=fn_meter,\n",
    "    curtail=fn_curtail,\n",
    "    asset=fn_asset,\n",
    "    reanalysis=dict(era5=fn_reanalysis_era5, merra2=fn_reanalysis_merra2),\n",
    ")\n",
    "\n",
    "# Create missing variables from the data set\n",
    "project.asset[\"type\"] = \"turbine\""
   ]
  },
  {
   "cell_type": "code",
   "execution_count": null,
   "metadata": {},
   "outputs": [],
   "source": [
    "fpath = Path(\"data/la_haute_borne\")\n",
    "fn_scada = fpath / \"la-haute-borne-data-2014-2015.csv\"\n",
    "fn_meter = fpath / \"plant_data.csv\"\n",
    "fn_curtail = fpath / \"plant_data.csv\"\n",
    "fn_reanalysis_merra2 = fpath / \"merra2_la_haute_borne.csv\"\n",
    "fn_reanalysis_era5 = fpath / \"era5_wind_la_haute_borne.csv\"\n",
    "fn_asset = fpath / \"la-haute-borne_asset_table.csv\"\n",
    "\n",
    "scada = pd.read_csv(fn_scada)\n",
    "meter = pd.read_csv(fn_meter)\n",
    "curtail = pd.read_csv(fn_curtail)\n",
    "reanalysis_era5 = pd.read_csv(fn_reanalysis_era5)\n",
    "reanalysis_merra2 = pd.read_csv(fn_reanalysis_merra2)\n",
    "asset = pd.read_csv(fn_asset)\n",
    "\n",
    "latitude = 48.4497\n",
    "longitude = 5.5896\n",
    "\n",
    "yaml_meta = \"data/plant_meta.yml\"\n",
    "json_meta = \"data/plant_meta.json\""
   ]
  },
  {
   "cell_type": "markdown",
   "metadata": {},
   "source": [
    "## TODO\n",
    " - [x] read data from spark, csv, pandas\n",
    " - [x] read metadata from json, yaml, dict, and pre-loaded object\n",
    " - [x] automatically calculate wind direction from u/v windspeed\n",
    " - [x] call planetos api if API key is provided\n",
    "   - [x] validate this works\n",
    " - [x] support flags for if csv/planetos/data object/etc\n",
    " - datetime column frequency checks\n",
    "    - [ ] check against the provided metadata\n",
    "    - [ ] validate against the analysis requirements\n",
    "    - **note**: bring Lewis into this conversation on datetime & frequency validation, but is ok to use pandas for now\n",
    " - [x] expand metadata to contain plant-level identifiers (latitude, longitude)\n",
    " - check against the -25 namings and (likely) adopt that naming convention for the plant data\n",
    "   - [ ] update internal column naming convention to the -25 schema (Eric/Lewis)\n",
    " - [x] map the input column names, and provide a method to provide them back as the original inputs\n",
    " - [x] get the 0 notebook working, or at least as a means to understand what will be required for refactoring\n",
    " - [x] no failures for tower data as it's not used\n",
    " - [x] none flag for raising warning, not error, for missing/bad data\n",
    "   - `None` will run no validation\n",
    " - [ ] flag to not raise an error for known missing data\n",
    " - [x] metadata keyword argument for validate() to recreate `PlantMetaData`\n",
    "     - allows for more flexibility in use cases, especially in the exploratory phase, or for changing analysis types\n",
    " - [ ] review the v3 todo workbook to stay on track with the rest of v3 development\n"
   ]
  },
  {
   "cell_type": "markdown",
   "metadata": {},
   "source": [
    "## Create a dictionary of plant meta data \n",
    "\n",
    "**NOTE**: the datetime frequency checking is not in place, but the placeholder exists to implement it later"
   ]
  },
  {
   "cell_type": "code",
   "execution_count": null,
   "metadata": {},
   "outputs": [],
   "source": [
    "plant_meta = dict(\n",
    "    latitude=latitude,\n",
    "    longitude=longitude,\n",
    "    scada=dict(\n",
    "        time=\"Date_time\",\n",
    "        id=\"Wind_turbine_name\",\n",
    "        power=\"P_avg\",\n",
    "        windspeed=\"Ws_avg\",\n",
    "#         wtur_wspd=\"Ws_avg\",  # TODO: adopt the -25 naming\n",
    "        wind_direction=\"Wa_avg\",\n",
    "#         status=\"?\",\n",
    "        pitch=\"Ba_avg\",\n",
    "        temperature=\"Ot_avg\",\n",
    "        frequency=\"10T\",\n",
    "    ),\n",
    "    meter=dict(\n",
    "        time=\"time_utc\",\n",
    "        energy=\"net_energy_kwh\",\n",
    "    ),\n",
    "    curtail=dict(\n",
    "        time=\"time_utc\",\n",
    "        curtailment=\"curtailment_kwh\",\n",
    "        availability=\"availability_kwh\",\n",
    "        net_energy=\"net_energy_kwh\",\n",
    "        frequency=\"10T\",\n",
    "    ),\n",
    "    reanalysis=dict(  # keys are informational/product-type, not pre-defined\n",
    "        era5=dict(\n",
    "            time=\"datetime\",\n",
    "            # windspeed=\"ws_100m\",  # Commented out to demonstrate variable creation from base windspeed data\n",
    "            windspeed_u=\"u_100\",\n",
    "            windspeed_v=\"v_100\",\n",
    "            temperature=\"t_2m\",\n",
    "            # density=\"dens_100m\",  # Commented out to demonstrate variable creation from base windspeed data\n",
    "            surface_pressure=\"surf_pres\",\n",
    "            frequency=\"H\",\n",
    "        ),\n",
    "        merra2=dict(\n",
    "            time=\"datetime\",\n",
    "            # windspeed=\"ws_50\",  # Commented out to demonstrate variable creation from base windspeed data\n",
    "            windspeed_u=\"u_50\",\n",
    "            windspeed_v=\"v_50\",\n",
    "            temperature=\"temp_10m\",\n",
    "            # density=\"dens_50\",  # Commented out to demonstrate variable creation from base windspeed data\n",
    "            surface_pressure=\"surface_pressure\",\n",
    "            frequency=\"H\",\n",
    "        )\n",
    "    ),\n",
    "    asset=dict(\n",
    "        id=\"id\",\n",
    "        latitude=\"Latitude\",\n",
    "        longitude=\"Longitude\",\n",
    "        rated_power=\"Rated_power\",\n",
    "        hub_height=\"Hub_height_m\",\n",
    "        rotor_diameter=\"Rotor_diameter_m\",\n",
    "        elevation=\"elevation_m\",\n",
    "#         type=\"?\",\n",
    "    ),\n",
    ")\n",
    "\n",
    "# Recreate the YAML and JSON meta data objects as the dictionary above gets updated\n",
    "import yaml\n",
    "import json\n",
    "\n",
    "with open(yaml_meta, \"w\") as f:\n",
    "    yaml.safe_dump(plant_meta, f, default_flow_style=False)\n",
    "    \n",
    "with open(json_meta, \"w\") as f:\n",
    "    json.dump(plant_meta, f, indent=4)"
   ]
  },
  {
   "cell_type": "markdown",
   "metadata": {},
   "source": [
    "## Demonstrate the loading from YAML, JSON, and dictionary produce the exact same meta data"
   ]
  },
  {
   "cell_type": "code",
   "execution_count": null,
   "metadata": {},
   "outputs": [],
   "source": [
    "meta_from_dict = PlantMetaData.from_dict(plant_meta)\n",
    "meta_from_json = PlantMetaData.from_json(json_meta)\n",
    "meta_from_yaml = PlantMetaData.from_yaml(yaml_meta)\n",
    "meta_from_dict == meta_from_json == meta_from_yaml, type(meta_from_dict)"
   ]
  },
  {
   "cell_type": "markdown",
   "metadata": {},
   "source": [
    "## Show the PlantData capabilities\n",
    "\n",
    "### Load from `DataFrame`s and a metadata dictionary"
   ]
  },
  {
   "cell_type": "code",
   "execution_count": null,
   "metadata": {},
   "outputs": [],
   "source": [
    "plant_from_data = PlantDataV3(\n",
    "    metadata=meta_from_dict,\n",
    "    scada=scada,\n",
    "    meter=meter,\n",
    "    curtail=curtail,\n",
    "    reanalysis={\"merra2\": reanalysis_merra2, \"era5\": reanalysis_era5},  # preferred, and enable API pulling\n",
    "    asset=asset,\n",
    "    analysis_type=\"MonteCarloAEP\",\n",
    ")\n",
    "type(plant_from_data)"
   ]
  },
  {
   "cell_type": "markdown",
   "metadata": {},
   "source": [
    "### Show that \"windspeed\", \"wind_direction\", and \"density\" columns are all created from the core variables"
   ]
  },
  {
   "cell_type": "code",
   "execution_count": null,
   "metadata": {},
   "outputs": [],
   "source": [
    "plant_from_data.reanalysis[\"era5\"].head()"
   ]
  },
  {
   "cell_type": "code",
   "execution_count": null,
   "metadata": {},
   "outputs": [],
   "source": [
    "plant_from_data.reanalysis[\"merra2\"].head()"
   ]
  },
  {
   "cell_type": "markdown",
   "metadata": {},
   "source": [
    "### Show loading the data from file for both the meta data (JSON and YAML) and data (CSV)"
   ]
  },
  {
   "cell_type": "code",
   "execution_count": null,
   "metadata": {},
   "outputs": [],
   "source": [
    "plant_from_file1 = PlantDataV3(\n",
    "    metadata=yaml_meta,\n",
    "    scada=fn_scada,\n",
    "    meter=fn_meter,\n",
    "    curtail=fn_curtail,\n",
    "    reanalysis={\"merra2\": fn_reanalysis_merra2, \"era5\": fn_reanalysis_era5},  # preferred, and enable API pulling\n",
    "    asset=fn_asset,\n",
    "    analysis_type=\"MonteCarloAEP\"\n",
    ")\n",
    "type(plant_from_file1)"
   ]
  },
  {
   "cell_type": "code",
   "execution_count": null,
   "metadata": {},
   "outputs": [],
   "source": [
    "plant_from_file2 = PlantDataV3(\n",
    "    metadata=json_meta,\n",
    "    scada=fn_scada,\n",
    "    meter=fn_meter,\n",
    "    curtail=fn_curtail,\n",
    "    reanalysis={\"merra2\": fn_reanalysis_merra2, \"era5\": fn_reanalysis_era5},  # preferred, and enable API pulling\n",
    "    asset=fn_asset,\n",
    "    analysis_type=\"MonteCarloAEP\"\n",
    ")\n",
    "type(plant_from_file2)"
   ]
  },
  {
   "cell_type": "markdown",
   "metadata": {},
   "source": [
    "### When updating the `analysis_type` to \"all\", note all the column data errors that are saved until the end of the validation"
   ]
  },
  {
   "cell_type": "code",
   "execution_count": null,
   "metadata": {},
   "outputs": [],
   "source": [
    "plant_from_data = PlantDataV3(\n",
    "    metadata=meta_from_dict,\n",
    "    scada=scada,\n",
    "    meter=meter,\n",
    "    curtail=curtail,\n",
    "    reanalysis={\"merra2\": reanalysis_merra2, \"era5\": reanalysis_era5},  # preferred, and enable API pulling\n",
    "    asset=asset,\n",
    "    analysis_type=\"all\"\n",
    ")"
   ]
  },
  {
   "cell_type": "markdown",
   "metadata": {},
   "source": [
    "### Demonstrate changing a parameter (`analysis_type`) and revalidating with `PlantDataV3.validate()`"
   ]
  },
  {
   "cell_type": "code",
   "execution_count": null,
   "metadata": {},
   "outputs": [],
   "source": [
    "plant = deepcopy(plant_from_data)"
   ]
  },
  {
   "cell_type": "code",
   "execution_count": null,
   "metadata": {},
   "outputs": [],
   "source": [
    "plant.analysis_type = None\n",
    "plant.validate()"
   ]
  },
  {
   "cell_type": "code",
   "execution_count": null,
   "metadata": {},
   "outputs": [],
   "source": [
    "plant.analysis_type = \"all\"\n",
    "plant.validate()"
   ]
  },
  {
   "cell_type": "code",
   "execution_count": null,
   "metadata": {},
   "outputs": [],
   "source": [
    "plant.analysis_type = \"TurbineLongTermGrossEnergy\"\n",
    "plant.validate()"
   ]
  },
  {
   "cell_type": "code",
   "execution_count": null,
   "metadata": {},
   "outputs": [],
   "source": [
    "plant.analysis_type = \"ElectricalLosses\"\n",
    "plant.validate()"
   ]
  },
  {
   "cell_type": "markdown",
   "metadata": {},
   "source": [
    "#### Direct copy of the analysis requirements for easy referece"
   ]
  },
  {
   "cell_type": "code",
   "execution_count": null,
   "metadata": {},
   "outputs": [],
   "source": [
    "ANALYSIS_REQUIREMENTS = {\n",
    "    \"MonteCarloAEP\": {\n",
    "        \"meter\": {\n",
    "            \"columns\": [\"energy\"],\n",
    "            \"freq\": (\"MS\", \"D\", \"H\", \"T\"),\n",
    "        },\n",
    "        \"curtail\": {\n",
    "            \"columns\": [\"availability\", \"curtailment\"],\n",
    "            \"freq\": (\"MS\", \"D\", \"H\", \"T\"),\n",
    "        },\n",
    "        \"reanalysis\": {\n",
    "            \"columns\": [\"windspeed\", \"rho\"],\n",
    "            \"conditional_columns\": {\n",
    "                \"reg_temperature\": [\"temperature\"],\n",
    "                \"reg_winddirection\": [\"windspeed_u\", \"windspeed_v\"],\n",
    "            },\n",
    "        },\n",
    "    },\n",
    "    \"TurbineLongTermGrossEnergy\": {\n",
    "        \"scada\": {\n",
    "            \"columns\": [\"id\", \"windspeed\", \"power\"],  # TODO: wtur_W_avg vs energy_kwh ?\n",
    "            \"freq\": (\"D\", \"H\", \"T\"),\n",
    "        },\n",
    "        \"reanalysis\": {\n",
    "            \"columns\": [\"windspeed\", \"wind_direction\", \"rho\"],\n",
    "        },\n",
    "    },\n",
    "    \"ElectricalLosses\": {\n",
    "        \"scada\": {\n",
    "            \"columns\": [\"energy\"],\n",
    "            \"freq\": (\"D\", \"H\", \"T\"),\n",
    "        },\n",
    "        \"meter\": {\n",
    "            \"columns\": [\"energy\"],\n",
    "            \"freq\": (\"MS\", \"D\", \"H\", \"T\"),\n",
    "        },\n",
    "    },\n",
    "}"
   ]
  },
  {
   "cell_type": "markdown",
   "metadata": {},
   "source": [
    "### Show the updated column names and how to map them back to the original data"
   ]
  },
  {
   "cell_type": "code",
   "execution_count": null,
   "metadata": {},
   "outputs": [],
   "source": [
    "scada.columns.tolist()"
   ]
  },
  {
   "cell_type": "code",
   "execution_count": null,
   "metadata": {},
   "outputs": [],
   "source": [
    "plant.scada.columns.tolist()"
   ]
  },
  {
   "cell_type": "code",
   "execution_count": null,
   "metadata": {},
   "outputs": [],
   "source": [
    "plant.update_column_names(to_original=True)\n",
    "plant.scada.columns.tolist()"
   ]
  },
  {
   "cell_type": "markdown",
   "metadata": {},
   "source": [
    "## Demonstrate the PlanetOS integration"
   ]
  },
  {
   "cell_type": "code",
   "execution_count": null,
   "metadata": {},
   "outputs": [],
   "source": [
    "apikey_file = Path(\"./APIKEY\").resolve()\n",
    "plant_meta_planetos = deepcopy(plant_meta)\n",
    "plant_meta_planetos[\"reanalysis\"][\"era5\"] = dict(\n",
    "    time=\"datetime\",\n",
    "    windspeed=\"windspeed_ms\",\n",
    "    wind_direction=\"winddirection_deg\",\n",
    "    windspeed_u=\"u_ms\",\n",
    "    windspeed_v=\"v_ms\",\n",
    "    temperature=\"temperature_K\",\n",
    "    density=\"rho_kgm-3\",\n",
    "    surface_pressure=\"surf_pres_Pa\",\n",
    "    frequency=\"H\",\n",
    ")\n",
    "plant_meta_planetos[\"reanalysis\"][\"merra2\"] = dict(\n",
    "    time=\"datetime\",\n",
    "    windspeed=\"windspeed_ms\",\n",
    "    wind_direction=\"winddirection_deg\",\n",
    "    windspeed_u=\"u_ms\",\n",
    "    windspeed_v=\"v_ms\",\n",
    "    temperature=\"temperature_K\",\n",
    "    density=\"rho_kgm-3\",\n",
    "    surface_pressure=\"surf_pres_Pa\",\n",
    "    frequency=\"H\",\n",
    ")\n",
    "\n",
    "plant_from_data = PlantDataV3(\n",
    "    metadata=meta_from_dict,\n",
    "    scada=scada,\n",
    "    meter=meter,\n",
    "    curtail=curtail,\n",
    "    reanalysis={\n",
    "        \"merra2\": {\"apikey_file\": apikey_file, \"save_pathname\": \".\", \"save_filename\": \"merra2\"},\n",
    "        \"era5\": {\"apikey_file\": apikey_file, \"save_pathname\": \".\", \"save_filename\": \"era5\"},\n",
    "    },\n",
    "    asset=asset,\n",
    "    analysis_type=\"all\"\n",
    ")"
   ]
  },
  {
   "cell_type": "code",
   "execution_count": null,
   "metadata": {},
   "outputs": [],
   "source": []
  },
  {
   "cell_type": "code",
   "execution_count": null,
   "metadata": {},
   "outputs": [],
   "source": []
  },
  {
   "cell_type": "code",
   "execution_count": null,
   "metadata": {},
   "outputs": [],
   "source": []
  }
 ],
 "metadata": {
  "kernelspec": {
   "display_name": "Python 3",
   "language": "python",
   "name": "python3"
  },
  "language_info": {
   "codemirror_mode": {
    "name": "ipython",
    "version": 3
   },
   "file_extension": ".py",
   "mimetype": "text/x-python",
   "name": "python",
   "nbconvert_exporter": "python",
   "pygments_lexer": "ipython3",
   "version": "3.8.5"
  }
 },
 "nbformat": 4,
 "nbformat_minor": 4
}
