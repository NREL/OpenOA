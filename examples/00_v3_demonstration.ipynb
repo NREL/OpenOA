{
 "cells": [
  {
   "cell_type": "markdown",
   "metadata": {},
   "source": [
    "# Demonstration of the v3 `PlantData` class"
   ]
  },
  {
   "cell_type": "code",
   "execution_count": 1,
   "metadata": {},
   "outputs": [],
   "source": [
    "from copy import deepcopy\n",
    "from pprint import pprint\n",
    "from pathlib import Path\n",
    "\n",
    "import numpy as np\n",
    "import pandas as pd\n",
    "\n",
    "from openoa import PlantData"
   ]
  },
  {
   "cell_type": "code",
   "execution_count": null,
   "metadata": {},
   "outputs": [],
   "source": []
  },
  {
   "cell_type": "code",
   "execution_count": null,
   "metadata": {},
   "outputs": [],
   "source": []
  },
  {
   "cell_type": "code",
   "execution_count": 63,
   "metadata": {},
   "outputs": [],
   "source": [
    "import itertools\n",
    "from openoa.types.plant_v2 import ANALYSIS_REQUIREMENTS"
   ]
  },
  {
   "cell_type": "code",
   "execution_count": 65,
   "metadata": {},
   "outputs": [
    {
     "data": {
      "text/plain": [
       "{'scada': {'D', 'H', 'L', 'N', 'S', 'T', 'U', 'min', 'ms', 'us'},\n",
       " 'meter': {'D',\n",
       "  'H',\n",
       "  'L',\n",
       "  'M',\n",
       "  'MS',\n",
       "  'N',\n",
       "  'S',\n",
       "  'T',\n",
       "  'U',\n",
       "  'W',\n",
       "  'min',\n",
       "  'ms',\n",
       "  'us'},\n",
       " 'reanalysis': {'D', 'H', 'L', 'N', 'S', 'T', 'U', 'min', 'ms', 'us'},\n",
       " 'curtail': {'D',\n",
       "  'H',\n",
       "  'L',\n",
       "  'M',\n",
       "  'MS',\n",
       "  'N',\n",
       "  'S',\n",
       "  'T',\n",
       "  'U',\n",
       "  'W',\n",
       "  'min',\n",
       "  'ms',\n",
       "  'us'}}"
      ]
     },
     "execution_count": 65,
     "metadata": {},
     "output_type": "execute_result"
    }
   ],
   "source": [
    "analysis_types = [\"MonteCarloAEP\", \"TurbineLongTermGrossEnergy\"]\n",
    "categories = (\"scada\", \"meter\", \"tower\", \"curtail\", \"reanalysis\", \"asset\")\n",
    "requirements = {key: ANALYSIS_REQUIREMENTS[key] for key in analysis_types}\n",
    "\n",
    "frequency_requirements = {key: {name: value[\"freq\"] for name, value in values.items()} for key, values in requirements.items()}\n",
    "frequency = {k: [] for k in set(itertools.chain.from_iterable([[*val] for val in frequency_requirements.values()]))}\n",
    "\n",
    "for vals in frequency_requirements.values():\n",
    "    for name, req in vals.items():\n",
    "        reqs = frequency[name]\n",
    "        if reqs == []:\n",
    "            frequency[name] = set(req)\n",
    "        else:\n",
    "            frequency[name] = reqs.intersection(req)\n",
    "            \n",
    "frequency"
   ]
  },
  {
   "cell_type": "code",
   "execution_count": 69,
   "metadata": {},
   "outputs": [
    {
     "data": {
      "text/plain": [
       "True"
      ]
     },
     "execution_count": 69,
     "metadata": {},
     "output_type": "execute_result"
    }
   ],
   "source": [
    "def check_freq(actual_freq, desired_freq, exact):\n",
    "    if exact:\n",
    "        return actual_freq != desired_freq\n",
    "    \n",
    "    if desired_freq is None:\n",
    "        return True\n",
    "\n",
    "    actual_freq = \"\".join(filter(str.isalpha, actual_freq))\n",
    "    return actual_freq in desired_freq\n",
    "\n",
    "check_freq(\"10T\", frequency[\"scada\"], exact=False)"
   ]
  },
  {
   "cell_type": "code",
   "execution_count": 11,
   "metadata": {},
   "outputs": [],
   "source": [
    "# TODO\n",
    "# create a frequency based comparison for hour, day, month categories\n",
    "# be able to prioritize how one is chosen: most/least restrictive\n",
    "# pass the existing frequency to the _validate_frequency() outputs"
   ]
  },
  {
   "cell_type": "code",
   "execution_count": 93,
   "metadata": {},
   "outputs": [],
   "source": [
    "plant.scada.set_index(\"time\").index.freq"
   ]
  },
  {
   "cell_type": "code",
   "execution_count": 109,
   "metadata": {},
   "outputs": [
    {
     "data": {
      "text/html": [
       "<div>\n",
       "<style scoped>\n",
       "    .dataframe tbody tr th:only-of-type {\n",
       "        vertical-align: middle;\n",
       "    }\n",
       "\n",
       "    .dataframe tbody tr th {\n",
       "        vertical-align: top;\n",
       "    }\n",
       "\n",
       "    .dataframe thead th {\n",
       "        text-align: right;\n",
       "    }\n",
       "</style>\n",
       "<table border=\"1\" class=\"dataframe\">\n",
       "  <thead>\n",
       "    <tr style=\"text-align: right;\">\n",
       "      <th></th>\n",
       "      <th>Unnamed: 0</th>\n",
       "      <th>datetime</th>\n",
       "      <th>u_100</th>\n",
       "      <th>v_100</th>\n",
       "      <th>t_2m</th>\n",
       "      <th>surf_pres</th>\n",
       "      <th>ws_100m</th>\n",
       "      <th>dens_100m</th>\n",
       "      <th>windspeed</th>\n",
       "      <th>wind_direction</th>\n",
       "      <th>density</th>\n",
       "    </tr>\n",
       "  </thead>\n",
       "  <tbody>\n",
       "    <tr>\n",
       "      <th>0</th>\n",
       "      <td>0</td>\n",
       "      <td>1999-01-01 00:00:00+00:00</td>\n",
       "      <td>-4.456234</td>\n",
       "      <td>4.999991</td>\n",
       "      <td>277.496492</td>\n",
       "      <td>97020.784132</td>\n",
       "      <td>6.697606</td>\n",
       "      <td>1.216004</td>\n",
       "      <td>6.697606</td>\n",
       "      <td>138.291024</td>\n",
       "      <td>1.216004</td>\n",
       "    </tr>\n",
       "    <tr>\n",
       "      <th>1</th>\n",
       "      <td>1</td>\n",
       "      <td>1999-01-01 01:00:00+00:00</td>\n",
       "      <td>-5.006666</td>\n",
       "      <td>4.540059</td>\n",
       "      <td>277.330357</td>\n",
       "      <td>97002.617960</td>\n",
       "      <td>6.758612</td>\n",
       "      <td>1.216525</td>\n",
       "      <td>6.758612</td>\n",
       "      <td>132.201828</td>\n",
       "      <td>1.216525</td>\n",
       "    </tr>\n",
       "    <tr>\n",
       "      <th>2</th>\n",
       "      <td>2</td>\n",
       "      <td>1999-01-01 02:00:00+00:00</td>\n",
       "      <td>-5.101353</td>\n",
       "      <td>4.032729</td>\n",
       "      <td>276.968939</td>\n",
       "      <td>97035.490081</td>\n",
       "      <td>6.502823</td>\n",
       "      <td>1.218571</td>\n",
       "      <td>6.502823</td>\n",
       "      <td>128.327129</td>\n",
       "      <td>1.218571</td>\n",
       "    </tr>\n",
       "    <tr>\n",
       "      <th>3</th>\n",
       "      <td>3</td>\n",
       "      <td>1999-01-01 03:00:00+00:00</td>\n",
       "      <td>-5.787051</td>\n",
       "      <td>2.111372</td>\n",
       "      <td>276.721193</td>\n",
       "      <td>97021.649188</td>\n",
       "      <td>6.160183</td>\n",
       "      <td>1.219518</td>\n",
       "      <td>6.160183</td>\n",
       "      <td>110.044204</td>\n",
       "      <td>1.219518</td>\n",
       "    </tr>\n",
       "    <tr>\n",
       "      <th>4</th>\n",
       "      <td>4</td>\n",
       "      <td>1999-01-01 04:00:00+00:00</td>\n",
       "      <td>-6.349969</td>\n",
       "      <td>1.693571</td>\n",
       "      <td>276.291280</td>\n",
       "      <td>97005.213128</td>\n",
       "      <td>6.571932</td>\n",
       "      <td>1.221259</td>\n",
       "      <td>6.571932</td>\n",
       "      <td>104.933490</td>\n",
       "      <td>1.221259</td>\n",
       "    </tr>\n",
       "  </tbody>\n",
       "</table>\n",
       "</div>"
      ],
      "text/plain": [
       "   Unnamed: 0                  datetime     u_100     v_100        t_2m  \\\n",
       "0           0 1999-01-01 00:00:00+00:00 -4.456234  4.999991  277.496492   \n",
       "1           1 1999-01-01 01:00:00+00:00 -5.006666  4.540059  277.330357   \n",
       "2           2 1999-01-01 02:00:00+00:00 -5.101353  4.032729  276.968939   \n",
       "3           3 1999-01-01 03:00:00+00:00 -5.787051  2.111372  276.721193   \n",
       "4           4 1999-01-01 04:00:00+00:00 -6.349969  1.693571  276.291280   \n",
       "\n",
       "      surf_pres   ws_100m  dens_100m  windspeed  wind_direction   density  \n",
       "0  97020.784132  6.697606   1.216004   6.697606      138.291024  1.216004  \n",
       "1  97002.617960  6.758612   1.216525   6.758612      132.201828  1.216525  \n",
       "2  97035.490081  6.502823   1.218571   6.502823      128.327129  1.218571  \n",
       "3  97021.649188  6.160183   1.219518   6.160183      110.044204  1.219518  \n",
       "4  97005.213128  6.571932   1.221259   6.571932      104.933490  1.221259  "
      ]
     },
     "execution_count": 109,
     "metadata": {},
     "output_type": "execute_result"
    }
   ],
   "source": [
    "reanalysis_era5.head()"
   ]
  },
  {
   "cell_type": "code",
   "execution_count": 110,
   "metadata": {},
   "outputs": [
    {
     "data": {
      "text/plain": [
       "0        1999-01-01 00:00:00+00:00\n",
       "1        1999-01-01 01:00:00+00:00\n",
       "2        1999-01-01 02:00:00+00:00\n",
       "3        1999-01-01 03:00:00+00:00\n",
       "4        1999-01-01 04:00:00+00:00\n",
       "                    ...           \n",
       "187167   2020-05-08 17:00:00+00:00\n",
       "187168   2020-05-08 18:00:00+00:00\n",
       "187169   2020-05-08 19:00:00+00:00\n",
       "187170   2020-05-08 20:00:00+00:00\n",
       "187171   2020-05-08 21:00:00+00:00\n",
       "Name: datetime, Length: 187172, dtype: datetime64[ns, UTC]"
      ]
     },
     "execution_count": 110,
     "metadata": {},
     "output_type": "execute_result"
    }
   ],
   "source": [
    "reanalysis_era5.datetime"
   ]
  },
  {
   "cell_type": "code",
   "execution_count": 111,
   "metadata": {},
   "outputs": [
    {
     "data": {
      "text/html": [
       "<div>\n",
       "<style scoped>\n",
       "    .dataframe tbody tr th:only-of-type {\n",
       "        vertical-align: middle;\n",
       "    }\n",
       "\n",
       "    .dataframe tbody tr th {\n",
       "        vertical-align: top;\n",
       "    }\n",
       "\n",
       "    .dataframe thead th {\n",
       "        text-align: right;\n",
       "    }\n",
       "</style>\n",
       "<table border=\"1\" class=\"dataframe\">\n",
       "  <thead>\n",
       "    <tr style=\"text-align: right;\">\n",
       "      <th></th>\n",
       "      <th>Unnamed: 0</th>\n",
       "      <th>datetime</th>\n",
       "      <th>u_100</th>\n",
       "      <th>v_100</th>\n",
       "      <th>t_2m</th>\n",
       "      <th>surf_pres</th>\n",
       "      <th>ws_100m</th>\n",
       "      <th>dens_100m</th>\n",
       "    </tr>\n",
       "  </thead>\n",
       "  <tbody>\n",
       "    <tr>\n",
       "      <th>0</th>\n",
       "      <td>0</td>\n",
       "      <td>1999-01-01 00:00:00</td>\n",
       "      <td>-4.456234</td>\n",
       "      <td>4.999991</td>\n",
       "      <td>277.496492</td>\n",
       "      <td>97020.784132</td>\n",
       "      <td>6.697606</td>\n",
       "      <td>1.216004</td>\n",
       "    </tr>\n",
       "    <tr>\n",
       "      <th>1</th>\n",
       "      <td>1</td>\n",
       "      <td>1999-01-01 01:00:00</td>\n",
       "      <td>-5.006666</td>\n",
       "      <td>4.540059</td>\n",
       "      <td>277.330357</td>\n",
       "      <td>97002.617960</td>\n",
       "      <td>6.758612</td>\n",
       "      <td>1.216525</td>\n",
       "    </tr>\n",
       "    <tr>\n",
       "      <th>2</th>\n",
       "      <td>2</td>\n",
       "      <td>1999-01-01 02:00:00</td>\n",
       "      <td>-5.101353</td>\n",
       "      <td>4.032729</td>\n",
       "      <td>276.968939</td>\n",
       "      <td>97035.490081</td>\n",
       "      <td>6.502823</td>\n",
       "      <td>1.218571</td>\n",
       "    </tr>\n",
       "    <tr>\n",
       "      <th>3</th>\n",
       "      <td>3</td>\n",
       "      <td>1999-01-01 03:00:00</td>\n",
       "      <td>-5.787051</td>\n",
       "      <td>2.111372</td>\n",
       "      <td>276.721193</td>\n",
       "      <td>97021.649188</td>\n",
       "      <td>6.160183</td>\n",
       "      <td>1.219518</td>\n",
       "    </tr>\n",
       "    <tr>\n",
       "      <th>4</th>\n",
       "      <td>4</td>\n",
       "      <td>1999-01-01 04:00:00</td>\n",
       "      <td>-6.349969</td>\n",
       "      <td>1.693571</td>\n",
       "      <td>276.291280</td>\n",
       "      <td>97005.213128</td>\n",
       "      <td>6.571932</td>\n",
       "      <td>1.221259</td>\n",
       "    </tr>\n",
       "  </tbody>\n",
       "</table>\n",
       "</div>"
      ],
      "text/plain": [
       "   Unnamed: 0             datetime     u_100     v_100        t_2m  \\\n",
       "0           0  1999-01-01 00:00:00 -4.456234  4.999991  277.496492   \n",
       "1           1  1999-01-01 01:00:00 -5.006666  4.540059  277.330357   \n",
       "2           2  1999-01-01 02:00:00 -5.101353  4.032729  276.968939   \n",
       "3           3  1999-01-01 03:00:00 -5.787051  2.111372  276.721193   \n",
       "4           4  1999-01-01 04:00:00 -6.349969  1.693571  276.291280   \n",
       "\n",
       "      surf_pres   ws_100m  dens_100m  \n",
       "0  97020.784132  6.697606   1.216004  \n",
       "1  97002.617960  6.758612   1.216525  \n",
       "2  97035.490081  6.502823   1.218571  \n",
       "3  97021.649188  6.160183   1.219518  \n",
       "4  97005.213128  6.571932   1.221259  "
      ]
     },
     "execution_count": 111,
     "metadata": {},
     "output_type": "execute_result"
    }
   ],
   "source": [
    "df = pd.read_csv(fn_reanalysis_era5)\n",
    "df.head()"
   ]
  },
  {
   "cell_type": "code",
   "execution_count": 114,
   "metadata": {},
   "outputs": [
    {
     "data": {
      "text/plain": [
       "0        1999-01-01 00:00:00\n",
       "1        1999-01-01 01:00:00\n",
       "2        1999-01-01 02:00:00\n",
       "3        1999-01-01 03:00:00\n",
       "4        1999-01-01 04:00:00\n",
       "                 ...        \n",
       "187167   2020-05-08 17:00:00\n",
       "187168   2020-05-08 18:00:00\n",
       "187169   2020-05-08 19:00:00\n",
       "187170   2020-05-08 20:00:00\n",
       "187171   2020-05-08 21:00:00\n",
       "Name: datetime, Length: 187172, dtype: datetime64[ns]"
      ]
     },
     "execution_count": 114,
     "metadata": {},
     "output_type": "execute_result"
    }
   ],
   "source": [
    "dt = pd.to_datetime(df.datetime)\n",
    "dt"
   ]
  },
  {
   "cell_type": "code",
   "execution_count": 115,
   "metadata": {},
   "outputs": [
    {
     "data": {
      "text/plain": [
       "DatetimeIndex(['1999-01-01 00:00:00', '1999-01-01 01:00:00',\n",
       "               '1999-01-01 02:00:00', '1999-01-01 03:00:00',\n",
       "               '1999-01-01 04:00:00'],\n",
       "              dtype='datetime64[ns]', name='datetime', freq='H')"
      ]
     },
     "execution_count": 115,
     "metadata": {},
     "output_type": "execute_result"
    }
   ],
   "source": [
    "pd.DatetimeIndex(dt[:5], freq=\"H\")"
   ]
  },
  {
   "cell_type": "code",
   "execution_count": 117,
   "metadata": {},
   "outputs": [
    {
     "data": {
      "text/html": [
       "<div>\n",
       "<style scoped>\n",
       "    .dataframe tbody tr th:only-of-type {\n",
       "        vertical-align: middle;\n",
       "    }\n",
       "\n",
       "    .dataframe tbody tr th {\n",
       "        vertical-align: top;\n",
       "    }\n",
       "\n",
       "    .dataframe thead th {\n",
       "        text-align: right;\n",
       "    }\n",
       "</style>\n",
       "<table border=\"1\" class=\"dataframe\">\n",
       "  <thead>\n",
       "    <tr style=\"text-align: right;\">\n",
       "      <th></th>\n",
       "      <th>Wind_turbine_name</th>\n",
       "      <th>Latitude</th>\n",
       "      <th>Longitude</th>\n",
       "      <th>elevation_m</th>\n",
       "      <th>Rated_power</th>\n",
       "      <th>Hub_height_m</th>\n",
       "      <th>Rotor_diameter_m</th>\n",
       "      <th>Manufacturer</th>\n",
       "      <th>Model</th>\n",
       "    </tr>\n",
       "  </thead>\n",
       "  <tbody>\n",
       "    <tr>\n",
       "      <th>0</th>\n",
       "      <td>R80711</td>\n",
       "      <td>48.4569</td>\n",
       "      <td>5.5847</td>\n",
       "      <td>411</td>\n",
       "      <td>2050.0</td>\n",
       "      <td>80</td>\n",
       "      <td>82</td>\n",
       "      <td>Senvion</td>\n",
       "      <td>MM82</td>\n",
       "    </tr>\n",
       "    <tr>\n",
       "      <th>1</th>\n",
       "      <td>R80721</td>\n",
       "      <td>48.4497</td>\n",
       "      <td>5.5869</td>\n",
       "      <td>411</td>\n",
       "      <td>2050.0</td>\n",
       "      <td>80</td>\n",
       "      <td>82</td>\n",
       "      <td>Senvion</td>\n",
       "      <td>MM82</td>\n",
       "    </tr>\n",
       "    <tr>\n",
       "      <th>2</th>\n",
       "      <td>R80736</td>\n",
       "      <td>48.4461</td>\n",
       "      <td>5.5925</td>\n",
       "      <td>411</td>\n",
       "      <td>2050.0</td>\n",
       "      <td>80</td>\n",
       "      <td>82</td>\n",
       "      <td>Senvion</td>\n",
       "      <td>MM82</td>\n",
       "    </tr>\n",
       "    <tr>\n",
       "      <th>3</th>\n",
       "      <td>R80790</td>\n",
       "      <td>48.4536</td>\n",
       "      <td>5.5875</td>\n",
       "      <td>411</td>\n",
       "      <td>2050.0</td>\n",
       "      <td>80</td>\n",
       "      <td>82</td>\n",
       "      <td>Senvion</td>\n",
       "      <td>MM82</td>\n",
       "    </tr>\n",
       "  </tbody>\n",
       "</table>\n",
       "</div>"
      ],
      "text/plain": [
       "  Wind_turbine_name  Latitude  Longitude  elevation_m  Rated_power  \\\n",
       "0            R80711   48.4569     5.5847          411       2050.0   \n",
       "1            R80721   48.4497     5.5869          411       2050.0   \n",
       "2            R80736   48.4461     5.5925          411       2050.0   \n",
       "3            R80790   48.4536     5.5875          411       2050.0   \n",
       "\n",
       "   Hub_height_m  Rotor_diameter_m Manufacturer Model  \n",
       "0            80                82      Senvion  MM82  \n",
       "1            80                82      Senvion  MM82  \n",
       "2            80                82      Senvion  MM82  \n",
       "3            80                82      Senvion  MM82  "
      ]
     },
     "execution_count": 117,
     "metadata": {},
     "output_type": "execute_result"
    }
   ],
   "source": [
    "asset.head()"
   ]
  },
  {
   "cell_type": "code",
   "execution_count": null,
   "metadata": {},
   "outputs": [],
   "source": []
  },
  {
   "cell_type": "code",
   "execution_count": null,
   "metadata": {},
   "outputs": [],
   "source": []
  },
  {
   "cell_type": "code",
   "execution_count": null,
   "metadata": {},
   "outputs": [],
   "source": []
  },
  {
   "cell_type": "code",
   "execution_count": null,
   "metadata": {},
   "outputs": [],
   "source": []
  },
  {
   "cell_type": "code",
   "execution_count": null,
   "metadata": {},
   "outputs": [],
   "source": []
  },
  {
   "cell_type": "code",
   "execution_count": null,
   "metadata": {},
   "outputs": [],
   "source": []
  },
  {
   "cell_type": "code",
   "execution_count": null,
   "metadata": {},
   "outputs": [],
   "source": []
  },
  {
   "cell_type": "code",
   "execution_count": null,
   "metadata": {},
   "outputs": [],
   "source": []
  },
  {
   "cell_type": "markdown",
   "metadata": {},
   "source": [
    "## Load the data and create file mappings for later use"
   ]
  },
  {
   "cell_type": "code",
   "execution_count": 70,
   "metadata": {},
   "outputs": [],
   "source": [
    "fpath = Path(\"data/la_haute_borne\")\n",
    "fn_scada = fpath / \"la-haute-borne-data-2014-2015.csv\"\n",
    "fn_meter = fpath / \"plant_data.csv\"\n",
    "fn_curtail = fpath / \"plant_data.csv\"\n",
    "fn_reanalysis_merra2 = fpath / \"merra2_la_haute_borne.csv\"\n",
    "fn_reanalysis_era5 = fpath / \"era5_wind_la_haute_borne.csv\"\n",
    "fn_asset = fpath / \"la-haute-borne_asset_table.csv\"\n",
    "\n",
    "scada = pd.read_csv(fn_scada)\n",
    "meter = pd.read_csv(fn_meter)\n",
    "curtail = pd.read_csv(fn_curtail)\n",
    "reanalysis_era5 = pd.read_csv(fn_reanalysis_era5)\n",
    "reanalysis_merra2 = pd.read_csv(fn_reanalysis_merra2)\n",
    "asset = pd.read_csv(fn_asset)\n",
    "\n",
    "latitude = 48.4497\n",
    "longitude = 5.5896\n",
    "\n",
    "yaml_meta = \"data/plant_meta.yml\"\n",
    "json_meta = \"data/plant_meta.json\""
   ]
  },
  {
   "cell_type": "markdown",
   "metadata": {},
   "source": [
    "## TODO\n",
    " - [x] read data from spark, csv, pandas\n",
    " - [x] read metadata from json, yaml, dict, and pre-loaded object\n",
    " - [x] automatically calculate wind direction from u/v windspeed\n",
    " - [x] call planetos api if API key is provided\n",
    "   - [x] validate this works\n",
    " - [x] support flags for if csv/planetos/data object/etc\n",
    " - datetime column frequency checks\n",
    "    - [ ] check against the provided metadata\n",
    "    - [ ] validate against the analysis requirements\n",
    "    - **note**: bring Lewis into this conversation on datetime & frequency validation, but is ok to use pandas for now\n",
    " - [x] expand metadata to contain plant-level identifiers (latitude, longitude)\n",
    " - check against the -25 namings and (likely) adopt that naming convention for the plant data\n",
    "   - [ ] update internal column naming convention to the -25 schema (Eric/Lewis)\n",
    " - [x] map the input column names, and provide a method to provide them back as the original inputs\n",
    " - [x] get the 0 notebook working, or at least as a means to understand what will be required for refactoring\n",
    " - [x] no failures for tower data as it's not used\n",
    " - [x] none flag for raising warning, not error, for missing/bad data\n",
    "   - `None` will run no validation\n",
    " - [ ] flag to not raise an error for known missing data\n",
    " - [x] metadata keyword argument for validate() to recreate `PlantMetaData`\n",
    "     - allows for more flexibility in use cases, especially in the exploratory phase, or for changing analysis types\n",
    " - [ ] review the v3 todo workbook to stay on track with the rest of v3 development\n"
   ]
  },
  {
   "cell_type": "markdown",
   "metadata": {},
   "source": [
    "## Create a dictionary of plant meta data \n",
    "\n",
    "**NOTE**: the datetime frequency checking is not in place, but the placeholder exists to implement it later"
   ]
  },
  {
   "cell_type": "code",
   "execution_count": 71,
   "metadata": {},
   "outputs": [],
   "source": [
    "plant_meta = dict(\n",
    "    latitude=latitude,\n",
    "    longitude=longitude,\n",
    "    scada=dict(\n",
    "        time=\"Date_time\",\n",
    "        id=\"Wind_turbine_name\",\n",
    "        power=\"P_avg\",\n",
    "        windspeed=\"Ws_avg\",\n",
    "#         wtur_wspd=\"Ws_avg\",  # TODO: adopt the -25 naming\n",
    "        wind_direction=\"Wa_avg\",\n",
    "#         status=\"?\",\n",
    "        pitch=\"Ba_avg\",\n",
    "        temperature=\"Ot_avg\",\n",
    "        frequency=\"10T\",\n",
    "    ),\n",
    "    meter=dict(\n",
    "        time=\"time_utc\",\n",
    "        energy=\"net_energy_kwh\",\n",
    "    ),\n",
    "    curtail=dict(\n",
    "        time=\"time_utc\",\n",
    "        curtailment=\"curtailment_kwh\",\n",
    "        availability=\"availability_kwh\",\n",
    "        net_energy=\"net_energy_kwh\",\n",
    "        frequency=\"10T\",\n",
    "    ),\n",
    "    reanalysis=dict(  # keys are informational/product-type, not pre-defined\n",
    "        era5=dict(\n",
    "            time=\"datetime\",\n",
    "            # windspeed=\"ws_100m\",  # Commented out to demonstrate variable creation from base windspeed data\n",
    "            windspeed_u=\"u_100\",\n",
    "            windspeed_v=\"v_100\",\n",
    "            temperature=\"t_2m\",\n",
    "            # density=\"dens_100m\",  # Commented out to demonstrate variable creation from base windspeed data\n",
    "            surface_pressure=\"surf_pres\",\n",
    "            frequency=\"H\",\n",
    "        ),\n",
    "        merra2=dict(\n",
    "            time=\"datetime\",\n",
    "            # windspeed=\"ws_50\",  # Commented out to demonstrate variable creation from base windspeed data\n",
    "            windspeed_u=\"u_50\",\n",
    "            windspeed_v=\"v_50\",\n",
    "            temperature=\"temp_10m\",\n",
    "            # density=\"dens_50\",  # Commented out to demonstrate variable creation from base windspeed data\n",
    "            surface_pressure=\"surface_pressure\",\n",
    "            frequency=\"H\",\n",
    "        )\n",
    "    ),\n",
    "    asset=dict(\n",
    "        id=\"id\",\n",
    "        latitude=\"Latitude\",\n",
    "        longitude=\"Longitude\",\n",
    "        rated_power=\"Rated_power\",\n",
    "        hub_height=\"Hub_height_m\",\n",
    "        rotor_diameter=\"Rotor_diameter_m\",\n",
    "        elevation=\"elevation_m\",\n",
    "#         type=\"?\",\n",
    "    ),\n",
    ")\n",
    "\n",
    "# Recreate the YAML and JSON meta data objects as the dictionary above gets updated\n",
    "import yaml\n",
    "import json\n",
    "\n",
    "with open(yaml_meta, \"w\") as f:\n",
    "    yaml.safe_dump(plant_meta, f, default_flow_style=False)\n",
    "    \n",
    "with open(json_meta, \"w\") as f:\n",
    "    json.dump(plant_meta, f, indent=4)"
   ]
  },
  {
   "cell_type": "markdown",
   "metadata": {},
   "source": [
    "## Demonstrate the loading from YAML, JSON, and dictionary produce the exact same meta data"
   ]
  },
  {
   "cell_type": "code",
   "execution_count": 72,
   "metadata": {},
   "outputs": [
    {
     "data": {
      "text/plain": [
       "(True, openoa.types.plant_v2.PlantMetaData)"
      ]
     },
     "execution_count": 72,
     "metadata": {},
     "output_type": "execute_result"
    }
   ],
   "source": [
    "meta_from_dict = PlantMetaData.from_dict(plant_meta)\n",
    "meta_from_json = PlantMetaData.from_json(json_meta)\n",
    "meta_from_yaml = PlantMetaData.from_yaml(yaml_meta)\n",
    "meta_from_dict == meta_from_json == meta_from_yaml, type(meta_from_dict)"
   ]
  },
  {
   "cell_type": "markdown",
   "metadata": {},
   "source": [
    "## Show the PlantData capabilities\n",
    "\n",
    "### Load from `DataFrame`s and a metadata dictionary"
   ]
  },
  {
   "cell_type": "code",
   "execution_count": 73,
   "metadata": {},
   "outputs": [
    {
     "data": {
      "text/plain": [
       "openoa.types.plant_v2.PlantDataV3"
      ]
     },
     "execution_count": 73,
     "metadata": {},
     "output_type": "execute_result"
    }
   ],
   "source": [
    "plant_from_data = PlantDataV3(\n",
    "    metadata=meta_from_dict,\n",
    "    scada=scada,\n",
    "    meter=meter,\n",
    "    curtail=curtail,\n",
    "    reanalysis={\"merra2\": reanalysis_merra2, \"era5\": reanalysis_era5},  # preferred, and enable API pulling\n",
    "    asset=asset,\n",
    "    analysis_type=\"MonteCarloAEP\",\n",
    ")\n",
    "type(plant_from_data)"
   ]
  },
  {
   "cell_type": "markdown",
   "metadata": {},
   "source": [
    "### Show that \"windspeed\", \"wind_direction\", and \"density\" columns are all created from the core variables"
   ]
  },
  {
   "cell_type": "code",
   "execution_count": 74,
   "metadata": {},
   "outputs": [
    {
     "data": {
      "text/html": [
       "<div>\n",
       "<style scoped>\n",
       "    .dataframe tbody tr th:only-of-type {\n",
       "        vertical-align: middle;\n",
       "    }\n",
       "\n",
       "    .dataframe tbody tr th {\n",
       "        vertical-align: top;\n",
       "    }\n",
       "\n",
       "    .dataframe thead th {\n",
       "        text-align: right;\n",
       "    }\n",
       "</style>\n",
       "<table border=\"1\" class=\"dataframe\">\n",
       "  <thead>\n",
       "    <tr style=\"text-align: right;\">\n",
       "      <th></th>\n",
       "      <th>Unnamed: 0</th>\n",
       "      <th>time</th>\n",
       "      <th>windspeed_u</th>\n",
       "      <th>windspeed_v</th>\n",
       "      <th>temperature</th>\n",
       "      <th>surface_pressure</th>\n",
       "      <th>ws_100m</th>\n",
       "      <th>dens_100m</th>\n",
       "      <th>windspeed</th>\n",
       "      <th>wind_direction</th>\n",
       "      <th>density</th>\n",
       "    </tr>\n",
       "  </thead>\n",
       "  <tbody>\n",
       "    <tr>\n",
       "      <th>0</th>\n",
       "      <td>0</td>\n",
       "      <td>1999-01-01 00:00:00+00:00</td>\n",
       "      <td>-4.456234</td>\n",
       "      <td>4.999991</td>\n",
       "      <td>277.496492</td>\n",
       "      <td>97020.784132</td>\n",
       "      <td>6.697606</td>\n",
       "      <td>1.216004</td>\n",
       "      <td>6.697606</td>\n",
       "      <td>138.291024</td>\n",
       "      <td>1.216004</td>\n",
       "    </tr>\n",
       "    <tr>\n",
       "      <th>1</th>\n",
       "      <td>1</td>\n",
       "      <td>1999-01-01 01:00:00+00:00</td>\n",
       "      <td>-5.006666</td>\n",
       "      <td>4.540059</td>\n",
       "      <td>277.330357</td>\n",
       "      <td>97002.617960</td>\n",
       "      <td>6.758612</td>\n",
       "      <td>1.216525</td>\n",
       "      <td>6.758612</td>\n",
       "      <td>132.201828</td>\n",
       "      <td>1.216525</td>\n",
       "    </tr>\n",
       "    <tr>\n",
       "      <th>2</th>\n",
       "      <td>2</td>\n",
       "      <td>1999-01-01 02:00:00+00:00</td>\n",
       "      <td>-5.101353</td>\n",
       "      <td>4.032729</td>\n",
       "      <td>276.968939</td>\n",
       "      <td>97035.490081</td>\n",
       "      <td>6.502823</td>\n",
       "      <td>1.218571</td>\n",
       "      <td>6.502823</td>\n",
       "      <td>128.327129</td>\n",
       "      <td>1.218571</td>\n",
       "    </tr>\n",
       "    <tr>\n",
       "      <th>3</th>\n",
       "      <td>3</td>\n",
       "      <td>1999-01-01 03:00:00+00:00</td>\n",
       "      <td>-5.787051</td>\n",
       "      <td>2.111372</td>\n",
       "      <td>276.721193</td>\n",
       "      <td>97021.649188</td>\n",
       "      <td>6.160183</td>\n",
       "      <td>1.219518</td>\n",
       "      <td>6.160183</td>\n",
       "      <td>110.044204</td>\n",
       "      <td>1.219518</td>\n",
       "    </tr>\n",
       "    <tr>\n",
       "      <th>4</th>\n",
       "      <td>4</td>\n",
       "      <td>1999-01-01 04:00:00+00:00</td>\n",
       "      <td>-6.349969</td>\n",
       "      <td>1.693571</td>\n",
       "      <td>276.291280</td>\n",
       "      <td>97005.213128</td>\n",
       "      <td>6.571932</td>\n",
       "      <td>1.221259</td>\n",
       "      <td>6.571932</td>\n",
       "      <td>104.933490</td>\n",
       "      <td>1.221259</td>\n",
       "    </tr>\n",
       "  </tbody>\n",
       "</table>\n",
       "</div>"
      ],
      "text/plain": [
       "   Unnamed: 0                      time  windspeed_u  windspeed_v  \\\n",
       "0           0 1999-01-01 00:00:00+00:00    -4.456234     4.999991   \n",
       "1           1 1999-01-01 01:00:00+00:00    -5.006666     4.540059   \n",
       "2           2 1999-01-01 02:00:00+00:00    -5.101353     4.032729   \n",
       "3           3 1999-01-01 03:00:00+00:00    -5.787051     2.111372   \n",
       "4           4 1999-01-01 04:00:00+00:00    -6.349969     1.693571   \n",
       "\n",
       "   temperature  surface_pressure   ws_100m  dens_100m  windspeed  \\\n",
       "0   277.496492      97020.784132  6.697606   1.216004   6.697606   \n",
       "1   277.330357      97002.617960  6.758612   1.216525   6.758612   \n",
       "2   276.968939      97035.490081  6.502823   1.218571   6.502823   \n",
       "3   276.721193      97021.649188  6.160183   1.219518   6.160183   \n",
       "4   276.291280      97005.213128  6.571932   1.221259   6.571932   \n",
       "\n",
       "   wind_direction   density  \n",
       "0      138.291024  1.216004  \n",
       "1      132.201828  1.216525  \n",
       "2      128.327129  1.218571  \n",
       "3      110.044204  1.219518  \n",
       "4      104.933490  1.221259  "
      ]
     },
     "execution_count": 74,
     "metadata": {},
     "output_type": "execute_result"
    }
   ],
   "source": [
    "plant_from_data.reanalysis[\"era5\"].head()"
   ]
  },
  {
   "cell_type": "code",
   "execution_count": 75,
   "metadata": {},
   "outputs": [
    {
     "data": {
      "text/html": [
       "<div>\n",
       "<style scoped>\n",
       "    .dataframe tbody tr th:only-of-type {\n",
       "        vertical-align: middle;\n",
       "    }\n",
       "\n",
       "    .dataframe tbody tr th {\n",
       "        vertical-align: top;\n",
       "    }\n",
       "\n",
       "    .dataframe thead th {\n",
       "        text-align: right;\n",
       "    }\n",
       "</style>\n",
       "<table border=\"1\" class=\"dataframe\">\n",
       "  <thead>\n",
       "    <tr style=\"text-align: right;\">\n",
       "      <th></th>\n",
       "      <th>Unnamed: 0</th>\n",
       "      <th>time</th>\n",
       "      <th>surface_pressure</th>\n",
       "      <th>surface_skin_temperature</th>\n",
       "      <th>u_10</th>\n",
       "      <th>v_10</th>\n",
       "      <th>windspeed_u</th>\n",
       "      <th>windspeed_v</th>\n",
       "      <th>temp_2m</th>\n",
       "      <th>temperature</th>\n",
       "      <th>u_850</th>\n",
       "      <th>v_850</th>\n",
       "      <th>temp_850</th>\n",
       "      <th>ws_50m</th>\n",
       "      <th>dens_50m</th>\n",
       "      <th>windspeed</th>\n",
       "      <th>wind_direction</th>\n",
       "      <th>density</th>\n",
       "    </tr>\n",
       "  </thead>\n",
       "  <tbody>\n",
       "    <tr>\n",
       "      <th>0</th>\n",
       "      <td>0</td>\n",
       "      <td>1997-01-01 00:30:00+00:00</td>\n",
       "      <td>97353.040</td>\n",
       "      <td>258.85715</td>\n",
       "      <td>-5.517786</td>\n",
       "      <td>-3.350720</td>\n",
       "      <td>-7.167111</td>\n",
       "      <td>-4.020257</td>\n",
       "      <td>258.64264</td>\n",
       "      <td>258.54810</td>\n",
       "      <td>-10.273251</td>\n",
       "      <td>-0.722203</td>\n",
       "      <td>264.77643</td>\n",
       "      <td>8.217661</td>\n",
       "      <td>1.310616</td>\n",
       "      <td>8.217661</td>\n",
       "      <td>60.710568</td>\n",
       "      <td>1.311099</td>\n",
       "    </tr>\n",
       "    <tr>\n",
       "      <th>1</th>\n",
       "      <td>1</td>\n",
       "      <td>1997-01-01 01:30:00+00:00</td>\n",
       "      <td>97372.805</td>\n",
       "      <td>258.38250</td>\n",
       "      <td>-5.922551</td>\n",
       "      <td>-3.048721</td>\n",
       "      <td>-7.753224</td>\n",
       "      <td>-3.629969</td>\n",
       "      <td>258.16272</td>\n",
       "      <td>258.06815</td>\n",
       "      <td>-11.208241</td>\n",
       "      <td>-0.177881</td>\n",
       "      <td>265.06012</td>\n",
       "      <td>8.560909</td>\n",
       "      <td>1.313339</td>\n",
       "      <td>8.560909</td>\n",
       "      <td>64.911556</td>\n",
       "      <td>1.313824</td>\n",
       "    </tr>\n",
       "    <tr>\n",
       "      <th>2</th>\n",
       "      <td>2</td>\n",
       "      <td>1997-01-01 02:30:00+00:00</td>\n",
       "      <td>97371.945</td>\n",
       "      <td>258.06287</td>\n",
       "      <td>-5.918024</td>\n",
       "      <td>-2.925260</td>\n",
       "      <td>-7.747930</td>\n",
       "      <td>-3.496860</td>\n",
       "      <td>257.83590</td>\n",
       "      <td>257.74847</td>\n",
       "      <td>-11.152638</td>\n",
       "      <td>0.983774</td>\n",
       "      <td>265.51600</td>\n",
       "      <td>8.500497</td>\n",
       "      <td>1.315005</td>\n",
       "      <td>8.500497</td>\n",
       "      <td>65.709001</td>\n",
       "      <td>1.315454</td>\n",
       "    </tr>\n",
       "    <tr>\n",
       "      <th>3</th>\n",
       "      <td>3</td>\n",
       "      <td>1997-01-01 03:30:00+00:00</td>\n",
       "      <td>97354.710</td>\n",
       "      <td>257.95093</td>\n",
       "      <td>-5.587180</td>\n",
       "      <td>-3.093370</td>\n",
       "      <td>-7.363984</td>\n",
       "      <td>-3.779290</td>\n",
       "      <td>257.74982</td>\n",
       "      <td>257.68427</td>\n",
       "      <td>-9.815676</td>\n",
       "      <td>2.255801</td>\n",
       "      <td>266.19235</td>\n",
       "      <td>8.277155</td>\n",
       "      <td>1.315215</td>\n",
       "      <td>8.277155</td>\n",
       "      <td>62.832528</td>\n",
       "      <td>1.315552</td>\n",
       "    </tr>\n",
       "    <tr>\n",
       "      <th>4</th>\n",
       "      <td>4</td>\n",
       "      <td>1997-01-01 04:30:00+00:00</td>\n",
       "      <td>97348.410</td>\n",
       "      <td>257.99910</td>\n",
       "      <td>-5.471163</td>\n",
       "      <td>-3.099406</td>\n",
       "      <td>-7.257393</td>\n",
       "      <td>-3.835300</td>\n",
       "      <td>257.84320</td>\n",
       "      <td>257.80655</td>\n",
       "      <td>-8.338905</td>\n",
       "      <td>3.257462</td>\n",
       "      <td>266.77216</td>\n",
       "      <td>8.208488</td>\n",
       "      <td>1.314649</td>\n",
       "      <td>8.208488</td>\n",
       "      <td>62.144980</td>\n",
       "      <td>1.314838</td>\n",
       "    </tr>\n",
       "  </tbody>\n",
       "</table>\n",
       "</div>"
      ],
      "text/plain": [
       "   Unnamed: 0                      time  surface_pressure  \\\n",
       "0           0 1997-01-01 00:30:00+00:00         97353.040   \n",
       "1           1 1997-01-01 01:30:00+00:00         97372.805   \n",
       "2           2 1997-01-01 02:30:00+00:00         97371.945   \n",
       "3           3 1997-01-01 03:30:00+00:00         97354.710   \n",
       "4           4 1997-01-01 04:30:00+00:00         97348.410   \n",
       "\n",
       "   surface_skin_temperature      u_10      v_10  windspeed_u  windspeed_v  \\\n",
       "0                 258.85715 -5.517786 -3.350720    -7.167111    -4.020257   \n",
       "1                 258.38250 -5.922551 -3.048721    -7.753224    -3.629969   \n",
       "2                 258.06287 -5.918024 -2.925260    -7.747930    -3.496860   \n",
       "3                 257.95093 -5.587180 -3.093370    -7.363984    -3.779290   \n",
       "4                 257.99910 -5.471163 -3.099406    -7.257393    -3.835300   \n",
       "\n",
       "     temp_2m  temperature      u_850     v_850   temp_850    ws_50m  dens_50m  \\\n",
       "0  258.64264    258.54810 -10.273251 -0.722203  264.77643  8.217661  1.310616   \n",
       "1  258.16272    258.06815 -11.208241 -0.177881  265.06012  8.560909  1.313339   \n",
       "2  257.83590    257.74847 -11.152638  0.983774  265.51600  8.500497  1.315005   \n",
       "3  257.74982    257.68427  -9.815676  2.255801  266.19235  8.277155  1.315215   \n",
       "4  257.84320    257.80655  -8.338905  3.257462  266.77216  8.208488  1.314649   \n",
       "\n",
       "   windspeed  wind_direction   density  \n",
       "0   8.217661       60.710568  1.311099  \n",
       "1   8.560909       64.911556  1.313824  \n",
       "2   8.500497       65.709001  1.315454  \n",
       "3   8.277155       62.832528  1.315552  \n",
       "4   8.208488       62.144980  1.314838  "
      ]
     },
     "execution_count": 75,
     "metadata": {},
     "output_type": "execute_result"
    }
   ],
   "source": [
    "plant_from_data.reanalysis[\"merra2\"].head()"
   ]
  },
  {
   "cell_type": "markdown",
   "metadata": {},
   "source": [
    "### Show loading the data from file for both the meta data (JSON and YAML) and data (CSV)"
   ]
  },
  {
   "cell_type": "code",
   "execution_count": 76,
   "metadata": {},
   "outputs": [
    {
     "data": {
      "text/plain": [
       "openoa.types.plant_v2.PlantDataV3"
      ]
     },
     "execution_count": 76,
     "metadata": {},
     "output_type": "execute_result"
    }
   ],
   "source": [
    "plant_from_file1 = PlantDataV3(\n",
    "    metadata=yaml_meta,\n",
    "    scada=fn_scada,\n",
    "    meter=fn_meter,\n",
    "    curtail=fn_curtail,\n",
    "    reanalysis={\"merra2\": fn_reanalysis_merra2, \"era5\": fn_reanalysis_era5},  # preferred, and enable API pulling\n",
    "    asset=fn_asset,\n",
    "    analysis_type=\"MonteCarloAEP\"\n",
    ")\n",
    "type(plant_from_file1)"
   ]
  },
  {
   "cell_type": "code",
   "execution_count": 77,
   "metadata": {},
   "outputs": [
    {
     "data": {
      "text/plain": [
       "openoa.types.plant_v2.PlantDataV3"
      ]
     },
     "execution_count": 77,
     "metadata": {},
     "output_type": "execute_result"
    }
   ],
   "source": [
    "plant_from_file2 = PlantDataV3(\n",
    "    metadata=json_meta,\n",
    "    scada=fn_scada,\n",
    "    meter=fn_meter,\n",
    "    curtail=fn_curtail,\n",
    "    reanalysis={\"merra2\": fn_reanalysis_merra2, \"era5\": fn_reanalysis_era5},  # preferred, and enable API pulling\n",
    "    asset=fn_asset,\n",
    "    analysis_type=\"MonteCarloAEP\"\n",
    ")\n",
    "type(plant_from_file2)"
   ]
  },
  {
   "cell_type": "markdown",
   "metadata": {},
   "source": [
    "### When updating the `analysis_type` to \"all\", note all the column data errors that are saved until the end of the validation"
   ]
  },
  {
   "cell_type": "code",
   "execution_count": 78,
   "metadata": {},
   "outputs": [
    {
     "ename": "ValueError",
     "evalue": "`scada` data is missing the following columns: ['status']\n`meter` data is missing the following columns: ['power']\n`asset` data is missing the following columns: ['id', 'type']\n`status` data is missing the following columns: ['time', 'id', 'status_id', 'status_code', 'status_text']\n`scada` data columns were of the wrong type: ['status']\n`meter` data columns were of the wrong type: ['power']\n`asset` data columns were of the wrong type: ['id', 'type']\n`status` data columns were of the wrong type: ['time', 'id', 'status_id', 'status_code', 'status_text']",
     "output_type": "error",
     "traceback": [
      "\u001b[0;31m---------------------------------------------------------------------------\u001b[0m",
      "\u001b[0;31mValueError\u001b[0m                                Traceback (most recent call last)",
      "\u001b[0;32m<ipython-input-78-6adec677f9d0>\u001b[0m in \u001b[0;36m<module>\u001b[0;34m\u001b[0m\n\u001b[0;32m----> 1\u001b[0;31m plant_from_data = PlantDataV3(\n\u001b[0m\u001b[1;32m      2\u001b[0m     \u001b[0mmetadata\u001b[0m\u001b[0;34m=\u001b[0m\u001b[0mmeta_from_dict\u001b[0m\u001b[0;34m,\u001b[0m\u001b[0;34m\u001b[0m\u001b[0;34m\u001b[0m\u001b[0m\n\u001b[1;32m      3\u001b[0m     \u001b[0mscada\u001b[0m\u001b[0;34m=\u001b[0m\u001b[0mscada\u001b[0m\u001b[0;34m,\u001b[0m\u001b[0;34m\u001b[0m\u001b[0;34m\u001b[0m\u001b[0m\n\u001b[1;32m      4\u001b[0m     \u001b[0mmeter\u001b[0m\u001b[0;34m=\u001b[0m\u001b[0mmeter\u001b[0m\u001b[0;34m,\u001b[0m\u001b[0;34m\u001b[0m\u001b[0;34m\u001b[0m\u001b[0m\n\u001b[1;32m      5\u001b[0m     \u001b[0mcurtail\u001b[0m\u001b[0;34m=\u001b[0m\u001b[0mcurtail\u001b[0m\u001b[0;34m,\u001b[0m\u001b[0;34m\u001b[0m\u001b[0;34m\u001b[0m\u001b[0m\n",
      "\u001b[0;32m<attrs generated init openoa.types.plant_v2.PlantDataV3>\u001b[0m in \u001b[0;36m__init__\u001b[0;34m(self, metadata, analysis_type, scada, meter, tower, status, curtail, asset, reanalysis, preprocess)\u001b[0m\n\u001b[1;32m     19\u001b[0m         \u001b[0m__attr_validator_curtail\u001b[0m\u001b[0;34m(\u001b[0m\u001b[0mself\u001b[0m\u001b[0;34m,\u001b[0m \u001b[0m__attr_curtail\u001b[0m\u001b[0;34m,\u001b[0m \u001b[0mself\u001b[0m\u001b[0;34m.\u001b[0m\u001b[0mcurtail\u001b[0m\u001b[0;34m)\u001b[0m\u001b[0;34m\u001b[0m\u001b[0;34m\u001b[0m\u001b[0m\n\u001b[1;32m     20\u001b[0m         \u001b[0m__attr_validator_asset\u001b[0m\u001b[0;34m(\u001b[0m\u001b[0mself\u001b[0m\u001b[0;34m,\u001b[0m \u001b[0m__attr_asset\u001b[0m\u001b[0;34m,\u001b[0m \u001b[0mself\u001b[0m\u001b[0;34m.\u001b[0m\u001b[0masset\u001b[0m\u001b[0;34m)\u001b[0m\u001b[0;34m\u001b[0m\u001b[0;34m\u001b[0m\u001b[0m\n\u001b[0;32m---> 21\u001b[0;31m     \u001b[0mself\u001b[0m\u001b[0;34m.\u001b[0m\u001b[0m__attrs_post_init__\u001b[0m\u001b[0;34m(\u001b[0m\u001b[0;34m)\u001b[0m\u001b[0;34m\u001b[0m\u001b[0;34m\u001b[0m\u001b[0m\n\u001b[0m",
      "\u001b[0;32m~/Documents/GitHub/OpenOA/openoa/types/plant_v2.py\u001b[0m in \u001b[0;36m__attrs_post_init__\u001b[0;34m(self)\u001b[0m\n\u001b[1;32m    835\u001b[0m \u001b[0;34m\u001b[0m\u001b[0m\n\u001b[1;32m    836\u001b[0m     \u001b[0mThis\u001b[0m \u001b[0;32mclass\u001b[0m \u001b[0mholds\u001b[0m \u001b[0mreferences\u001b[0m \u001b[0mto\u001b[0m \u001b[0mall\u001b[0m \u001b[0mtables\u001b[0m \u001b[0massociated\u001b[0m \u001b[0;32mwith\u001b[0m \u001b[0ma\u001b[0m \u001b[0mwind\u001b[0m \u001b[0mplant\u001b[0m\u001b[0;34m.\u001b[0m \u001b[0mThe\u001b[0m \u001b[0mtables\u001b[0m\u001b[0;34m\u001b[0m\u001b[0;34m\u001b[0m\u001b[0m\n\u001b[0;32m--> 837\u001b[0;31m     \u001b[0mare\u001b[0m \u001b[0mgrouped\u001b[0m \u001b[0mby\u001b[0m \u001b[0mtype\u001b[0m\u001b[0;34m:\u001b[0m\u001b[0;34m\u001b[0m\u001b[0;34m\u001b[0m\u001b[0m\n\u001b[0m\u001b[1;32m    838\u001b[0m         \u001b[0;34m-\u001b[0m\u001b[0;31m \u001b[0m\u001b[0;31m`\u001b[0m\u001b[0mscada\u001b[0m\u001b[0;31m`\u001b[0m\u001b[0;34m\u001b[0m\u001b[0;34m\u001b[0m\u001b[0m\n\u001b[1;32m    839\u001b[0m         \u001b[0;34m-\u001b[0m\u001b[0;31m \u001b[0m\u001b[0;31m`\u001b[0m\u001b[0mmeter\u001b[0m\u001b[0;31m`\u001b[0m\u001b[0;34m\u001b[0m\u001b[0;34m\u001b[0m\u001b[0m\n",
      "\u001b[0;31mValueError\u001b[0m: `scada` data is missing the following columns: ['status']\n`meter` data is missing the following columns: ['power']\n`asset` data is missing the following columns: ['id', 'type']\n`status` data is missing the following columns: ['time', 'id', 'status_id', 'status_code', 'status_text']\n`scada` data columns were of the wrong type: ['status']\n`meter` data columns were of the wrong type: ['power']\n`asset` data columns were of the wrong type: ['id', 'type']\n`status` data columns were of the wrong type: ['time', 'id', 'status_id', 'status_code', 'status_text']"
     ]
    }
   ],
   "source": [
    "plant_from_data = PlantDataV3(\n",
    "    metadata=meta_from_dict,\n",
    "    scada=scada,\n",
    "    meter=meter,\n",
    "    curtail=curtail,\n",
    "    reanalysis={\"merra2\": reanalysis_merra2, \"era5\": reanalysis_era5},  # preferred, and enable API pulling\n",
    "    asset=asset,\n",
    "    analysis_type=\"all\"\n",
    ")"
   ]
  },
  {
   "cell_type": "markdown",
   "metadata": {},
   "source": [
    "### Demonstrate changing a parameter (`analysis_type`) and revalidating with `PlantDataV3.validate()`"
   ]
  },
  {
   "cell_type": "code",
   "execution_count": 79,
   "metadata": {},
   "outputs": [],
   "source": [
    "plant = deepcopy(plant_from_data)"
   ]
  },
  {
   "cell_type": "code",
   "execution_count": 24,
   "metadata": {},
   "outputs": [
    {
     "ename": "TypeError",
     "evalue": "'NoneType' object is not iterable",
     "output_type": "error",
     "traceback": [
      "\u001b[0;31m---------------------------------------------------------------------------\u001b[0m",
      "\u001b[0;31mTypeError\u001b[0m                                 Traceback (most recent call last)",
      "\u001b[0;32m<ipython-input-24-ad6329650620>\u001b[0m in \u001b[0;36m<module>\u001b[0;34m\u001b[0m\n\u001b[0;32m----> 1\u001b[0;31m \u001b[0mplant\u001b[0m\u001b[0;34m.\u001b[0m\u001b[0manalysis_type\u001b[0m \u001b[0;34m=\u001b[0m \u001b[0;32mNone\u001b[0m\u001b[0;34m\u001b[0m\u001b[0;34m\u001b[0m\u001b[0m\n\u001b[0m\u001b[1;32m      2\u001b[0m \u001b[0mplant\u001b[0m\u001b[0;34m.\u001b[0m\u001b[0mvalidate\u001b[0m\u001b[0;34m(\u001b[0m\u001b[0;34m)\u001b[0m\u001b[0;34m\u001b[0m\u001b[0;34m\u001b[0m\u001b[0m\n",
      "\u001b[0;32m/opt/miniconda3/envs/openoa/lib/python3.8/site-packages/attr/_make.py\u001b[0m in \u001b[0;36m__setattr__\u001b[0;34m(self, name, val)\u001b[0m\n\u001b[1;32m    913\u001b[0m                 \u001b[0mnval\u001b[0m \u001b[0;34m=\u001b[0m \u001b[0mval\u001b[0m\u001b[0;34m\u001b[0m\u001b[0;34m\u001b[0m\u001b[0m\n\u001b[1;32m    914\u001b[0m             \u001b[0;32melse\u001b[0m\u001b[0;34m:\u001b[0m\u001b[0;34m\u001b[0m\u001b[0;34m\u001b[0m\u001b[0m\n\u001b[0;32m--> 915\u001b[0;31m                 \u001b[0mnval\u001b[0m \u001b[0;34m=\u001b[0m \u001b[0mhook\u001b[0m\u001b[0;34m(\u001b[0m\u001b[0mself\u001b[0m\u001b[0;34m,\u001b[0m \u001b[0ma\u001b[0m\u001b[0;34m,\u001b[0m \u001b[0mval\u001b[0m\u001b[0;34m)\u001b[0m\u001b[0;34m\u001b[0m\u001b[0;34m\u001b[0m\u001b[0m\n\u001b[0m\u001b[1;32m    916\u001b[0m \u001b[0;34m\u001b[0m\u001b[0m\n\u001b[1;32m    917\u001b[0m             \u001b[0m_obj_setattr\u001b[0m\u001b[0;34m(\u001b[0m\u001b[0mself\u001b[0m\u001b[0;34m,\u001b[0m \u001b[0mname\u001b[0m\u001b[0;34m,\u001b[0m \u001b[0mnval\u001b[0m\u001b[0;34m)\u001b[0m\u001b[0;34m\u001b[0m\u001b[0;34m\u001b[0m\u001b[0m\n",
      "\u001b[0;32m/opt/miniconda3/envs/openoa/lib/python3.8/site-packages/attr/setters.py\u001b[0m in \u001b[0;36mwrapped_pipe\u001b[0;34m(instance, attrib, new_value)\u001b[0m\n\u001b[1;32m     20\u001b[0m \u001b[0;34m\u001b[0m\u001b[0m\n\u001b[1;32m     21\u001b[0m         \u001b[0;32mfor\u001b[0m \u001b[0msetter\u001b[0m \u001b[0;32min\u001b[0m \u001b[0msetters\u001b[0m\u001b[0;34m:\u001b[0m\u001b[0;34m\u001b[0m\u001b[0;34m\u001b[0m\u001b[0m\n\u001b[0;32m---> 22\u001b[0;31m             \u001b[0mrv\u001b[0m \u001b[0;34m=\u001b[0m \u001b[0msetter\u001b[0m\u001b[0;34m(\u001b[0m\u001b[0minstance\u001b[0m\u001b[0;34m,\u001b[0m \u001b[0mattrib\u001b[0m\u001b[0;34m,\u001b[0m \u001b[0mrv\u001b[0m\u001b[0;34m)\u001b[0m\u001b[0;34m\u001b[0m\u001b[0;34m\u001b[0m\u001b[0m\n\u001b[0m\u001b[1;32m     23\u001b[0m \u001b[0;34m\u001b[0m\u001b[0m\n\u001b[1;32m     24\u001b[0m         \u001b[0;32mreturn\u001b[0m \u001b[0mrv\u001b[0m\u001b[0;34m\u001b[0m\u001b[0;34m\u001b[0m\u001b[0m\n",
      "\u001b[0;32m/opt/miniconda3/envs/openoa/lib/python3.8/site-packages/attr/setters.py\u001b[0m in \u001b[0;36mconvert\u001b[0;34m(instance, attrib, new_value)\u001b[0m\n\u001b[1;32m     63\u001b[0m     \u001b[0mc\u001b[0m \u001b[0;34m=\u001b[0m \u001b[0mattrib\u001b[0m\u001b[0;34m.\u001b[0m\u001b[0mconverter\u001b[0m\u001b[0;34m\u001b[0m\u001b[0;34m\u001b[0m\u001b[0m\n\u001b[1;32m     64\u001b[0m     \u001b[0;32mif\u001b[0m \u001b[0mc\u001b[0m\u001b[0;34m:\u001b[0m\u001b[0;34m\u001b[0m\u001b[0;34m\u001b[0m\u001b[0m\n\u001b[0;32m---> 65\u001b[0;31m         \u001b[0;32mreturn\u001b[0m \u001b[0mc\u001b[0m\u001b[0;34m(\u001b[0m\u001b[0mnew_value\u001b[0m\u001b[0;34m)\u001b[0m\u001b[0;34m\u001b[0m\u001b[0;34m\u001b[0m\u001b[0m\n\u001b[0m\u001b[1;32m     66\u001b[0m \u001b[0;34m\u001b[0m\u001b[0m\n\u001b[1;32m     67\u001b[0m     \u001b[0;32mreturn\u001b[0m \u001b[0mnew_value\u001b[0m\u001b[0;34m\u001b[0m\u001b[0;34m\u001b[0m\u001b[0m\n",
      "\u001b[0;32m~/Documents/GitHub/OpenOA/openoa/types/plant_v2.py\u001b[0m in \u001b[0;36mconvert_to_list\u001b[0;34m(value, manipulation)\u001b[0m\n\u001b[1;32m    606\u001b[0m         \u001b[0mThe\u001b[0m \u001b[0mnew\u001b[0m \u001b[0mlist\u001b[0m \u001b[0mof\u001b[0m \u001b[0melements\u001b[0m\u001b[0;34m.\u001b[0m\u001b[0;34m\u001b[0m\u001b[0;34m\u001b[0m\u001b[0m\n\u001b[1;32m    607\u001b[0m     \"\"\"\n\u001b[0;32m--> 608\u001b[0;31m \u001b[0;34m\u001b[0m\u001b[0m\n\u001b[0m\u001b[1;32m    609\u001b[0m     \u001b[0;32mif\u001b[0m \u001b[0misinstance\u001b[0m\u001b[0;34m(\u001b[0m\u001b[0mvalue\u001b[0m\u001b[0;34m,\u001b[0m \u001b[0;34m(\u001b[0m\u001b[0mstr\u001b[0m\u001b[0;34m,\u001b[0m \u001b[0mint\u001b[0m\u001b[0;34m,\u001b[0m \u001b[0mfloat\u001b[0m\u001b[0;34m)\u001b[0m\u001b[0;34m)\u001b[0m\u001b[0;34m:\u001b[0m\u001b[0;34m\u001b[0m\u001b[0;34m\u001b[0m\u001b[0m\n\u001b[1;32m    610\u001b[0m         \u001b[0mvalue\u001b[0m \u001b[0;34m=\u001b[0m \u001b[0;34m[\u001b[0m\u001b[0mvalue\u001b[0m\u001b[0;34m]\u001b[0m\u001b[0;34m\u001b[0m\u001b[0;34m\u001b[0m\u001b[0m\n",
      "\u001b[0;31mTypeError\u001b[0m: 'NoneType' object is not iterable"
     ]
    }
   ],
   "source": [
    "plant.analysis_type = None\n",
    "plant.validate()"
   ]
  },
  {
   "cell_type": "code",
   "execution_count": 20,
   "metadata": {},
   "outputs": [
    {
     "ename": "ValueError",
     "evalue": "`scada` data is missing the following columns: ['Ba_avg', 'status', 'Date_time', 'Wa_avg', 'P_avg', 'Wind_turbine_name', 'Ws_avg', 'Ot_avg']\n`meter` data is missing the following columns: ['time_utc', 'power', 'net_energy_kwh']\n`tower` data is missing the following columns: ['time', 'id']\n`asset` data is missing the following columns: ['Longitude', 'Rated_power', 'type', 'id', 'Latitude']\n`status` data is missing the following columns: ['time', 'id', 'status_id', 'status_code', 'status_text']\n`curtail` data is missing the following columns: ['availability_kwh', 'time_utc', 'net_energy_kwh', 'curtailment_kwh']\n`reanalysis-merra2` data is missing the following columns: ['temp_10m', 'u_50', 'v_50', 'datetime']\n`reanalysis-era5` data is missing the following columns: ['v_100', 't_2m', 'surf_pres', 'datetime', 'u_100']\n`scada` data columns were of the wrong type: ['Date_time', 'Wind_turbine_name', 'P_avg', 'Ws_avg', 'Wa_avg', 'status', 'Ba_avg', 'Ot_avg']\n`meter` data columns were of the wrong type: ['time_utc', 'power', 'net_energy_kwh']\n`tower` data columns were of the wrong type: ['time', 'id']\n`asset` data columns were of the wrong type: ['id', 'Latitude', 'Longitude', 'Rated_power', 'type']\n`status` data columns were of the wrong type: ['time', 'id', 'status_id', 'status_code', 'status_text']\n`curtail` data columns were of the wrong type: ['time_utc', 'curtailment_kwh', 'availability_kwh', 'net_energy_kwh']\n`reanalysis` data columns were of the wrong type: ['era5', 'merra2']\n`reanalysis-merra2` data columns were of the wrong type: ['datetime', 'u_50', 'v_50', 'temp_10m']\n`reanalysis-era5` data columns were of the wrong type: ['datetime', 'u_100', 'v_100', 't_2m', 'surf_pres']",
     "output_type": "error",
     "traceback": [
      "\u001b[0;31m---------------------------------------------------------------------------\u001b[0m",
      "\u001b[0;31mValueError\u001b[0m                                Traceback (most recent call last)",
      "\u001b[0;32m<ipython-input-20-f67b5e4cc83a>\u001b[0m in \u001b[0;36m<module>\u001b[0;34m\u001b[0m\n\u001b[1;32m      1\u001b[0m \u001b[0mplant\u001b[0m\u001b[0;34m.\u001b[0m\u001b[0manalysis_type\u001b[0m \u001b[0;34m=\u001b[0m \u001b[0;34m\"all\"\u001b[0m\u001b[0;34m\u001b[0m\u001b[0;34m\u001b[0m\u001b[0m\n\u001b[0;32m----> 2\u001b[0;31m \u001b[0mplant\u001b[0m\u001b[0;34m.\u001b[0m\u001b[0mvalidate\u001b[0m\u001b[0;34m(\u001b[0m\u001b[0;34m)\u001b[0m\u001b[0;34m\u001b[0m\u001b[0;34m\u001b[0m\u001b[0m\n\u001b[0m",
      "\u001b[0;32m~/Documents/GitHub/OpenOA/openoa/types/plant_v2.py\u001b[0m in \u001b[0;36mvalidate\u001b[0;34m(self, metadata)\u001b[0m\n\u001b[1;32m   1024\u001b[0m         \u001b[0mself\u001b[0m\u001b[0;34m.\u001b[0m\u001b[0mreanalysis_validation\u001b[0m\u001b[0;34m(\u001b[0m\u001b[0;34m)\u001b[0m\u001b[0;34m\u001b[0m\u001b[0;34m\u001b[0m\u001b[0m\n\u001b[1;32m   1025\u001b[0m \u001b[0;34m\u001b[0m\u001b[0m\n\u001b[0;32m-> 1026\u001b[0;31m         \u001b[0;31m# TODO: Check for extra columns?\u001b[0m\u001b[0;34m\u001b[0m\u001b[0;34m\u001b[0m\u001b[0;34m\u001b[0m\u001b[0m\n\u001b[0m\u001b[1;32m   1027\u001b[0m         \u001b[0;31m# TODO: Define other checks?\u001b[0m\u001b[0;34m\u001b[0m\u001b[0;34m\u001b[0m\u001b[0;34m\u001b[0m\u001b[0m\n\u001b[1;32m   1028\u001b[0m \u001b[0;34m\u001b[0m\u001b[0m\n",
      "\u001b[0;31mValueError\u001b[0m: `scada` data is missing the following columns: ['Ba_avg', 'status', 'Date_time', 'Wa_avg', 'P_avg', 'Wind_turbine_name', 'Ws_avg', 'Ot_avg']\n`meter` data is missing the following columns: ['time_utc', 'power', 'net_energy_kwh']\n`tower` data is missing the following columns: ['time', 'id']\n`asset` data is missing the following columns: ['Longitude', 'Rated_power', 'type', 'id', 'Latitude']\n`status` data is missing the following columns: ['time', 'id', 'status_id', 'status_code', 'status_text']\n`curtail` data is missing the following columns: ['availability_kwh', 'time_utc', 'net_energy_kwh', 'curtailment_kwh']\n`reanalysis-merra2` data is missing the following columns: ['temp_10m', 'u_50', 'v_50', 'datetime']\n`reanalysis-era5` data is missing the following columns: ['v_100', 't_2m', 'surf_pres', 'datetime', 'u_100']\n`scada` data columns were of the wrong type: ['Date_time', 'Wind_turbine_name', 'P_avg', 'Ws_avg', 'Wa_avg', 'status', 'Ba_avg', 'Ot_avg']\n`meter` data columns were of the wrong type: ['time_utc', 'power', 'net_energy_kwh']\n`tower` data columns were of the wrong type: ['time', 'id']\n`asset` data columns were of the wrong type: ['id', 'Latitude', 'Longitude', 'Rated_power', 'type']\n`status` data columns were of the wrong type: ['time', 'id', 'status_id', 'status_code', 'status_text']\n`curtail` data columns were of the wrong type: ['time_utc', 'curtailment_kwh', 'availability_kwh', 'net_energy_kwh']\n`reanalysis` data columns were of the wrong type: ['era5', 'merra2']\n`reanalysis-merra2` data columns were of the wrong type: ['datetime', 'u_50', 'v_50', 'temp_10m']\n`reanalysis-era5` data columns were of the wrong type: ['datetime', 'u_100', 'v_100', 't_2m', 'surf_pres']"
     ]
    }
   ],
   "source": [
    "plant.analysis_type = \"all\"\n",
    "plant.validate()"
   ]
  },
  {
   "cell_type": "code",
   "execution_count": 21,
   "metadata": {},
   "outputs": [],
   "source": [
    "plant.analysis_type = \"TurbineLongTermGrossEnergy\"\n",
    "plant.validate()"
   ]
  },
  {
   "cell_type": "code",
   "execution_count": 22,
   "metadata": {},
   "outputs": [],
   "source": [
    "plant.analysis_type = \"ElectricalLosses\"\n",
    "plant.validate()"
   ]
  },
  {
   "cell_type": "markdown",
   "metadata": {},
   "source": [
    "#### Direct copy of the analysis requirements for easy referece"
   ]
  },
  {
   "cell_type": "code",
   "execution_count": null,
   "metadata": {},
   "outputs": [],
   "source": [
    "ANALYSIS_REQUIREMENTS = {\n",
    "    \"MonteCarloAEP\": {\n",
    "        \"meter\": {\n",
    "            \"columns\": [\"energy\"],\n",
    "            \"freq\": (\"MS\", \"D\", \"H\", \"T\"),\n",
    "        },\n",
    "        \"curtail\": {\n",
    "            \"columns\": [\"availability\", \"curtailment\"],\n",
    "            \"freq\": (\"MS\", \"D\", \"H\", \"T\"),\n",
    "        },\n",
    "        \"reanalysis\": {\n",
    "            \"columns\": [\"windspeed\", \"rho\"],\n",
    "            \"conditional_columns\": {\n",
    "                \"reg_temperature\": [\"temperature\"],\n",
    "                \"reg_winddirection\": [\"windspeed_u\", \"windspeed_v\"],\n",
    "            },\n",
    "        },\n",
    "    },\n",
    "    \"TurbineLongTermGrossEnergy\": {\n",
    "        \"scada\": {\n",
    "            \"columns\": [\"id\", \"windspeed\", \"power\"],  # TODO: wtur_W_avg vs energy_kwh ?\n",
    "            \"freq\": (\"D\", \"H\", \"T\"),\n",
    "        },\n",
    "        \"reanalysis\": {\n",
    "            \"columns\": [\"windspeed\", \"wind_direction\", \"rho\"],\n",
    "        },\n",
    "    },\n",
    "    \"ElectricalLosses\": {\n",
    "        \"scada\": {\n",
    "            \"columns\": [\"energy\"],\n",
    "            \"freq\": (\"D\", \"H\", \"T\"),\n",
    "        },\n",
    "        \"meter\": {\n",
    "            \"columns\": [\"energy\"],\n",
    "            \"freq\": (\"MS\", \"D\", \"H\", \"T\"),\n",
    "        },\n",
    "    },\n",
    "}"
   ]
  },
  {
   "cell_type": "markdown",
   "metadata": {},
   "source": [
    "### Show the updated column names and how to map them back to the original data"
   ]
  },
  {
   "cell_type": "code",
   "execution_count": null,
   "metadata": {},
   "outputs": [],
   "source": [
    "scada.columns.tolist()"
   ]
  },
  {
   "cell_type": "code",
   "execution_count": null,
   "metadata": {},
   "outputs": [],
   "source": [
    "plant.scada.columns.tolist()"
   ]
  },
  {
   "cell_type": "code",
   "execution_count": null,
   "metadata": {},
   "outputs": [],
   "source": [
    "plant.update_column_names(to_original=True)\n",
    "plant.scada.columns.tolist()"
   ]
  },
  {
   "cell_type": "markdown",
   "metadata": {},
   "source": [
    "## Demonstrate the PlanetOS integration"
   ]
  },
  {
   "cell_type": "code",
   "execution_count": 17,
   "metadata": {},
   "outputs": [
    {
     "ename": "ValueError",
     "evalue": "`scada` data is missing the following columns: ['status']\n`meter` data is missing the following columns: ['power']\n`asset` data is missing the following columns: ['type', 'id']\n`status` data is missing the following columns: ['time', 'id', 'status_id', 'status_code', 'status_text']\n`reanalysis-merra2` data is missing the following columns: ['temp_10m', 'surface_pressure', 'windspeed', 'u_50', 'v_50', 'density', 'wind_direction']\n`reanalysis-era5` data is missing the following columns: ['windspeed', 'v_100', 't_2m', 'surf_pres', 'u_100', 'density', 'wind_direction']\n`scada` data columns were of the wrong type: ['status']\n`meter` data columns were of the wrong type: ['power']\n`asset` data columns were of the wrong type: ['id', 'type']\n`status` data columns were of the wrong type: ['time', 'id', 'status_id', 'status_code', 'status_text']\n`reanalysis-merra2` data columns were of the wrong type: ['windspeed', 'u_50', 'v_50', 'wind_direction', 'temp_10m', 'density', 'surface_pressure']\n`reanalysis-era5` data columns were of the wrong type: ['windspeed', 'u_100', 'v_100', 'wind_direction', 't_2m', 'density', 'surf_pres']",
     "output_type": "error",
     "traceback": [
      "\u001b[0;31m---------------------------------------------------------------------------\u001b[0m",
      "\u001b[0;31mValueError\u001b[0m                                Traceback (most recent call last)",
      "\u001b[0;32m<ipython-input-17-1990d81c2251>\u001b[0m in \u001b[0;36m<module>\u001b[0;34m\u001b[0m\n\u001b[1;32m     25\u001b[0m )\n\u001b[1;32m     26\u001b[0m \u001b[0;34m\u001b[0m\u001b[0m\n\u001b[0;32m---> 27\u001b[0;31m plant_from_data = PlantDataV3(\n\u001b[0m\u001b[1;32m     28\u001b[0m     \u001b[0mmetadata\u001b[0m\u001b[0;34m=\u001b[0m\u001b[0mmeta_from_dict\u001b[0m\u001b[0;34m,\u001b[0m\u001b[0;34m\u001b[0m\u001b[0;34m\u001b[0m\u001b[0m\n\u001b[1;32m     29\u001b[0m     \u001b[0mscada\u001b[0m\u001b[0;34m=\u001b[0m\u001b[0mscada\u001b[0m\u001b[0;34m,\u001b[0m\u001b[0;34m\u001b[0m\u001b[0;34m\u001b[0m\u001b[0m\n",
      "\u001b[0;32m<attrs generated init openoa.types.plant_v2.PlantDataV3>\u001b[0m in \u001b[0;36m__init__\u001b[0;34m(self, metadata, analysis_type, scada, meter, tower, status, curtail, asset, reanalysis, preprocess)\u001b[0m\n\u001b[1;32m     19\u001b[0m         \u001b[0m__attr_validator_curtail\u001b[0m\u001b[0;34m(\u001b[0m\u001b[0mself\u001b[0m\u001b[0;34m,\u001b[0m \u001b[0m__attr_curtail\u001b[0m\u001b[0;34m,\u001b[0m \u001b[0mself\u001b[0m\u001b[0;34m.\u001b[0m\u001b[0mcurtail\u001b[0m\u001b[0;34m)\u001b[0m\u001b[0;34m\u001b[0m\u001b[0;34m\u001b[0m\u001b[0m\n\u001b[1;32m     20\u001b[0m         \u001b[0m__attr_validator_asset\u001b[0m\u001b[0;34m(\u001b[0m\u001b[0mself\u001b[0m\u001b[0;34m,\u001b[0m \u001b[0m__attr_asset\u001b[0m\u001b[0;34m,\u001b[0m \u001b[0mself\u001b[0m\u001b[0;34m.\u001b[0m\u001b[0masset\u001b[0m\u001b[0;34m)\u001b[0m\u001b[0;34m\u001b[0m\u001b[0;34m\u001b[0m\u001b[0m\n\u001b[0;32m---> 21\u001b[0;31m     \u001b[0mself\u001b[0m\u001b[0;34m.\u001b[0m\u001b[0m__attrs_post_init__\u001b[0m\u001b[0;34m(\u001b[0m\u001b[0;34m)\u001b[0m\u001b[0;34m\u001b[0m\u001b[0;34m\u001b[0m\u001b[0m\n\u001b[0m",
      "\u001b[0;32m~/Documents/GitHub/OpenOA/openoa/types/plant_v2.py\u001b[0m in \u001b[0;36m__attrs_post_init__\u001b[0;34m(self)\u001b[0m\n\u001b[1;32m    832\u001b[0m         \u001b[0;32mif\u001b[0m \u001b[0merror_message\u001b[0m \u001b[0;34m!=\u001b[0m \u001b[0;34m\"\"\u001b[0m\u001b[0;34m:\u001b[0m\u001b[0;34m\u001b[0m\u001b[0;34m\u001b[0m\u001b[0m\n\u001b[1;32m    833\u001b[0m             \u001b[0;31m# raise ValueError(\"\\n\".join(itertools.chain(*self._errors.values())))\u001b[0m\u001b[0;34m\u001b[0m\u001b[0;34m\u001b[0m\u001b[0;34m\u001b[0m\u001b[0m\n\u001b[0;32m--> 834\u001b[0;31m             \u001b[0;32mraise\u001b[0m \u001b[0mValueError\u001b[0m\u001b[0;34m(\u001b[0m\u001b[0merror_message\u001b[0m\u001b[0;34m)\u001b[0m\u001b[0;34m\u001b[0m\u001b[0;34m\u001b[0m\u001b[0m\n\u001b[0m\u001b[1;32m    835\u001b[0m         \u001b[0mself\u001b[0m\u001b[0;34m.\u001b[0m\u001b[0mupdate_column_names\u001b[0m\u001b[0;34m(\u001b[0m\u001b[0;34m)\u001b[0m\u001b[0;34m\u001b[0m\u001b[0;34m\u001b[0m\u001b[0m\n\u001b[1;32m    836\u001b[0m \u001b[0;34m\u001b[0m\u001b[0m\n",
      "\u001b[0;31mValueError\u001b[0m: `scada` data is missing the following columns: ['status']\n`meter` data is missing the following columns: ['power']\n`asset` data is missing the following columns: ['type', 'id']\n`status` data is missing the following columns: ['time', 'id', 'status_id', 'status_code', 'status_text']\n`reanalysis-merra2` data is missing the following columns: ['temp_10m', 'surface_pressure', 'windspeed', 'u_50', 'v_50', 'density', 'wind_direction']\n`reanalysis-era5` data is missing the following columns: ['windspeed', 'v_100', 't_2m', 'surf_pres', 'u_100', 'density', 'wind_direction']\n`scada` data columns were of the wrong type: ['status']\n`meter` data columns were of the wrong type: ['power']\n`asset` data columns were of the wrong type: ['id', 'type']\n`status` data columns were of the wrong type: ['time', 'id', 'status_id', 'status_code', 'status_text']\n`reanalysis-merra2` data columns were of the wrong type: ['windspeed', 'u_50', 'v_50', 'wind_direction', 'temp_10m', 'density', 'surface_pressure']\n`reanalysis-era5` data columns were of the wrong type: ['windspeed', 'u_100', 'v_100', 'wind_direction', 't_2m', 'density', 'surf_pres']"
     ]
    }
   ],
   "source": [
    "apikey_file = Path(\"./APIKEY\").resolve()\n",
    "plant_meta_planetos = deepcopy(plant_meta)\n",
    "plant_meta_planetos[\"reanalysis\"][\"era5\"] = dict(\n",
    "    time=\"datetime\",\n",
    "    windspeed=\"windspeed_ms\",\n",
    "    wind_direction=\"winddirection_deg\",\n",
    "    windspeed_u=\"u_ms\",\n",
    "    windspeed_v=\"v_ms\",\n",
    "    temperature=\"temperature_K\",\n",
    "    density=\"rho_kgm-3\",\n",
    "    surface_pressure=\"surf_pres_Pa\",\n",
    "    frequency=\"H\",\n",
    ")\n",
    "plant_meta_planetos[\"reanalysis\"][\"merra2\"] = dict(\n",
    "    time=\"datetime\",\n",
    "    windspeed=\"windspeed_ms\",\n",
    "    wind_direction=\"winddirection_deg\",\n",
    "    windspeed_u=\"u_ms\",\n",
    "    windspeed_v=\"v_ms\",\n",
    "    temperature=\"temperature_K\",\n",
    "    density=\"rho_kgm-3\",\n",
    "    surface_pressure=\"surf_pres_Pa\",\n",
    "    frequency=\"H\",\n",
    ")\n",
    "\n",
    "plant_from_data = PlantDataV3(\n",
    "    metadata=meta_from_dict,\n",
    "    scada=scada,\n",
    "    meter=meter,\n",
    "    curtail=curtail,\n",
    "    reanalysis={\n",
    "        \"merra2\": {\"apikey_file\": apikey_file, \"save_pathname\": \".\", \"save_filename\": \"merra2\"},\n",
    "        \"era5\": {\"apikey_file\": apikey_file, \"save_pathname\": \".\", \"save_filename\": \"era5\"},\n",
    "    },\n",
    "    asset=asset,\n",
    "    analysis_type=\"all\"\n",
    ")"
   ]
  },
  {
   "cell_type": "code",
   "execution_count": null,
   "metadata": {},
   "outputs": [],
   "source": []
  },
  {
   "cell_type": "code",
   "execution_count": null,
   "metadata": {},
   "outputs": [],
   "source": []
  },
  {
   "cell_type": "code",
   "execution_count": null,
   "metadata": {},
   "outputs": [],
   "source": []
  }
 ],
 "metadata": {
  "kernelspec": {
   "display_name": "Python 3",
   "language": "python",
   "name": "python3"
  },
  "language_info": {
   "codemirror_mode": {
    "name": "ipython",
    "version": 3
   },
   "file_extension": ".py",
   "mimetype": "text/x-python",
   "name": "python",
   "nbconvert_exporter": "python",
   "pygments_lexer": "ipython3",
   "version": "3.8.5"
  }
 },
 "nbformat": 4,
 "nbformat_minor": 4
}
