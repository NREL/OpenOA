{
 "cells": [
  {
   "cell_type": "markdown",
   "metadata": {},
   "source": [
    "## The next step in the gap analysis is to estimate electrical losses from the wind farm."
   ]
  },
  {
   "cell_type": "code",
   "execution_count": 1,
   "metadata": {},
   "outputs": [],
   "source": [
    "%load_ext autoreload\n",
    "%autoreload 2"
   ]
  },
  {
   "cell_type": "markdown",
   "metadata": {},
   "source": [
    "Calculating electrical losses in this method is relatively straightforward. In short, the sum of turbine energy is compared to the sum of metered energy, with the differnce equaling the electrical losses for the wind farm. However, the time resolution of the metered data and dealing with missing data are important aspects of this method.\n",
    "\n",
    "The approach is to first calculate daily sums of turbine and revenue meter energy over the \n",
    "plant period of record. Only those days where all turbines and the revenue meter were \n",
    "reporting for all timesteps are considered. Electrical loss is then the difference in \n",
    "total turbine energy production and meter production over those concurrent days. \n",
    "    \n",
    "Uncertainty in the calculated electrical losses is estimated by applying a Monte Carlo approach to sample revenue meter data and SCADA data with a 0.5% imposed uncertainty. One filtering parameter is sampled too.\n",
    "The uncertainty in estimated electrical losses is quantified as the standard deviation\n",
    "of the distribution of losses obtained from the MC sampling.\n",
    "    \n",
    "In this example, the procedure for calculating electrical losses is illustrated with and without uncertainty quantification.\n",
    "    \n",
    "In the case that meter data is not provided on a daily or sub-daily basis (e.g. monthly), a\n",
    "different approach is implemented. The sum of daily turbine energy is corrected for any missing \n",
    "reported energy data from the turbines based on the ratio of expected number of data counts per day \n",
    "to the actual. Daily corrected sum of turbine energy is then summed on a monthly basis. Electrical \n",
    "loss is then the difference between total corrected turbine energy production and meter production \n",
    "over those concurrent months.   "
   ]
  },
  {
   "cell_type": "code",
   "execution_count": 2,
   "metadata": {},
   "outputs": [],
   "source": [
    "# Import required packages\n",
    "import matplotlib.pyplot as plt\n",
    "import numpy as np\n",
    "import pandas as pd\n",
    "\n",
    "from project_ENGIE import Project_Engie\n",
    "from operational_analysis.methods import electrical_losses"
   ]
  },
  {
   "cell_type": "markdown",
   "metadata": {},
   "source": [
    "In the call below, make sure the appropriate path to the CSV input files is specfied. In this example, the CSV files are located directly in the 'examples/operational_AEP_analysis/data' folder."
   ]
  },
  {
   "cell_type": "code",
   "execution_count": 3,
   "metadata": {},
   "outputs": [],
   "source": [
    "# Load wind farm object\n",
    "project = Project_Engie('./data/la_haute_borne')"
   ]
  },
  {
   "cell_type": "code",
   "execution_count": 4,
   "metadata": {},
   "outputs": [
    {
     "name": "stderr",
     "output_type": "stream",
     "text": [
      "INFO:project_ENGIE:Loading SCADA data\n",
      "INFO:operational_analysis.types.timeseries_table:Loading name:la-haute-borne-data-2014-2015\n",
      "INFO:project_ENGIE:SCADA data loaded\n",
      "INFO:project_ENGIE:Timestamp QC and conversion to UTC\n",
      "INFO:project_ENGIE:Correcting for out of range of temperature variables\n",
      "INFO:project_ENGIE:Flagging unresponsive sensors\n",
      "INFO:numexpr.utils:NumExpr defaulting to 8 threads.\n",
      "INFO:project_ENGIE:Converting field names to IEC 61400-25 standard\n",
      "INFO:operational_analysis.types.timeseries_table:Loading name:plant_data\n",
      "INFO:operational_analysis.types.timeseries_table:Loading name:plant_data\n",
      "INFO:operational_analysis.types.timeseries_table:Loading name:merra2_la_haute_borne\n",
      "INFO:operational_analysis.types.timeseries_table:Loading name:era5_wind_la_haute_borne\n"
     ]
    }
   ],
   "source": [
    "# Load and prepare the wind farm data\n",
    "project.prepare()"
   ]
  },
  {
   "cell_type": "markdown",
   "metadata": {},
   "source": [
    "### Electrical loss estimation without uncertainty quantification\n",
    "\n",
    "Next we create an Electrical Loss object which will contain the analysis to be performed. The method has the ability to calculate uncertainty in the electrical losses through a Monte Carlo sampling of power data based on its measurement uncertainty. For now, we turn this option off and calculate a single electrical loss value."
   ]
  },
  {
   "cell_type": "code",
   "execution_count": 5,
   "metadata": {},
   "outputs": [
    {
     "name": "stderr",
     "output_type": "stream",
     "text": [
      "INFO:operational_analysis.methods.electrical_losses:Initializing Electrical Losses Object\n",
      "INFO:operational_analysis.methods.electrical_losses:Note: uncertainty quantification will NOT be performed in the calculation\n"
     ]
    }
   ],
   "source": [
    "# Create Electrical Loss object\n",
    "el = electrical_losses.ElectricalLosses(project)"
   ]
  },
  {
   "cell_type": "code",
   "execution_count": 6,
   "metadata": {},
   "outputs": [
    {
     "name": "stderr",
     "output_type": "stream",
     "text": [
      "INFO:operational_analysis.methods.electrical_losses:Processing SCADA data\n",
      "INFO:operational_analysis.methods.electrical_losses:Processing meter data\n",
      "INFO:operational_analysis.methods.electrical_losses:Calculating electrical losses\n",
      "100%|██████████| 1/1 [00:00<00:00, 123.34it/s]\n"
     ]
    }
   ],
   "source": [
    "# Now we run the analysis using the run() function in the method\n",
    "el.run(uncertainty_correction_thresh=0.95 # If dealing with monthly meter data, exclude months with less than 95%\n",
    "                                          # data coverage\n",
    "      )"
   ]
  },
  {
   "cell_type": "markdown",
   "metadata": {},
   "source": [
    "Now that the analyiss is complete, let's examine the results"
   ]
  },
  {
   "cell_type": "code",
   "execution_count": 7,
   "metadata": {},
   "outputs": [
    {
     "data": {
      "text/plain": [
       "0.019994645742959616"
      ]
     },
     "execution_count": 7,
     "metadata": {},
     "output_type": "execute_result"
    }
   ],
   "source": [
    "el._electrical_losses[0][0]"
   ]
  },
  {
   "cell_type": "code",
   "execution_count": 8,
   "metadata": {},
   "outputs": [
    {
     "name": "stdout",
     "output_type": "stream",
     "text": [
      "Electrical losses are 2.0 percent\n"
     ]
    }
   ],
   "source": [
    "# Electrical losses for the wind farm\n",
    "print('Electrical losses are %s percent' % np.round(el._electrical_losses[0][0]*100,1))"
   ]
  },
  {
   "cell_type": "markdown",
   "metadata": {},
   "source": [
    "Now let's plot electrical losses by month"
   ]
  },
  {
   "cell_type": "code",
   "execution_count": 9,
   "metadata": {},
   "outputs": [
    {
     "name": "stderr",
     "output_type": "stream",
     "text": [
      "/Users/esimley/opt/anaconda3/lib/python3.7/site-packages/pandas/plotting/_converter.py:129: FutureWarning: Using an implicitly registered datetime converter for a matplotlib plotting method. The converter was registered by pandas on import. Future versions of pandas will require you to explicitly register matplotlib converters.\n",
      "\n",
      "To register the converters:\n",
      "\t>>> from pandas.plotting import register_matplotlib_converters\n",
      "\t>>> register_matplotlib_converters()\n",
      "  warnings.warn(msg, FutureWarning)\n"
     ]
    },
    {
     "data": {
      "text/plain": [
       "Text(0, 0.5, 'Electrical Losses (%)')"
      ]
     },
     "execution_count": 9,
     "metadata": {},
     "output_type": "execute_result"
    },
    {
     "data": {
      "image/png": "[encoded data removed]",
      "text/plain": [
       "<Figure size 576x288 with 1 Axes>"
      ]
     },
     "metadata": {
      "needs_background": "light"
     },
     "output_type": "display_data"
    }
   ],
   "source": [
    "plt.figure(figsize = (8,4))\n",
    "monthly_merge = el._merge_df.resample('MS').sum()\n",
    "plt.plot((monthly_merge['corrected_energy'] - monthly_merge['energy_kwh']) / monthly_merge['corrected_energy'] * 100)\n",
    "plt.xlabel('Month')\n",
    "plt.ylabel('Electrical Losses (%)')"
   ]
  },
  {
   "cell_type": "markdown",
   "metadata": {},
   "source": [
    "We see that electrical losses vary between 1.98 and 2.02%. This is a narrow range, but keep in mind the meter data for La Haute Borne was synthesized by NREL based on the SCADA data and sampling around a 2% electrical loss with a standard deviation of 0.5%. Part of the reason for the very low spread in estimated monthly electrical losses is that uncertainty was introduced to the meter data at the 10-minute level when the data were synthesized. This uncertainty tends to get averaged out over the period of record. Normally electrical losses using actual meter data would not be this consistent and would generally show seasonal trends."
   ]
  },
  {
   "cell_type": "markdown",
   "metadata": {},
   "source": [
    "### Electrical loss estimation including uncertainty quantification\n",
    "\n",
    "Next we create an Electrical Loss object with uncertainty quantification enabled and the number of Monte Carlo simulations set to 3000. This method calculates uncertainty in the electrical losses through a Monte Carlo sampling of power data based on its assumed measurement uncertainty of 0.5%. Furthermore, if dealing with monthly meter data, a range of availabiity thresholds used to remove months with low data coverage is sampled. "
   ]
  },
  {
   "cell_type": "code",
   "execution_count": 10,
   "metadata": {},
   "outputs": [
    {
     "name": "stderr",
     "output_type": "stream",
     "text": [
      "INFO:operational_analysis.methods.electrical_losses:Initializing Electrical Losses Object\n",
      "INFO:operational_analysis.methods.electrical_losses:Note: uncertainty quantification will be performed in the calculation\n"
     ]
    }
   ],
   "source": [
    "# Create Electrical Loss object\n",
    "el = electrical_losses.ElectricalLosses(project, UQ = True, # enable UQ\n",
    "                                        num_sim = 3000 # number of Monte Carlo simulations to perform\n",
    "                                       )"
   ]
  },
  {
   "cell_type": "code",
   "execution_count": 11,
   "metadata": {},
   "outputs": [
    {
     "name": "stderr",
     "output_type": "stream",
     "text": [
      "INFO:operational_analysis.methods.electrical_losses:Processing SCADA data\n",
      "INFO:operational_analysis.methods.electrical_losses:Processing meter data\n",
      "INFO:operational_analysis.methods.electrical_losses:Calculating electrical losses\n",
      "100%|██████████| 3000/3000 [00:10<00:00, 292.52it/s]\n"
     ]
    }
   ],
   "source": [
    "# Now we run the analysis using the run() function in the method\n",
    "el.run(uncertainty_meter=0.005, # 0.5% uncertainty in meter data\n",
    "       uncertainty_scada=0.005, # 0.5% uncertainty in scada data\n",
    "       uncertainty_correction_thresh=(0.9, 0.995) # If dealing with monthly meter data, exclude months with less than 95%\n",
    "                                          # data coverage\n",
    "      )"
   ]
  },
  {
   "cell_type": "markdown",
   "metadata": {},
   "source": [
    "Now let's examine the results from the Monte Carlo simulations"
   ]
  },
  {
   "cell_type": "code",
   "execution_count": 12,
   "metadata": {},
   "outputs": [
    {
     "data": {
      "text/plain": [
       "0.02008757941003309"
      ]
     },
     "execution_count": 12,
     "metadata": {},
     "output_type": "execute_result"
    }
   ],
   "source": [
    "np.mean(el._electrical_losses)"
   ]
  },
  {
   "cell_type": "code",
   "execution_count": 13,
   "metadata": {},
   "outputs": [
    {
     "data": {
      "text/plain": [
       "0.006770014201072663"
      ]
     },
     "execution_count": 13,
     "metadata": {},
     "output_type": "execute_result"
    }
   ],
   "source": [
    "np.std(el._electrical_losses)"
   ]
  },
  {
   "cell_type": "code",
   "execution_count": 14,
   "metadata": {},
   "outputs": [
    {
     "name": "stdout",
     "output_type": "stream",
     "text": [
      "Electrical losses are 2.0 percent\n",
      "Uncertainty in the electrical loss estimate is 0.7 percent\n"
     ]
    }
   ],
   "source": [
    "# Electrical losses for the wind farm\n",
    "print('Electrical losses are %s percent' % np.round(np.mean(el._electrical_losses)*100,1))\n",
    "\n",
    "print('Uncertainty in the electrical loss estimate is %s percent' % np.round(np.std(el._electrical_losses)*100,1))"
   ]
  },
  {
   "cell_type": "markdown",
   "metadata": {},
   "source": [
    "Again, the expected electrical losses are 2.0 percent. The uncertainty in the calculated losses is estimated to be 0.7%. This uncertainty value is given by the standard deviation of electrical losses over all Monte Carlo iterations and is primarily driven by the assumed 0.5% uncertainty for meter and SCADA power values. "
   ]
  }
 ],
 "metadata": {
  "kernelspec": {
   "display_name": "Python 3",
   "language": "python",
   "name": "python3"
  },
  "language_info": {
   "codemirror_mode": {
    "name": "ipython",
    "version": 3
   },
   "file_extension": ".py",
   "mimetype": "text/x-python",
   "name": "python",
   "nbconvert_exporter": "python",
   "pygments_lexer": "ipython3",
   "version": "3.7.4"
  },
  "toc": {
   "base_numbering": 1,
   "nav_menu": {},
   "number_sections": true,
   "sideBar": true,
   "skip_h1_title": false,
   "title_cell": "Table of Contents",
   "title_sidebar": "Contents",
   "toc_cell": false,
   "toc_position": {},
   "toc_section_display": true,
   "toc_window_display": false
  }
 },
 "nbformat": 4,
 "nbformat_minor": 2
}
