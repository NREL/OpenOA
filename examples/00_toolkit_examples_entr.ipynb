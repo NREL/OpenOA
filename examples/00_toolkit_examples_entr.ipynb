{
 "cells": [
  {
   "cell_type": "markdown",
   "metadata": {},
   "source": [
    "## Use ENGIE’s open data set\n",
    "\n",
    "ENGIE provides access to the data of its 'La Haute Borne' wind farm through https://opendata-renewables.engie.com and through an API. The data can be used to create additional turbine objects and gives users the opportunity to work with further real-world data. \n",
    "\n",
    "The series of notebooks in the 'examples' folder uses SCADA data downloaded from https://opendata-renewables.engie.com, saved in the 'examples/data' folder. Additional plant level meter, availability, and curtailment data were synthesized based on the SCADA data.\n",
    "\n",
    "In the following example, data is loaded into a turbine object and plotted as a power curve. The selected turbine can be changed if desired."
   ]
  },
  {
   "cell_type": "markdown",
   "metadata": {},
   "source": [
    "### Connect to the ENTR Warehouse"
   ]
  },
  {
   "cell_type": "code",
   "execution_count": 1,
   "metadata": {},
   "outputs": [],
   "source": [
    "%load_ext autoreload\n",
    "%autoreload 2"
   ]
  },
  {
   "cell_type": "code",
   "execution_count": 2,
   "metadata": {},
   "outputs": [],
   "source": [
    "import pandas as pd"
   ]
  },
  {
   "cell_type": "code",
   "execution_count": 3,
   "metadata": {
    "collapsed": false,
    "jupyter": {
     "outputs_hidden": false
    },
    "pycharm": {
     "name": "#%%\n"
    }
   },
   "outputs": [],
   "source": [
    "from operational_analysis.types import PlantData\n",
    "from operational_analysis.toolkits import unit_conversion as un"
   ]
  },
  {
   "cell_type": "code",
   "execution_count": 4,
   "metadata": {},
   "outputs": [
    {
     "name": "stderr",
     "output_type": "stream",
     "text": [
      "INFO:pyhive.hive:USE `default`\n",
      "INFO:pyhive.hive:SELECT Wind_turbine_name as Wind_turbine_name, \n",
      "                Date_time as Date_time, \n",
      "                cast(P_avg as float) as P_avg,\n",
      "                cast(Power_W as float) as Power_W,\n",
      "                cast(Ws_avg as float) as Ws_avg,\n",
      "                Wa_avg as Wa_avg,\n",
      "                Va_avg as Va_avg, \n",
      "                Ya_avg as Ya_avg, \n",
      "                Ot_avg as Ot_avg, \n",
      "                Ba_avg as Ba_avg \n",
      "                \n",
      "        FROM entr_warehouse.la_haute_borne_scada_for_openoa\n",
      "        \n"
     ]
    }
   ],
   "source": [
    "\n",
    "### DATAFRAMES\n",
    "\n",
    "plant = PlantData.from_entr(wind_plant=\"la_haute_borne_scada_for_openoa\")\n",
    "\n",
    "### METADATA\n",
    "\n",
    "# Set time frequencies of data in minutes\n",
    "plant._meter_freq = '10T'  # Daily meter data\n",
    "plant._curtail_freq = '10T'  # Daily curtailment data\n",
    "plant._scada_freq = '10T' # 10-min\n",
    "\n",
    "# Load meta data\n",
    "plant._lat_lon = (48.452, 5.588)\n",
    "plant._plant_capacity = 8.2 # MW\n",
    "plant.n_turbines = 4\n",
    "plant._turbine_capacity = 2.05 # MW\n",
    "\n",
    "\n",
    "### PRE-PROCESSING\n",
    "\n",
    "plant._scada.df['time'] = pd.to_datetime(plant._scada.df['Date_time'],utc=True).dt.tz_localize(None)\n",
    "\n",
    "# Remove duplicated timestamps and turbine id\n",
    "plant._scada.df = plant._scada.df.drop_duplicates(subset=['time','Wind_turbine_name'],keep='first')\n",
    "\n",
    "# Set time as index\n",
    "plant._scada.df.set_index('time',inplace=True,drop=False)\n",
    "\n",
    "plant._scada.df = plant._scada.df[(plant._scada.df[\"Ot_avg\"]>=-15.0) & (plant._scada.df[\"Ot_avg\"]<=45.0)]\n",
    "\n",
    "plant._scada.df[\"Power_W\"] = plant._scada.df[\"P_avg\"] * 1000\n",
    "\n",
    "# Convert pitch to range -180 to 180.\n",
    "plant._scada.df[\"Ba_avg\"] = plant._scada.df[\"Ba_avg\"] % 360\n",
    "plant._scada.df.loc[plant._scada.df[\"Ba_avg\"] > 180.0,\"Ba_avg\"] \\\n",
    "    = plant._scada.df.loc[plant._scada.df[\"Ba_avg\"] > 180.0,\"Ba_avg\"] - 360.0\n",
    "\n",
    "# Calculate energy\n",
    "plant._scada.df['energy_kwh'] = un.convert_power_to_energy(plant._scada.df[\"Power_W\"], plant._scada_freq) / 1000\n",
    "\n",
    "# Note: there is no vane direction variable defined in -25, so\n",
    "# making one up\n",
    "scada_map = {\n",
    "            \"time\"                 : \"time\",\n",
    "            \"Wind_turbine_name\"    : \"id\",\n",
    "            \"Power_W\"              : \"wtur_W_avg\",\n",
    "\n",
    "            \"Ws_avg\"               : \"wmet_wdspd_avg\",\n",
    "            \"Wa_avg\"               : \"wmet_HorWdDir_avg\",\n",
    "            \"Va_avg\"               : \"wmet_VaneDir_avg\",\n",
    "            \"Ya_avg\"               : \"wyaw_YwAng_avg\",\n",
    "            \"Ot_avg\"               : \"wmet_EnvTmp_avg\",\n",
    "            \"Ba_avg\"               : \"wrot_BlPthAngVal1_avg\",\n",
    "            }\n",
    "\n",
    "plant._scada.df.rename(scada_map, axis=\"columns\", inplace=True)\n",
    "\n",
    "# Remove the fields we are not yet interested in\n",
    "plant._scada.df.drop(['Date_time', 'time', 'P_avg'], axis=1, inplace=True)\n",
    "\n"
   ]
  },
  {
   "cell_type": "code",
   "execution_count": 5,
   "metadata": {},
   "outputs": [],
   "source": [
    "import matplotlib.pyplot as plt\n",
    "import numpy as np\n",
    "# import databricks.koalas as pd # replaces: 'import pandas as pd'\n",
    "\n",
    "from operational_analysis.toolkits import filters\n",
    "from operational_analysis.toolkits import power_curve\n",
    "\n",
    "import random\n",
    "import pandas as pd\n",
    "\n",
    "import time\n",
    "\n",
    "project = plant"
   ]
  },
  {
   "cell_type": "markdown",
   "metadata": {},
   "source": [
    "### Import the data"
   ]
  },
  {
   "cell_type": "code",
   "execution_count": 6,
   "metadata": {},
   "outputs": [
    {
     "data": {
      "text/plain": [
       "array(['R80711', 'R80721', 'R80736', 'R80790'], dtype=object)"
      ]
     },
     "execution_count": 6,
     "metadata": {},
     "output_type": "execute_result"
    }
   ],
   "source": [
    "# List of turbines\n",
    "turb_list = project.scada.df.id.unique()\n",
    "turb_list"
   ]
  },
  {
   "cell_type": "markdown",
   "metadata": {},
   "source": [
    "Let's examine the first turbine from the list above."
   ]
  },
  {
   "cell_type": "code",
   "execution_count": 7,
   "metadata": {},
   "outputs": [],
   "source": [
    "df = project.scada.df.loc[project.scada.df['id'] == turb_list[0]]\n",
    "windspeed = df[\"wmet_wdspd_avg\"]\n",
    "power_kw = df[\"wtur_W_avg\"]/1000 # Put into kW\n"
   ]
  },
  {
   "cell_type": "code",
   "execution_count": 8,
   "metadata": {},
   "outputs": [],
   "source": [
    "def plot_flagged_pc(ws, p, flag_bool, alpha):\n",
    "    plt.scatter(ws, p, s = 1, alpha = alpha)\n",
    "    plt.scatter(ws[flag_bool], p[flag_bool], s = 1, c = 'red')\n",
    "    plt.xlabel('Wind speed (m/s)')\n",
    "    plt.ylabel('Power (W)')\n",
    "    plt.show()"
   ]
  },
  {
   "cell_type": "markdown",
   "metadata": {},
   "source": [
    "First, we'll make a scatter plot the raw power curve data."
   ]
  },
  {
   "cell_type": "code",
   "execution_count": 9,
   "metadata": {},
   "outputs": [
    {
     "data": {
      "image/png": "[encoded data removed]",
      "text/plain": [
       "<Figure size 432x288 with 1 Axes>"
      ]
     },
     "metadata": {
      "needs_background": "light"
     },
     "output_type": "display_data"
    }
   ],
   "source": [
    "plot_flagged_pc(windspeed, power_kw, np.repeat(True, df.shape[0]), 1)"
   ]
  },
  {
   "cell_type": "markdown",
   "metadata": {},
   "source": [
    "### Range filter"
   ]
  },
  {
   "cell_type": "code",
   "execution_count": 10,
   "metadata": {},
   "outputs": [
    {
     "data": {
      "text/plain": [
       "Series([], Name: wmet_wdspd_avg, dtype: float64)"
      ]
     },
     "execution_count": 10,
     "metadata": {},
     "output_type": "execute_result"
    }
   ],
   "source": [
    "out_of_range = filters.range_flag(windspeed, below=0, above=70)\n",
    "windspeed[out_of_range].head()"
   ]
  },
  {
   "cell_type": "markdown",
   "metadata": {},
   "source": [
    "No wind speeds out of range\n",
    "\n",
    "### Window range filter\n",
    "\n",
    "Now, we'll apply a window range filter to remove data with power values outside of the window from 20 to 2100 kW for wind speeds between 5 and 40 m/s."
   ]
  },
  {
   "cell_type": "code",
   "execution_count": 11,
   "metadata": {},
   "outputs": [
    {
     "data": {
      "image/png": "[encoded data removed]",
      "text/plain": [
       "<Figure size 432x288 with 1 Axes>"
      ]
     },
     "metadata": {
      "needs_background": "light"
     },
     "output_type": "display_data"
    }
   ],
   "source": [
    "out_of_window = filters.window_range_flag(windspeed, 5., 40, power_kw, 20., 2100.)\n",
    "plot_flagged_pc(windspeed, power_kw, out_of_window, 0.2)"
   ]
  },
  {
   "cell_type": "markdown",
   "metadata": {},
   "source": [
    "Let's remove these flagged data from consideration"
   ]
  },
  {
   "cell_type": "code",
   "execution_count": 12,
   "metadata": {},
   "outputs": [],
   "source": [
    "windspeed_filt1 = windspeed[~out_of_window]\n",
    "power_kw_filt1 = power_kw[~out_of_window]"
   ]
  },
  {
   "cell_type": "markdown",
   "metadata": {},
   "source": [
    "### Bin filter\n",
    "\n",
    "We may be interested in fitting a power curve to data representing 'normal' turbine operation. In other words, we want to flag all anomalous data or data represenatative of underperformance. To do this, the 'bin_filter' function is useful. It works by binning the data by a specified variable, bin width, and start and end points. The criteria for flagging is based on some measure (scalar or standard deviation) from the mean or median of the bin center. \n",
    "\n",
    "As an example, let's bin on power in 100 kW increments, starting from 25.0 kW but stopping at 90% of peak power (i.e. we don't want to flag all the data at peak power and high wind speed. Let's use a scalar threshold of 1.5 m/s from the median for each bin. Let's also consider data on both sides of the curve by setting the 'direction' parameter to 'all'"
   ]
  },
  {
   "cell_type": "code",
   "execution_count": 13,
   "metadata": {},
   "outputs": [
    {
     "data": {
      "image/png": "[encoded data removed]",
      "text/plain": [
       "<Figure size 432x288 with 1 Axes>"
      ]
     },
     "metadata": {
      "needs_background": "light"
     },
     "output_type": "display_data"
    }
   ],
   "source": [
    "max_bin = 0.90*power_kw_filt1.max()\n",
    "bin_outliers = filters.bin_filter(power_kw_filt1, windspeed_filt1, 100, 1.5, 'median', 20., max_bin, 'scalar', 'all')\n",
    "plot_flagged_pc(windspeed_filt1, power_kw_filt1, bin_outliers, 0.5)"
   ]
  },
  {
   "cell_type": "markdown",
   "metadata": {},
   "source": [
    "As seen above, one call for the bin filter has done a decent job of cleaning up the power curve to represent 'normal' operation, without excessive removal of data points. There are a few points at peak power but low wind speed that weren't flagged, however. Let catch those, and then remove those as well as the flagged data above, and plot our 'clean' power curve "
   ]
  },
  {
   "cell_type": "code",
   "execution_count": 14,
   "metadata": {},
   "outputs": [],
   "source": [
    "windspeed_filt2 = windspeed_filt1[~bin_outliers]\n",
    "power_kw_filt2 = power_kw_filt1[~bin_outliers]"
   ]
  },
  {
   "cell_type": "markdown",
   "metadata": {},
   "source": [
    "#### Unresponsive Filter\n",
    "\n",
    "As a final filtering demonstration, we can look for an unrespsonsive sensor (i.e. repeating measurements). In this case, let's look for 3 or more repeating wind speed measurements:"
   ]
  },
  {
   "cell_type": "code",
   "execution_count": 15,
   "metadata": {},
   "outputs": [
    {
     "data": {
      "text/plain": [
       "Series([], Name: wmet_wdspd_avg, dtype: float64)"
      ]
     },
     "execution_count": 15,
     "metadata": {},
     "output_type": "execute_result"
    }
   ],
   "source": [
    "frozen = filters.unresponsive_flag(windspeed_filt2, 3)\n",
    "windspeed_filt2[frozen]"
   ]
  },
  {
   "cell_type": "markdown",
   "metadata": {},
   "source": [
    "We actually found a lot, so let's remove these data as well before moving on to power curve fitting.\n",
    "\n",
    "Note that many of the unresponsive sensor values identified above are likely caused by the discretization of the data to only two decimal places. However, the goal is to illustrate the filtering process."
   ]
  },
  {
   "cell_type": "code",
   "execution_count": 16,
   "metadata": {},
   "outputs": [],
   "source": [
    "windspeed_final = windspeed_filt2[~frozen]\n",
    "power_kw_final = power_kw_filt2[~frozen]"
   ]
  },
  {
   "cell_type": "markdown",
   "metadata": {},
   "source": [
    "##### Power curve fitting\n",
    "\n",
    "We will now consider three different models for fitting a power curve to the SCADA data."
   ]
  },
  {
   "cell_type": "code",
   "execution_count": 17,
   "metadata": {},
   "outputs": [],
   "source": [
    "# Fit the power curves\n",
    "iec_curve = power_curve.IEC(windspeed_final, power_kw_final)\n",
    "l5p_curve = power_curve.logistic_5_parametric(windspeed_final, power_kw_final)\n",
    "spline_curve = power_curve.gam(windspeed_final, power_kw_final, n_splines = 20)"
   ]
  },
  {
   "cell_type": "code",
   "execution_count": 18,
   "metadata": {},
   "outputs": [
    {
     "data": {
      "image/png": "[encoded data removed]",
      "text/plain": [
       "<Figure size 720x432 with 1 Axes>"
      ]
     },
     "metadata": {
      "needs_background": "light"
     },
     "output_type": "display_data"
    }
   ],
   "source": [
    "# Plot the results\n",
    "x = np.linspace(0,20,100)\n",
    "plt.figure(figsize = (10,6))\n",
    "plt.scatter(windspeed_final, power_kw_final, alpha=0.5, s = 1, c = 'gray')\n",
    "plt.plot(x, iec_curve(x), color=\"red\", label = 'IEC', linewidth = 3)\n",
    "plt.plot(x, spline_curve(x), color=\"C1\", label = 'Spline', linewidth = 3)\n",
    "plt.plot(x, l5p_curve(x), color=\"C2\", label = 'L5P', linewidth = 3)\n",
    "plt.xlabel('Wind speed (m/s)')\n",
    "plt.ylabel('Power (kW)')\n",
    "plt.legend()\n",
    "plt.show()"
   ]
  },
  {
   "cell_type": "markdown",
   "metadata": {},
   "source": [
    "The above plot shows that the IEC method accurately captures the power curve, although it results in a 'choppy' fit, while the L5P model (constrained by its parametric form) deviates from the knee of the power curve through peak production. The spline fit tends to fit the best."
   ]
  }
 ],
 "metadata": {
  "kernelspec": {
   "display_name": "Python 3 (ipykernel)",
   "language": "python",
   "name": "python3"
  },
  "language_info": {
   "codemirror_mode": {
    "name": "ipython",
    "version": 3
   },
   "file_extension": ".py",
   "mimetype": "text/x-python",
   "name": "python",
   "nbconvert_exporter": "python",
   "pygments_lexer": "ipython3",
   "version": "3.9.7"
  },
  "toc": {
   "base_numbering": 1,
   "nav_menu": {},
   "number_sections": true,
   "sideBar": true,
   "skip_h1_title": false,
   "title_cell": "Table of Contents",
   "title_sidebar": "Contents",
   "toc_cell": false,
   "toc_position": {},
   "toc_section_display": true,
   "toc_window_display": false
  }
 },
 "nbformat": 4,
 "nbformat_minor": 4
}
