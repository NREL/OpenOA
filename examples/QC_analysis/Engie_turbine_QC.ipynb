{
 "cells": [
  {
   "cell_type": "markdown",
   "metadata": {},
   "source": [
    "# Quality Check Diagnostic Work"
   ]
  },
  {
   "cell_type": "markdown",
   "metadata": {},
   "source": [
    "## Step 1: Load in Data"
   ]
  },
  {
   "cell_type": "code",
   "execution_count": 1,
   "metadata": {},
   "outputs": [],
   "source": [
    "%load_ext autoreload\n",
    "%autoreload 2"
   ]
  },
  {
   "cell_type": "code",
   "execution_count": 2,
   "metadata": {},
   "outputs": [],
   "source": [
    "from engie_QC import EngieQC\n",
    "from examples.turbine_analysis.engie_project import TurbineEngieOpenData\n",
    "from operational_analysis.methods.quality_check_automation import QCAuto\n",
    "import pandas as pd\n",
    "import numpy as np"
   ]
  },
  {
   "cell_type": "code",
   "execution_count": 3,
   "metadata": {},
   "outputs": [],
   "source": [
    "scada_df = pd.read_csv('engie_scada.csv')"
   ]
  },
  {
   "cell_type": "markdown",
   "metadata": {},
   "source": [
    "### Let's take a look at our scada data here:"
   ]
  },
  {
   "cell_type": "code",
   "execution_count": 4,
   "metadata": {},
   "outputs": [
    {
     "data": {
      "text/html": [
       "<div>\n",
       "<style scoped>\n",
       "    .dataframe tbody tr th:only-of-type {\n",
       "        vertical-align: middle;\n",
       "    }\n",
       "\n",
       "    .dataframe tbody tr th {\n",
       "        vertical-align: top;\n",
       "    }\n",
       "\n",
       "    .dataframe thead th {\n",
       "        text-align: right;\n",
       "    }\n",
       "</style>\n",
       "<table border=\"1\" class=\"dataframe\">\n",
       "  <thead>\n",
       "    <tr style=\"text-align: right;\">\n",
       "      <th></th>\n",
       "      <th>time</th>\n",
       "      <th>time.1</th>\n",
       "      <th>wtur_W_avg</th>\n",
       "      <th>wmet_wDir_avg</th>\n",
       "      <th>wmet_wdspd_avg</th>\n",
       "      <th>ID</th>\n",
       "    </tr>\n",
       "  </thead>\n",
       "  <tbody>\n",
       "    <tr>\n",
       "      <th>0</th>\n",
       "      <td>2013-01-01 00:00:00</td>\n",
       "      <td>2013-01-01 00:00:00</td>\n",
       "      <td>1303.77</td>\n",
       "      <td>174.13000</td>\n",
       "      <td>9.479999</td>\n",
       "      <td>R80711</td>\n",
       "    </tr>\n",
       "    <tr>\n",
       "      <th>1</th>\n",
       "      <td>2013-01-01 00:10:00</td>\n",
       "      <td>2013-01-01 00:10:00</td>\n",
       "      <td>1276.15</td>\n",
       "      <td>173.53000</td>\n",
       "      <td>9.240000</td>\n",
       "      <td>R80711</td>\n",
       "    </tr>\n",
       "    <tr>\n",
       "      <th>2</th>\n",
       "      <td>2013-01-01 00:20:00</td>\n",
       "      <td>2013-01-01 00:20:00</td>\n",
       "      <td>1286.34</td>\n",
       "      <td>172.52000</td>\n",
       "      <td>9.190000</td>\n",
       "      <td>R80711</td>\n",
       "    </tr>\n",
       "    <tr>\n",
       "      <th>3</th>\n",
       "      <td>2013-01-01 00:30:00</td>\n",
       "      <td>2013-01-01 00:30:00</td>\n",
       "      <td>1081.10</td>\n",
       "      <td>170.12000</td>\n",
       "      <td>8.460000</td>\n",
       "      <td>R80711</td>\n",
       "    </tr>\n",
       "    <tr>\n",
       "      <th>4</th>\n",
       "      <td>2013-01-01 00:40:00</td>\n",
       "      <td>2013-01-01 00:40:00</td>\n",
       "      <td>1062.01</td>\n",
       "      <td>171.89999</td>\n",
       "      <td>8.490000</td>\n",
       "      <td>R80711</td>\n",
       "    </tr>\n",
       "  </tbody>\n",
       "</table>\n",
       "</div>"
      ],
      "text/plain": [
       "                  time               time.1  wtur_W_avg  wmet_wDir_avg  \\\n",
       "0  2013-01-01 00:00:00  2013-01-01 00:00:00     1303.77      174.13000   \n",
       "1  2013-01-01 00:10:00  2013-01-01 00:10:00     1276.15      173.53000   \n",
       "2  2013-01-01 00:20:00  2013-01-01 00:20:00     1286.34      172.52000   \n",
       "3  2013-01-01 00:30:00  2013-01-01 00:30:00     1081.10      170.12000   \n",
       "4  2013-01-01 00:40:00  2013-01-01 00:40:00     1062.01      171.89999   \n",
       "\n",
       "   wmet_wdspd_avg      ID  \n",
       "0        9.479999  R80711  \n",
       "1        9.240000  R80711  \n",
       "2        9.190000  R80711  \n",
       "3        8.460000  R80711  \n",
       "4        8.490000  R80711  "
      ]
     },
     "execution_count": 4,
     "metadata": {},
     "output_type": "execute_result"
    }
   ],
   "source": [
    "scada_df.head()"
   ]
  },
  {
   "cell_type": "markdown",
   "metadata": {},
   "source": [
    "### We have an extra time column that we want to remove. Let's do that with the \"drop\" method."
   ]
  },
  {
   "cell_type": "code",
   "execution_count": 5,
   "metadata": {},
   "outputs": [],
   "source": [
    "scada_df.drop(columns = 'time.1', inplace=True, axis=1)"
   ]
  },
  {
   "cell_type": "markdown",
   "metadata": {},
   "source": [
    "### Let's also check the datatypes for each column."
   ]
  },
  {
   "cell_type": "code",
   "execution_count": 6,
   "metadata": {},
   "outputs": [
    {
     "data": {
      "text/plain": [
       "time               object\n",
       "wtur_W_avg        float64\n",
       "wmet_wDir_avg     float64\n",
       "wmet_wdspd_avg    float64\n",
       "ID                 object\n",
       "dtype: object"
      ]
     },
     "execution_count": 6,
     "metadata": {},
     "output_type": "execute_result"
    }
   ],
   "source": [
    "scada_df.dtypes"
   ]
  },
  {
   "cell_type": "markdown",
   "metadata": {},
   "source": [
    "### It looks like we need to convert our 'time' column to a datetime. Let's do that and then set 'time' as our index:"
   ]
  },
  {
   "cell_type": "code",
   "execution_count": 7,
   "metadata": {},
   "outputs": [],
   "source": [
    "scada_df['time'] = pd.to_datetime(scada_df['time'])\n",
    "scada_df.set_index('time', inplace=True, drop=False)"
   ]
  },
  {
   "cell_type": "markdown",
   "metadata": {},
   "source": [
    "### One last check:"
   ]
  },
  {
   "cell_type": "code",
   "execution_count": 8,
   "metadata": {},
   "outputs": [
    {
     "data": {
      "text/html": [
       "<div>\n",
       "<style scoped>\n",
       "    .dataframe tbody tr th:only-of-type {\n",
       "        vertical-align: middle;\n",
       "    }\n",
       "\n",
       "    .dataframe tbody tr th {\n",
       "        vertical-align: top;\n",
       "    }\n",
       "\n",
       "    .dataframe thead th {\n",
       "        text-align: right;\n",
       "    }\n",
       "</style>\n",
       "<table border=\"1\" class=\"dataframe\">\n",
       "  <thead>\n",
       "    <tr style=\"text-align: right;\">\n",
       "      <th></th>\n",
       "      <th>time</th>\n",
       "      <th>wtur_W_avg</th>\n",
       "      <th>wmet_wDir_avg</th>\n",
       "      <th>wmet_wdspd_avg</th>\n",
       "      <th>ID</th>\n",
       "    </tr>\n",
       "    <tr>\n",
       "      <th>time</th>\n",
       "      <th></th>\n",
       "      <th></th>\n",
       "      <th></th>\n",
       "      <th></th>\n",
       "      <th></th>\n",
       "    </tr>\n",
       "  </thead>\n",
       "  <tbody>\n",
       "    <tr>\n",
       "      <th>2013-01-01 00:00:00</th>\n",
       "      <td>2013-01-01 00:00:00</td>\n",
       "      <td>1303.77</td>\n",
       "      <td>174.13000</td>\n",
       "      <td>9.479999</td>\n",
       "      <td>R80711</td>\n",
       "    </tr>\n",
       "    <tr>\n",
       "      <th>2013-01-01 00:10:00</th>\n",
       "      <td>2013-01-01 00:10:00</td>\n",
       "      <td>1276.15</td>\n",
       "      <td>173.53000</td>\n",
       "      <td>9.240000</td>\n",
       "      <td>R80711</td>\n",
       "    </tr>\n",
       "    <tr>\n",
       "      <th>2013-01-01 00:20:00</th>\n",
       "      <td>2013-01-01 00:20:00</td>\n",
       "      <td>1286.34</td>\n",
       "      <td>172.52000</td>\n",
       "      <td>9.190000</td>\n",
       "      <td>R80711</td>\n",
       "    </tr>\n",
       "    <tr>\n",
       "      <th>2013-01-01 00:30:00</th>\n",
       "      <td>2013-01-01 00:30:00</td>\n",
       "      <td>1081.10</td>\n",
       "      <td>170.12000</td>\n",
       "      <td>8.460000</td>\n",
       "      <td>R80711</td>\n",
       "    </tr>\n",
       "    <tr>\n",
       "      <th>2013-01-01 00:40:00</th>\n",
       "      <td>2013-01-01 00:40:00</td>\n",
       "      <td>1062.01</td>\n",
       "      <td>171.89999</td>\n",
       "      <td>8.490000</td>\n",
       "      <td>R80711</td>\n",
       "    </tr>\n",
       "  </tbody>\n",
       "</table>\n",
       "</div>"
      ],
      "text/plain": [
       "                                   time  wtur_W_avg  wmet_wDir_avg  \\\n",
       "time                                                                 \n",
       "2013-01-01 00:00:00 2013-01-01 00:00:00     1303.77      174.13000   \n",
       "2013-01-01 00:10:00 2013-01-01 00:10:00     1276.15      173.53000   \n",
       "2013-01-01 00:20:00 2013-01-01 00:20:00     1286.34      172.52000   \n",
       "2013-01-01 00:30:00 2013-01-01 00:30:00     1081.10      170.12000   \n",
       "2013-01-01 00:40:00 2013-01-01 00:40:00     1062.01      171.89999   \n",
       "\n",
       "                     wmet_wdspd_avg      ID  \n",
       "time                                         \n",
       "2013-01-01 00:00:00        9.479999  R80711  \n",
       "2013-01-01 00:10:00        9.240000  R80711  \n",
       "2013-01-01 00:20:00        9.190000  R80711  \n",
       "2013-01-01 00:30:00        8.460000  R80711  \n",
       "2013-01-01 00:40:00        8.490000  R80711  "
      ]
     },
     "execution_count": 8,
     "metadata": {},
     "output_type": "execute_result"
    }
   ],
   "source": [
    "scada_df.head()"
   ]
  },
  {
   "cell_type": "markdown",
   "metadata": {},
   "source": [
    "## Step 2: Initializing QC and Performing the Run Method"
   ]
  },
  {
   "cell_type": "markdown",
   "metadata": {},
   "source": [
    "### Now that we have our dataset with the necessary columns and datatypes, we are ready to perform our quality check diagnostic. This analysis will not make the adjustments for us, but it will allow us to quickly flag some key irregularities that we need to manage before going on. \n",
    "\n",
    "### To start, let's initialize a QCAuto object, qc, and call its run method. "
   ]
  },
  {
   "cell_type": "code",
   "execution_count": 9,
   "metadata": {},
   "outputs": [
    {
     "name": "stderr",
     "output_type": "stream",
     "text": [
      "INFO:operational_analysis.methods.quality_check_automation:Initializing QC_Automation Object\n"
     ]
    }
   ],
   "source": [
    "qc = QCAuto(scada_df = scada_df, ws_field = 'wmet_wdspd_avg', power_field= 'wtur_W_avg', time_field = 'time', id_field= 'ID', freq = '10T', lat_lon = (42,-90))"
   ]
  },
  {
   "cell_type": "code",
   "execution_count": 10,
   "metadata": {},
   "outputs": [
    {
     "name": "stderr",
     "output_type": "stream",
     "text": [
      "INFO:operational_analysis.methods.quality_check_automation:Determining dtype values\n",
      "INFO:operational_analysis.methods.quality_check_automation:Identifying Nans\n",
      "INFO:operational_analysis.methods.quality_check_automation:Identifying Time Duplications\n",
      "INFO:operational_analysis.methods.quality_check_automation:Identifying Time Gaps\n",
      "INFO:operational_analysis.methods.quality_check_automation:Evaluating timezone deviation from UTC\n",
      "INFO:root:GET: https://developer.nrel.gov/api/hsds// [/nrel/wtk-us.h5]\n",
      "INFO:root:status: 200\n",
      "INFO:root:got domain json: {'root': 'g-d146c6be-85f3-11e7-bf89-0242ac110008', 'class': 'domain', 'owner': 'nrel_admin', 'created': 1503266789.3004835, 'limits': {'min_chunk_size': 1048576, 'max_chunk_size': 8388608, 'max_request_size': 104857600, 'max_chunks_per_request': 1000}, 'version': '0.3', 'lastModified': 1503266789.3004835, 'hrefs': [{'rel': 'self', 'href': 'https://developer.nrel.gov/api/hsds/?domain=/nrel/wtk-us.h5'}, {'rel': 'database', 'href': 'https://developer.nrel.gov/api/hsds/datasets?domain=/nrel/wtk-us.h5'}, {'rel': 'groupbase', 'href': 'https://developer.nrel.gov/api/hsds/groups?domain=/nrel/wtk-us.h5'}, {'rel': 'typebase', 'href': 'https://developer.nrel.gov/api/hsds/datatypes?domain=/nrel/wtk-us.h5'}, {'rel': 'root', 'href': 'https://developer.nrel.gov/api/hsds/groups/g-d146c6be-85f3-11e7-bf89-0242ac110008?domain=/nrel/wtk-us.h5'}, {'rel': 'acls', 'href': 'https://developer.nrel.gov/api/hsds/acls?domain=/nrel/wtk-us.h5'}, {'rel': 'parent', 'href': 'https://developer.nrel.gov/api/hsds/?domain=/nrel'}]}\n",
      "INFO:root:GET: https://developer.nrel.gov/api/hsds//groups/g-d146c6be-85f3-11e7-bf89-0242ac110008 [/nrel/wtk-us.h5]\n",
      "INFO:root:status: 200\n",
      "INFO:root:GET: https://developer.nrel.gov/api/hsds//groups/g-d146c6be-85f3-11e7-bf89-0242ac110008/links/datetime [/nrel/wtk-us.h5]\n",
      "INFO:root:status: 200\n",
      "INFO:root:GET: https://developer.nrel.gov/api/hsds//datasets/d-d2a8d808-85f3-11e7-bf89-0242ac110008 [/nrel/wtk-us.h5]\n",
      "INFO:root:status: 200\n",
      "INFO:root:selection: start (0,) stop [61368] step (1,)\n",
      "INFO:root:page_stop: 61368\n",
      "INFO:root:page_mshape: (61368,)\n",
      "INFO:root:GET: https://developer.nrel.gov/api/hsds//datasets/d-d2a8d808-85f3-11e7-bf89-0242ac110008/value [/nrel/wtk-us.h5]\n",
      "INFO:root:status: 200\n",
      "INFO:root:returning binary content, length: 859152\n",
      "INFO:root:binary response, 859152 bytes\n",
      "INFO:root:got arr: (61368,), cleaning up shape\n",
      "INFO:root:GET: https://developer.nrel.gov/api/hsds//groups/g-d146c6be-85f3-11e7-bf89-0242ac110008/links/coordinates [/nrel/wtk-us.h5]\n",
      "INFO:root:status: 200\n",
      "INFO:root:GET: https://developer.nrel.gov/api/hsds//datasets/d-70e214c6-85f4-11e7-bf89-0242ac110008 [/nrel/wtk-us.h5]\n",
      "INFO:root:status: 200\n",
      "INFO:root:selection: start (0, 0) stop [1, 2976] step (1, 1)\n",
      "INFO:root:page_stop: 2976\n",
      "INFO:root:page_mshape: (2976,)\n",
      "INFO:root:GET: https://developer.nrel.gov/api/hsds//datasets/d-70e214c6-85f4-11e7-bf89-0242ac110008/value [/nrel/wtk-us.h5]\n",
      "INFO:root:status: 200\n",
      "INFO:root:returning binary content, length: 47616\n",
      "INFO:root:binary response, 47616 bytes\n",
      "INFO:root:got arr: (2976,), cleaning up shape\n",
      "INFO:root:selection: start (1000, 0) stop [1001, 2976] step (1, 1)\n",
      "INFO:root:page_stop: 2976\n",
      "INFO:root:page_mshape: (2976,)\n",
      "INFO:root:GET: https://developer.nrel.gov/api/hsds//datasets/d-70e214c6-85f4-11e7-bf89-0242ac110008/value [/nrel/wtk-us.h5]\n"
     ]
    },
    {
     "name": "stdout",
     "output_type": "stream",
     "text": [
      "y,x indices for project: \t\t (1000, 1727)\n",
      "Coordinates of project: \t (42, -90)\n"
     ]
    },
    {
     "name": "stderr",
     "output_type": "stream",
     "text": [
      "INFO:root:status: 200\n",
      "INFO:root:returning binary content, length: 47616\n",
      "INFO:root:binary response, 47616 bytes\n",
      "INFO:root:got arr: (2976,), cleaning up shape\n",
      "INFO:root:GET: https://developer.nrel.gov/api/hsds//groups/g-d146c6be-85f3-11e7-bf89-0242ac110008/links/windspeed_80m [/nrel/wtk-us.h5]\n"
     ]
    },
    {
     "name": "stdout",
     "output_type": "stream",
     "text": [
      "Coordinates of project: \t (42.005676, -90.002197)\n"
     ]
    },
    {
     "name": "stderr",
     "output_type": "stream",
     "text": [
      "INFO:root:status: 200\n",
      "INFO:root:GET: https://developer.nrel.gov/api/hsds//datasets/d-d29fda32-85f3-11e7-bf89-0242ac110008 [/nrel/wtk-us.h5]\n",
      "INFO:root:status: 200\n",
      "INFO:root:selection: start (0, 1000, 1727) stop [61344, 1001, 1728] step (1, 1, 1)\n",
      "INFO:root:page_stop: 61344\n",
      "INFO:root:page_mshape: (61344,)\n",
      "INFO:root:GET: https://developer.nrel.gov/api/hsds//datasets/d-d29fda32-85f3-11e7-bf89-0242ac110008/value [/nrel/wtk-us.h5]\n",
      "INFO:root:status: 413\n",
      "INFO:root:Got response: 413\n",
      "INFO:root:got IOError: 413\n",
      "INFO:root:New chunks_per_page: 1278\n",
      "INFO:root:page_stop: 30672\n",
      "INFO:root:page_mshape: (30672,)\n",
      "INFO:root:GET: https://developer.nrel.gov/api/hsds//datasets/d-d29fda32-85f3-11e7-bf89-0242ac110008/value [/nrel/wtk-us.h5]\n",
      "INFO:root:status: 413\n",
      "INFO:root:Got response: 413\n",
      "INFO:root:got IOError: 413\n",
      "INFO:root:New chunks_per_page: 639\n",
      "INFO:root:page_stop: 15336\n",
      "INFO:root:page_mshape: (15336,)\n",
      "INFO:root:GET: https://developer.nrel.gov/api/hsds//datasets/d-d29fda32-85f3-11e7-bf89-0242ac110008/value [/nrel/wtk-us.h5]\n",
      "INFO:root:status: 200\n",
      "INFO:root:returning binary content, length: 61344\n",
      "INFO:root:binary response, 61344 bytes\n",
      "INFO:root:page_stop: 30672\n",
      "INFO:root:page_mshape: (15336,)\n",
      "INFO:root:GET: https://developer.nrel.gov/api/hsds//datasets/d-d29fda32-85f3-11e7-bf89-0242ac110008/value [/nrel/wtk-us.h5]\n",
      "INFO:root:status: 200\n",
      "INFO:root:returning binary content, length: 61344\n",
      "INFO:root:binary response, 61344 bytes\n",
      "INFO:root:page_stop: 46008\n",
      "INFO:root:page_mshape: (15336,)\n",
      "INFO:root:GET: https://developer.nrel.gov/api/hsds//datasets/d-d29fda32-85f3-11e7-bf89-0242ac110008/value [/nrel/wtk-us.h5]\n",
      "INFO:root:status: 200\n",
      "INFO:root:returning binary content, length: 61344\n",
      "INFO:root:binary response, 61344 bytes\n",
      "INFO:root:page_stop: 61344\n",
      "INFO:root:page_mshape: (15336,)\n",
      "INFO:root:GET: https://developer.nrel.gov/api/hsds//datasets/d-d29fda32-85f3-11e7-bf89-0242ac110008/value [/nrel/wtk-us.h5]\n",
      "INFO:root:status: 200\n",
      "INFO:root:returning binary content, length: 61344\n",
      "INFO:root:binary response, 61344 bytes\n",
      "INFO:root:got arr: (61344,), cleaning up shape\n",
      "INFO:operational_analysis.methods.quality_check_automation:Isolating Extrema Values\n",
      "INFO:operational_analysis.methods.quality_check_automation:QC Diagnostic Complete\n"
     ]
    }
   ],
   "source": [
    "qc.run()"
   ]
  },
  {
   "cell_type": "markdown",
   "metadata": {},
   "source": [
    "## Step 3: Deep Dive with QC Diagnostic Results"
   ]
  },
  {
   "cell_type": "markdown",
   "metadata": {},
   "source": [
    "### Let's take a deeper look at the results of our QC diagnostic. "
   ]
  },
  {
   "cell_type": "markdown",
   "metadata": {},
   "source": [
    "### We can start by doing a general scan of the range values and overall distribution for each column:"
   ]
  },
  {
   "cell_type": "code",
   "execution_count": 11,
   "metadata": {},
   "outputs": [
    {
     "data": {
      "text/plain": [
       "<Figure size 864x576 with 0 Axes>"
      ]
     },
     "metadata": {},
     "output_type": "display_data"
    },
    {
     "data": {
      "image/png": "[encoded data removed]",
      "text/plain": [
       "<Figure size 432x288 with 1 Axes>"
      ]
     },
     "metadata": {
      "needs_background": "light"
     },
     "output_type": "display_data"
    },
    {
     "data": {
      "image/png": "[encoded data removed]",
      "text/plain": [
       "<Figure size 432x288 with 1 Axes>"
      ]
     },
     "metadata": {
      "needs_background": "light"
     },
     "output_type": "display_data"
    },
    {
     "data": {
      "image/png": "[encoded data removed]",
      "text/plain": [
       "<Figure size 432x288 with 1 Axes>"
      ]
     },
     "metadata": {
      "needs_background": "light"
     },
     "output_type": "display_data"
    }
   ],
   "source": [
    "qc.column_plots()"
   ]
  },
  {
   "cell_type": "code",
   "execution_count": 12,
   "metadata": {},
   "outputs": [
    {
     "data": {
      "text/html": [
       "<div>\n",
       "<style scoped>\n",
       "    .dataframe tbody tr th:only-of-type {\n",
       "        vertical-align: middle;\n",
       "    }\n",
       "\n",
       "    .dataframe tbody tr th {\n",
       "        vertical-align: top;\n",
       "    }\n",
       "\n",
       "    .dataframe thead th {\n",
       "        text-align: right;\n",
       "    }\n",
       "</style>\n",
       "<table border=\"1\" class=\"dataframe\">\n",
       "  <thead>\n",
       "    <tr style=\"text-align: right;\">\n",
       "      <th></th>\n",
       "      <th>max</th>\n",
       "      <th>min</th>\n",
       "    </tr>\n",
       "  </thead>\n",
       "  <tbody>\n",
       "    <tr>\n",
       "      <th>time</th>\n",
       "      <td>2013-12-31 00:00:00</td>\n",
       "      <td>2013-01-01 00:00:00</td>\n",
       "    </tr>\n",
       "    <tr>\n",
       "      <th>wtur_W_avg</th>\n",
       "      <td>2051.38</td>\n",
       "      <td>-16.9</td>\n",
       "    </tr>\n",
       "    <tr>\n",
       "      <th>wmet_wDir_avg</th>\n",
       "      <td>360</td>\n",
       "      <td>0</td>\n",
       "    </tr>\n",
       "    <tr>\n",
       "      <th>wmet_wdspd_avg</th>\n",
       "      <td>20.01</td>\n",
       "      <td>0</td>\n",
       "    </tr>\n",
       "    <tr>\n",
       "      <th>ID</th>\n",
       "      <td>R80790</td>\n",
       "      <td>R80711</td>\n",
       "    </tr>\n",
       "  </tbody>\n",
       "</table>\n",
       "</div>"
      ],
      "text/plain": [
       "                                max                  min\n",
       "time            2013-12-31 00:00:00  2013-01-01 00:00:00\n",
       "wtur_W_avg                  2051.38                -16.9\n",
       "wmet_wDir_avg                   360                    0\n",
       "wmet_wdspd_avg                20.01                    0\n",
       "ID                           R80790               R80711"
      ]
     },
     "execution_count": 12,
     "metadata": {},
     "output_type": "execute_result"
    }
   ],
   "source": [
    "qc._max_min"
   ]
  },
  {
   "cell_type": "markdown",
   "metadata": {},
   "source": [
    "### These values look fairly reasonable and consistent. "
   ]
  },
  {
   "cell_type": "markdown",
   "metadata": {},
   "source": [
    "### Now we can peak into the timeseries data. Specifically, we want to determine the timezone and see how (if at all) Daylight Savings Time (DST) was accounted for in this dataset."
   ]
  },
  {
   "cell_type": "markdown",
   "metadata": {},
   "source": [
    "### Let's start this process by identifying any timestamp duplications and timestamp gaps. Duplications in October and gaps in March would suggest DST."
   ]
  },
  {
   "cell_type": "code",
   "execution_count": 13,
   "metadata": {},
   "outputs": [
    {
     "data": {
      "text/plain": [
       "time\n",
       "2013-03-31 01:00:00   2013-03-31 01:00:00\n",
       "2013-03-31 01:10:00   2013-03-31 01:10:00\n",
       "2013-03-31 01:20:00   2013-03-31 01:20:00\n",
       "2013-03-31 01:30:00   2013-03-31 01:30:00\n",
       "2013-03-31 01:40:00   2013-03-31 01:40:00\n",
       "2013-03-31 01:50:00   2013-03-31 01:50:00\n",
       "2013-03-31 01:00:00   2013-03-31 01:00:00\n",
       "2013-03-31 01:10:00   2013-03-31 01:10:00\n",
       "2013-03-31 01:20:00   2013-03-31 01:20:00\n",
       "2013-03-31 01:30:00   2013-03-31 01:30:00\n",
       "2013-03-31 01:40:00   2013-03-31 01:40:00\n",
       "2013-03-31 01:50:00   2013-03-31 01:50:00\n",
       "2013-03-31 01:00:00   2013-03-31 01:00:00\n",
       "2013-03-31 01:10:00   2013-03-31 01:10:00\n",
       "2013-03-31 01:20:00   2013-03-31 01:20:00\n",
       "2013-03-31 01:30:00   2013-03-31 01:30:00\n",
       "2013-03-31 01:40:00   2013-03-31 01:40:00\n",
       "2013-03-31 01:50:00   2013-03-31 01:50:00\n",
       "2013-03-31 01:00:00   2013-03-31 01:00:00\n",
       "2013-03-31 01:10:00   2013-03-31 01:10:00\n",
       "2013-03-31 01:20:00   2013-03-31 01:20:00\n",
       "2013-03-31 01:30:00   2013-03-31 01:30:00\n",
       "2013-03-31 01:40:00   2013-03-31 01:40:00\n",
       "2013-03-31 01:50:00   2013-03-31 01:50:00\n",
       "Name: time, dtype: datetime64[ns]"
      ]
     },
     "execution_count": 13,
     "metadata": {},
     "output_type": "execute_result"
    }
   ],
   "source": [
    "qc._time_duplications "
   ]
  },
  {
   "cell_type": "code",
   "execution_count": 14,
   "metadata": {},
   "outputs": [
    {
     "data": {
      "text/plain": [
       "3738    2013-01-26 23:00:00\n",
       "8923    2013-03-03 23:10:00\n",
       "8924    2013-03-03 23:20:00\n",
       "8925    2013-03-03 23:30:00\n",
       "8926    2013-03-03 23:40:00\n",
       "8927    2013-03-03 23:50:00\n",
       "8928    2013-03-04 00:00:00\n",
       "8929    2013-03-04 00:10:00\n",
       "8930    2013-03-04 00:20:00\n",
       "8931    2013-03-04 00:30:00\n",
       "8932    2013-03-04 00:40:00\n",
       "8933    2013-03-04 00:50:00\n",
       "8934    2013-03-04 01:00:00\n",
       "8935    2013-03-04 01:10:00\n",
       "8936    2013-03-04 01:20:00\n",
       "8937    2013-03-04 01:30:00\n",
       "8938    2013-03-04 01:40:00\n",
       "8939    2013-03-04 01:50:00\n",
       "8940    2013-03-04 02:00:00\n",
       "8941    2013-03-04 02:10:00\n",
       "8942    2013-03-04 02:20:00\n",
       "8943    2013-03-04 02:30:00\n",
       "8944    2013-03-04 02:40:00\n",
       "8945    2013-03-04 02:50:00\n",
       "8946    2013-03-04 03:00:00\n",
       "8947    2013-03-04 03:10:00\n",
       "8948    2013-03-04 03:20:00\n",
       "8949    2013-03-04 03:30:00\n",
       "8950    2013-03-04 03:40:00\n",
       "8951    2013-03-04 03:50:00\n",
       "                ...        \n",
       "19261   2013-05-14 18:10:00\n",
       "19262   2013-05-14 18:20:00\n",
       "19263   2013-05-14 18:30:00\n",
       "19264   2013-05-14 18:40:00\n",
       "19265   2013-05-14 18:50:00\n",
       "19266   2013-05-14 19:00:00\n",
       "19267   2013-05-14 19:10:00\n",
       "19268   2013-05-14 19:20:00\n",
       "19269   2013-05-14 19:30:00\n",
       "19270   2013-05-14 19:40:00\n",
       "19271   2013-05-14 19:50:00\n",
       "19272   2013-05-14 20:00:00\n",
       "19273   2013-05-14 20:10:00\n",
       "19274   2013-05-14 20:20:00\n",
       "19275   2013-05-14 20:30:00\n",
       "19276   2013-05-14 20:40:00\n",
       "19277   2013-05-14 20:50:00\n",
       "19278   2013-05-14 21:00:00\n",
       "19279   2013-05-14 21:10:00\n",
       "19280   2013-05-14 21:20:00\n",
       "19281   2013-05-14 21:30:00\n",
       "19282   2013-05-14 21:40:00\n",
       "19283   2013-05-14 21:50:00\n",
       "19284   2013-05-14 22:00:00\n",
       "43056   2013-10-27 00:00:00\n",
       "43057   2013-10-27 00:10:00\n",
       "43058   2013-10-27 00:20:00\n",
       "43059   2013-10-27 00:30:00\n",
       "43060   2013-10-27 00:40:00\n",
       "43061   2013-10-27 00:50:00\n",
       "Length: 295, dtype: datetime64[ns]"
      ]
     },
     "execution_count": 14,
     "metadata": {},
     "output_type": "execute_result"
    }
   ],
   "source": [
    "qc._time_gaps"
   ]
  },
  {
   "cell_type": "markdown",
   "metadata": {},
   "source": [
    "### It looks like we have found a number of duplications and gaps, but these do not seem to correspond to DST. To confirm this, we can create a 'Daylight Savings Plot.' If we see breaks in the left plot and duplications in the right plot, that indicates that we need to apply a DST correction."
   ]
  },
  {
   "cell_type": "code",
   "execution_count": 15,
   "metadata": {},
   "outputs": [
    {
     "name": "stderr",
     "output_type": "stream",
     "text": [
      "/Users/nagarwal/anaconda3/envs/openoa-env4/lib/python3.7/site-packages/pandas/plotting/_converter.py:129: FutureWarning: Using an implicitly registered datetime converter for a matplotlib plotting method. The converter was registered by pandas on import. Future versions of pandas will require you to explicitly register matplotlib converters.\n",
      "\n",
      "To register the converters:\n",
      "\t>>> from pandas.plotting import register_matplotlib_converters\n",
      "\t>>> register_matplotlib_converters()\n",
      "  warnings.warn(msg, FutureWarning)\n"
     ]
    },
    {
     "data": {
      "image/png": "[encoded data removed]",
      "text/plain": [
       "<Figure size 864x1440 with 2 Axes>"
      ]
     },
     "metadata": {
      "needs_background": "light"
     },
     "output_type": "display_data"
    }
   ],
   "source": [
    "qc.daylight_savings_plot()"
   ]
  },
  {
   "cell_type": "markdown",
   "metadata": {},
   "source": [
    "### Now we can be pretty sure that we do not have to apply a DST correction; we will only have to shift our data according to the timezone (i.e. we want our data in UTC)."
   ]
  },
  {
   "cell_type": "markdown",
   "metadata": {},
   "source": [
    "### To do so, we can look at a diurnal plot that compares hourly average power values from the Wind Toolkit (UTC) and our dataset (timezone = ?)."
   ]
  },
  {
   "cell_type": "markdown",
   "metadata": {},
   "source": [
    "### From this plot, we can see that there is a shift of roughly ____ hours. To confirm, we can check our hour shift Series:"
   ]
  },
  {
   "cell_type": "code",
   "execution_count": 16,
   "metadata": {},
   "outputs": [
    {
     "data": {
      "text/html": [
       "<div>\n",
       "<style scoped>\n",
       "    .dataframe tbody tr th:only-of-type {\n",
       "        vertical-align: middle;\n",
       "    }\n",
       "\n",
       "    .dataframe tbody tr th {\n",
       "        vertical-align: top;\n",
       "    }\n",
       "\n",
       "    .dataframe thead th {\n",
       "        text-align: right;\n",
       "    }\n",
       "</style>\n",
       "<table border=\"1\" class=\"dataframe\">\n",
       "  <thead>\n",
       "    <tr style=\"text-align: right;\">\n",
       "      <th></th>\n",
       "      <th>Hour Shift Correlation</th>\n",
       "    </tr>\n",
       "  </thead>\n",
       "  <tbody>\n",
       "    <tr>\n",
       "      <th>0</th>\n",
       "      <td>-0.117647</td>\n",
       "    </tr>\n",
       "    <tr>\n",
       "      <th>1</th>\n",
       "      <td>0.111925</td>\n",
       "    </tr>\n",
       "    <tr>\n",
       "      <th>2</th>\n",
       "      <td>0.309655</td>\n",
       "    </tr>\n",
       "    <tr>\n",
       "      <th>3</th>\n",
       "      <td>0.479875</td>\n",
       "    </tr>\n",
       "    <tr>\n",
       "      <th>4</th>\n",
       "      <td>0.625424</td>\n",
       "    </tr>\n",
       "    <tr>\n",
       "      <th>5</th>\n",
       "      <td>0.745092</td>\n",
       "    </tr>\n",
       "    <tr>\n",
       "      <th>6</th>\n",
       "      <td>0.831142</td>\n",
       "    </tr>\n",
       "    <tr>\n",
       "      <th>7</th>\n",
       "      <td>0.866125</td>\n",
       "    </tr>\n",
       "    <tr>\n",
       "      <th>8</th>\n",
       "      <td>0.845016</td>\n",
       "    </tr>\n",
       "    <tr>\n",
       "      <th>9</th>\n",
       "      <td>0.754371</td>\n",
       "    </tr>\n",
       "    <tr>\n",
       "      <th>10</th>\n",
       "      <td>0.594860</td>\n",
       "    </tr>\n",
       "    <tr>\n",
       "      <th>11</th>\n",
       "      <td>0.386329</td>\n",
       "    </tr>\n",
       "    <tr>\n",
       "      <th>12</th>\n",
       "      <td>0.151680</td>\n",
       "    </tr>\n",
       "    <tr>\n",
       "      <th>13</th>\n",
       "      <td>-0.070041</td>\n",
       "    </tr>\n",
       "    <tr>\n",
       "      <th>14</th>\n",
       "      <td>-0.269346</td>\n",
       "    </tr>\n",
       "    <tr>\n",
       "      <th>15</th>\n",
       "      <td>-0.447535</td>\n",
       "    </tr>\n",
       "    <tr>\n",
       "      <th>16</th>\n",
       "      <td>-0.613169</td>\n",
       "    </tr>\n",
       "    <tr>\n",
       "      <th>17</th>\n",
       "      <td>-0.756662</td>\n",
       "    </tr>\n",
       "    <tr>\n",
       "      <th>18</th>\n",
       "      <td>-0.862357</td>\n",
       "    </tr>\n",
       "    <tr>\n",
       "      <th>19</th>\n",
       "      <td>-0.912848</td>\n",
       "    </tr>\n",
       "    <tr>\n",
       "      <th>20</th>\n",
       "      <td>-0.892848</td>\n",
       "    </tr>\n",
       "    <tr>\n",
       "      <th>21</th>\n",
       "      <td>-0.788783</td>\n",
       "    </tr>\n",
       "    <tr>\n",
       "      <th>22</th>\n",
       "      <td>-0.602016</td>\n",
       "    </tr>\n",
       "    <tr>\n",
       "      <th>23</th>\n",
       "      <td>-0.368242</td>\n",
       "    </tr>\n",
       "  </tbody>\n",
       "</table>\n",
       "</div>"
      ],
      "text/plain": [
       "    Hour Shift Correlation\n",
       "0                -0.117647\n",
       "1                 0.111925\n",
       "2                 0.309655\n",
       "3                 0.479875\n",
       "4                 0.625424\n",
       "5                 0.745092\n",
       "6                 0.831142\n",
       "7                 0.866125\n",
       "8                 0.845016\n",
       "9                 0.754371\n",
       "10                0.594860\n",
       "11                0.386329\n",
       "12                0.151680\n",
       "13               -0.070041\n",
       "14               -0.269346\n",
       "15               -0.447535\n",
       "16               -0.613169\n",
       "17               -0.756662\n",
       "18               -0.862357\n",
       "19               -0.912848\n",
       "20               -0.892848\n",
       "21               -0.788783\n",
       "22               -0.602016\n",
       "23               -0.368242"
      ]
     },
     "execution_count": 16,
     "metadata": {},
     "output_type": "execute_result"
    }
   ],
   "source": [
    "qc._hour_shift"
   ]
  },
  {
   "cell_type": "markdown",
   "metadata": {},
   "source": [
    "### This series represents the correlation between the UTC Wind Toolkit values and our dataset. Each entry represents the correlation if we were to shift our dataset by x hours."
   ]
  },
  {
   "cell_type": "markdown",
   "metadata": {},
   "source": [
    "### From this plot, we can infer that our dataset is in local () time. This is corroborated by our diurnal plot. To shift our data to UTC, we need to move our data over by ____ hours."
   ]
  },
  {
   "cell_type": "markdown",
   "metadata": {},
   "source": [
    "### Now that we have gathered some useful information about our timeseries, the one last check we may want to make is to inspect each turbine profile. We can look at each turbine's power curve and perform an initial scan for irregularities."
   ]
  },
  {
   "cell_type": "code",
   "execution_count": 17,
   "metadata": {},
   "outputs": [
    {
     "data": {
      "image/png": "[encoded data removed]",
      "text/plain": [
       "<Figure size 1080x360 with 4 Axes>"
      ]
     },
     "metadata": {
      "needs_background": "light"
     },
     "output_type": "display_data"
    }
   ],
   "source": [
    "qc.turb_plots()"
   ]
  },
  {
   "cell_type": "markdown",
   "metadata": {},
   "source": [
    "### Overall, these plots do not look too unusual. We will, however, want to filter them to flag underperformance/curtailment events. That will occur in the next tutorial. "
   ]
  },
  {
   "cell_type": "markdown",
   "metadata": {},
   "source": [
    "## Step 4: Performing adjustments on our data"
   ]
  },
  {
   "cell_type": "markdown",
   "metadata": {},
   "source": [
    "## Step 5: Double-checking with our QC diagnostic"
   ]
  }
 ],
 "metadata": {
  "kernelspec": {
   "display_name": "Python 3",
   "language": "python",
   "name": "python3"
  },
  "language_info": {
   "codemirror_mode": {
    "name": "ipython",
    "version": 3
   },
   "file_extension": ".py",
   "mimetype": "text/x-python",
   "name": "python",
   "nbconvert_exporter": "python",
   "pygments_lexer": "ipython3",
   "version": "3.7.3"
  }
 },
 "nbformat": 4,
 "nbformat_minor": 2
}
