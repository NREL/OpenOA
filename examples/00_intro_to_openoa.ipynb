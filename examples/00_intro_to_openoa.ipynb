{
 "cells": [
  {
   "cell_type": "markdown",
   "id": "c2965072-a76d-481d-8581-cb530cb1e1ba",
   "metadata": {},
   "source": [
    "# Intro to the OpenOA `PlantData` and QA Methods\n",
    "\n",
    "In this example we will be using the ENGIE open data set for the La Haute Borne wind power plant, and demonstrating how to use the quality assurance (QA) methods in OpenOA to help get this data ready for use with the `PlantData` class. This notebook will walk through the creation of the `project_Engie` module, especially the `prepare()` method that returns either the cleaned data or a `PlantData` object.\n",
    "\n",
    "\n",
    "## Using ENGIE's open data set\n",
    "\n",
    "ENGIE provides access to the data of its 'La Haute Borne' wind farm through https://opendata-renewables.engie.com and through an API. The data can be used to create additional turbine objects and gives users the opportunity to work with further real-world data. \n",
    "\n",
    "The series of notebooks in the 'examples' folder uses SCADA data downloaded from https://opendata-renewables.engie.com, saved in the 'examples/data' folder. Additional plant level meter, availability, and curtailment data were synthesized based on the SCADA data.\n",
    "\n",
    "## Imports"
   ]
  },
  {
   "cell_type": "code",
   "execution_count": 1,
   "id": "d87ca084-5f82-452e-be7d-48256b786519",
   "metadata": {},
   "outputs": [],
   "source": [
    "import numpy as np\n",
    "import pandas as pd\n",
    "\n",
    "from openoa import PlantData\n",
    "from openoa.utils import qa"
   ]
  },
  {
   "cell_type": "markdown",
   "id": "3660921a-0a84-450d-b237-12580beb186e",
   "metadata": {},
   "source": [
    "## Step 1: Load the SCADA data "
   ]
  }
 ],
 "metadata": {
  "kernelspec": {
   "display_name": "Python 3",
   "language": "python",
   "name": "python3"
  },
  "language_info": {
   "codemirror_mode": {
    "name": "ipython",
    "version": 3
   },
   "file_extension": ".py",
   "mimetype": "text/x-python",
   "name": "python",
   "nbconvert_exporter": "python",
   "pygments_lexer": "ipython3",
   "version": "3.8.5"
  }
 },
 "nbformat": 4,
 "nbformat_minor": 5
}
